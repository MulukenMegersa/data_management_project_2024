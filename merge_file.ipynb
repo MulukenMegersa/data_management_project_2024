{
 "cells": [
  {
   "cell_type": "code",
   "execution_count": 1,
   "id": "initial_id",
   "metadata": {
    "collapsed": true,
    "ExecuteTime": {
     "end_time": "2024-02-15T18:49:19.460940Z",
     "start_time": "2024-02-15T18:49:18.774790Z"
    }
   },
   "outputs": [
    {
     "name": "stdout",
     "output_type": "stream",
     "text": [
      "48313\n"
     ]
    }
   ],
   "source": [
    "import json\n",
    "import glob\n",
    "\n",
    "# Get a list of JSON file paths\n",
    "file_paths = glob.glob(\"fnofi_data/*.json\")\n",
    "\n",
    "# Initialize an empty list to hold the merged data\n",
    "merged_data = []\n",
    "\n",
    "# Loop through each file path\n",
    "for file_path in file_paths:\n",
    "    # Open the file and load its content\n",
    "    with open(file_path, 'r') as file:\n",
    "        data = json.load(file)\n",
    "        # Append the data to the merged_data list\n",
    "        merged_data.extend(data)\n",
    "        \n",
    "        \n",
    "\n",
    "# Create a dictionary to store unique objects\n",
    "unique_data = {}\n",
    "\n",
    "# Process each JSON object\n",
    "for item in merged_data:\n",
    "    # Use the person_id as the key to check for uniqueness\n",
    "    person_id = item['person_id']\n",
    "    \n",
    "    # If the person_id is not in the dictionary, add the item\n",
    "    if person_id not in unique_data:\n",
    "        unique_data[person_id] = item\n",
    "    else:\n",
    "        # Handle duplicates here, for example, by updating the existing entry\n",
    "        # or by choosing between the old and new data based on some criteria\n",
    "        pass\n",
    "\n",
    "# Now unique_data contains only unique JSON objects\n",
    "# You can convert it back to a list if needed\n",
    "unique_list = list(unique_data.values())\n",
    "\n",
    "print(len(unique_list))\n",
    "\n",
    "# Write the merged data to a new JSON file\n",
    "with open('final_data/fnofi/fnofi_final_data.json', 'w') as outfile:\n",
    "    json.dump(unique_list, outfile, indent=4)\n"
   ]
  },
  {
   "cell_type": "code",
   "outputs": [],
   "source": [],
   "metadata": {
    "collapsed": false,
    "ExecuteTime": {
     "end_time": "2024-02-15T18:49:19.466520Z",
     "start_time": "2024-02-15T18:49:19.460987Z"
    }
   },
   "id": "d85043719610335c",
   "execution_count": 1
  },
  {
   "cell_type": "code",
   "outputs": [],
   "source": [],
   "metadata": {
    "collapsed": false,
    "ExecuteTime": {
     "end_time": "2024-02-15T18:49:19.470523Z",
     "start_time": "2024-02-15T18:49:19.465955Z"
    }
   },
   "id": "6d9f7362d7e7c991",
   "execution_count": 1
  }
 ],
 "metadata": {
  "kernelspec": {
   "display_name": "Python 3",
   "language": "python",
   "name": "python3"
  },
  "language_info": {
   "codemirror_mode": {
    "name": "ipython",
    "version": 2
   },
   "file_extension": ".py",
   "mimetype": "text/x-python",
   "name": "python",
   "nbconvert_exporter": "python",
   "pygments_lexer": "ipython2",
   "version": "2.7.6"
  }
 },
 "nbformat": 4,
 "nbformat_minor": 5
}
