{
 "cells": [
  {
   "cell_type": "code",
   "outputs": [],
   "source": [
    "import pandas as pd"
   ],
   "metadata": {
    "collapsed": false,
    "ExecuteTime": {
     "end_time": "2024-02-17T21:57:45.375443Z",
     "start_time": "2024-02-17T21:57:44.237771Z"
    }
   },
   "id": "9a40c6adcbd90577",
   "execution_count": 21
  },
  {
   "cell_type": "code",
   "outputs": [],
   "source": [
    "translation_professions_into_degrees = {\n",
    "    'Assistente Sanitario': 'Assistenza Sanitaria',\n",
    "    'Tecnico sanitario di laboratorio biomedico': 'Tecniche di Laboratorio Biomedico',\n",
    "    'Tecnico audiometrista': 'Tecniche Audioprotesiche',\n",
    "    'Tecnico audioprotesista': 'Tecniche Audioprotesiche',\n",
    "    'Tecnico ortopedico': 'Tecniche Ortopediche',\n",
    "    'Dietista': 'Dietistica',\n",
    "    'Tecnico di neurofisiopatologia': 'Tecniche di Neurofisiopatologia',\n",
    "    'Tecnico fisiopat. cardiocirc. e perfusione cardiov.': 'Tecniche della Fisiopatologia Cardiocircolatoria e Perfusione Cardiovascolare',\n",
    "    'Igienista dentale': 'Igiene Dentale',\n",
    "    'Logopedista': 'Logopedia',\n",
    "    'Podologo': 'Podologia',\n",
    "    'Ortottista e assistente di oftalmologia': 'Ortottica e Assistenza Oftalmologica',\n",
    "    \"Terapista della neuro e psicomotricità dell'età evolutiva\": \"Terapia della Neuro e Psicomotricità dell'Età Evolutiva\",\n",
    "    'Tecnico della riabilitazione psichiatrica': 'Tecniche della Riabilitazione Psichiatrica',\n",
    "    'Terapista occupazionale': 'Terapia Occupazionale',\n",
    "    'Educatore professionale': 'Ortottica e Assistenza OftalmologicaOrtottica e Assistenza Oftalmologica',\n",
    "    'Tecnico prevenzione ambiente e luoghi di lavoro': \"Tecniche della Prevenzione nell'Ambiente e nei Luoghi di Lavoro\",\n",
    "    'Elenco speciale ad esaurimento: Tecnico sanitario di laboratorio biomedico': 'Tecniche di Laboratorio Biomedico',\n",
    "    'Elenco speciale ad esaurimento: Tecnico audiometrista': 'Tecniche Audioprotesiche',\n",
    "    'Elenco speciale ad esaurimento: Tecnico audioprotesista': 'Tecniche Audioprotesiche',\n",
    "    'Elenco speciale ad esaurimento: Tecnico ortopedico': 'Tecniche Ortopediche',\n",
    "    'Elenco speciale ad esaurimento: Dietista': 'Dietistica',\n",
    "    'Elenco speciale ad esaurimento: Tecnico di neurofisiopatologia': 'Tecniche di Neurofisiopatologia',\n",
    "    'Elenco speciale ad esaurimento: Tecnico della fisiopatologia cardiocircolatoria e perfusione cardiovascolare': 'Tecniche della Fisiopatologia Cardiocircolatoria e Perfusione Cardiovascolare',\n",
    "    'Elenco speciale ad esaurimento: Igienista dentale': 'Igiene Dentale',\n",
    "    'Elenco speciale ad esaurimento: Logopedista': 'Logopedia',\n",
    "    'Elenco speciale ad esaurimento: Podologo': 'Podologia',\n",
    "    'Elenco speciale ad esaurimento: Ortottista e assistente di oftalmologia': 'Ortottica e Assistenza Oftalmologica',\n",
    "    \"Elenco speciale ad esaurimento: Terapista della neuro e psicomotricità dell'età evolutiva\": \"Terapia della Neuro e Psicomotricità dell'Età Evolutiva\",\n",
    "    'Elenco speciale ad esaurimento: Tecnico della riabilitazione psichiatrica': 'Tecniche della Riabilitazione Psichiatrica',\n",
    "    'Elenco speciale ad esaurimento: Terapista occupazionale': 'Terapia Occupazionale',\n",
    "    'Elenco speciale ad esaurimento: Educatore professionale': 'Educazione Professionale',\n",
    "    \"Elenco speciale ad esaurimento: Tecnico della prevenzione nell'ambiente e nei luoghi di lavoro\": \"Tecniche della Prevenzione nell'Ambiente e nei Luoghi di Lavoro\",\n",
    "    'Elenco speciale ad esaurimento: Massofisioterapista': 'Diploma in Massofisioterapia',\n",
    "    'Società tra professionisti': 'Società tra professionisti'\n",
    "}"
   ],
   "metadata": {
    "collapsed": true,
    "ExecuteTime": {
     "end_time": "2024-02-17T21:57:45.380106Z",
     "start_time": "2024-02-17T21:57:45.376937Z"
    }
   },
   "id": "initial_id",
   "execution_count": 22
  },
  {
   "cell_type": "code",
   "outputs": [],
   "source": [
    "def replace_profession(name):\n",
    "    if name in translation_professions_into_degrees.keys():\n",
    "       return translation_professions_into_degrees[name]\n",
    "    return name"
   ],
   "metadata": {
    "collapsed": false,
    "ExecuteTime": {
     "end_time": "2024-02-17T21:57:46.364885Z",
     "start_time": "2024-02-17T21:57:46.357111Z"
    }
   },
   "id": "c6cb898af355fd7c",
   "execution_count": 23
  },
  {
   "cell_type": "code",
   "outputs": [],
   "source": [
    "import json\n",
    "with open(\"./final_data/alboweb/alboweb_final_data.json\") as f:\n",
    "    data = json.loads(f.read())"
   ],
   "metadata": {
    "collapsed": false,
    "ExecuteTime": {
     "end_time": "2024-02-17T21:57:47.566346Z",
     "start_time": "2024-02-17T21:57:47.304133Z"
    }
   },
   "id": "d241d3a0a685b1a0",
   "execution_count": 24
  },
  {
   "cell_type": "code",
   "outputs": [],
   "source": [
    "def iterate_and_return(input):\n",
    "    for element in input:\n",
    "        element[\"special_register\"][0][\"board_name\"] = replace_profession(element[\"special_register\"][0][\"board_name\"])\n",
    "\n",
    "    return input"
   ],
   "metadata": {
    "collapsed": false,
    "ExecuteTime": {
     "end_time": "2024-02-17T21:55:59.726908Z",
     "start_time": "2024-02-17T21:55:59.648078Z"
    }
   },
   "id": "88ee1a21e362915",
   "execution_count": 19
  },
  {
   "cell_type": "code",
   "outputs": [
    {
     "name": "stdout",
     "output_type": "stream",
     "text": [
      "        person_id    surname      first_name                date_of_birth  \\\n",
      "0          250493       Abbà         Roberta  1977-06-05T22:00:00.000000Z   \n",
      "1          131688       Abbà         Manuela  1986-01-11T23:00:00.000000Z   \n",
      "2          250498       Abbà         Giorgia  1983-10-16T23:00:00.000000Z   \n",
      "3          250491       Abbà  Elena Giovanna  1973-03-30T23:00:00.000000Z   \n",
      "4          154516      Abba'           Elena  1966-02-13T23:00:00.000000Z   \n",
      "...           ...        ...             ...                          ...   \n",
      "91554       41634   Caneparo           Micol  1994-10-08T23:00:00.000000Z   \n",
      "91555      136885  Caneppele          Silvia  1981-08-14T22:00:00.000000Z   \n",
      "91556       33611  Caneppele        Federico  1988-10-27T23:00:00.000000Z   \n",
      "91557  2000016027  Caneppele        Federica  1995-12-28T23:00:00.000000Z   \n",
      "91558        5731     Canese          Marzia  1963-06-13T23:00:00.000000Z   \n",
      "\n",
      "           birth_place                    client_name  \\\n",
      "0           Cuneo (CN)                          Cuneo   \n",
      "1           Cuneo (CN)                          Cuneo   \n",
      "2           Cuneo (CN)                          Cuneo   \n",
      "3      Savigliano (CN)                          Cuneo   \n",
      "4          Torino (TO)  Torino Aosta Alessandria Asti   \n",
      "...                ...                            ...   \n",
      "91554      Biella (BI)                Vercelli Biella   \n",
      "91555    Rovereto (TN)                         Trento   \n",
      "91556      Trento (TN)                         Trento   \n",
      "91557        Roma (RM)                           Roma   \n",
      "91558   La Spezia (SP)          Genova Imperia Savona   \n",
      "\n",
      "                                        special_register  \n",
      "0      [{'board_name': 'Educazione Professionale', 'e...  \n",
      "1      [{'board_name': 'Ortottica e Assistenza Oftalm...  \n",
      "2      [{'board_name': 'Educazione Professionale', 'e...  \n",
      "3      [{'board_name': 'Educazione Professionale', 'e...  \n",
      "4      [{'board_name': 'Tecniche di Laboratorio Biome...  \n",
      "...                                                  ...  \n",
      "91554  [{'board_name': 'TSRM', 'entry_number': 251, '...  \n",
      "91555  [{'board_name': 'Logopedia', 'entry_number': 8...  \n",
      "91556  [{'board_name': 'TSRM', 'entry_number': 369, '...  \n",
      "91557  [{'board_name': 'Tecniche di Neurofisiopatolog...  \n",
      "91558  [{'board_name': 'TSRM', 'entry_number': 851, '...  \n",
      "\n",
      "[91559 rows x 7 columns]\n"
     ]
    }
   ],
   "source": [
    "result = iterate_and_return(data)\n",
    "df = pd.DataFrame(result)\n",
    "with open(f\"final_data/alboweb/alboweb_final_data_replaced_profession.json\", 'w', encoding='utf-8') as f:\n",
    "    json.dump(data, f, ensure_ascii=False, indent=4)\n",
    "print(df)  # DEBUG"
   ],
   "metadata": {
    "collapsed": false,
    "ExecuteTime": {
     "end_time": "2024-02-18T00:09:42.785849Z",
     "start_time": "2024-02-18T00:09:41.421104Z"
    }
   },
   "id": "a213d26dd022bad5",
   "execution_count": 26
  },
  {
   "cell_type": "code",
   "outputs": [],
   "source": [],
   "metadata": {
    "collapsed": false
   },
   "id": "1d9ffbfbb0259c97"
  }
 ],
 "metadata": {
  "kernelspec": {
   "display_name": "Python 3",
   "language": "python",
   "name": "python3"
  },
  "language_info": {
   "codemirror_mode": {
    "name": "ipython",
    "version": 2
   },
   "file_extension": ".py",
   "mimetype": "text/x-python",
   "name": "python",
   "nbconvert_exporter": "python",
   "pygments_lexer": "ipython2",
   "version": "2.7.6"
  }
 },
 "nbformat": 4,
 "nbformat_minor": 5
}
