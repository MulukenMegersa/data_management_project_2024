{
 "cells": [
  {
   "cell_type": "code",
   "execution_count": 87,
   "id": "initial_id",
   "metadata": {
    "ExecuteTime": {
     "end_time": "2024-02-02T14:33:39.687759Z",
     "start_time": "2024-02-02T14:33:37.700779Z"
    },
    "collapsed": true
   },
   "outputs": [
    {
     "name": "stdout",
     "output_type": "stream",
     "text": [
      "Requirement already satisfied: pandas in ./.venv/lib/python3.12/site-packages (2.2.0)\r\n",
      "Requirement already satisfied: pyarrow in ./.venv/lib/python3.12/site-packages (15.0.0)\r\n",
      "Requirement already satisfied: selenium in ./.venv/lib/python3.12/site-packages (4.17.2)\r\n",
      "Requirement already satisfied: numpy<2,>=1.26.0 in ./.venv/lib/python3.12/site-packages (from pandas) (1.26.3)\r\n",
      "Requirement already satisfied: python-dateutil>=2.8.2 in ./.venv/lib/python3.12/site-packages (from pandas) (2.8.2)\r\n",
      "Requirement already satisfied: pytz>=2020.1 in ./.venv/lib/python3.12/site-packages (from pandas) (2024.1)\r\n",
      "Requirement already satisfied: tzdata>=2022.7 in ./.venv/lib/python3.12/site-packages (from pandas) (2023.4)\r\n",
      "Requirement already satisfied: urllib3[socks]<3,>=1.26 in ./.venv/lib/python3.12/site-packages (from selenium) (2.2.0)\r\n",
      "Requirement already satisfied: trio~=0.17 in ./.venv/lib/python3.12/site-packages (from selenium) (0.24.0)\r\n",
      "Requirement already satisfied: trio-websocket~=0.9 in ./.venv/lib/python3.12/site-packages (from selenium) (0.11.1)\r\n",
      "Requirement already satisfied: certifi>=2021.10.8 in ./.venv/lib/python3.12/site-packages (from selenium) (2024.2.2)\r\n",
      "Requirement already satisfied: typing_extensions>=4.9.0 in ./.venv/lib/python3.12/site-packages (from selenium) (4.9.0)\r\n",
      "Requirement already satisfied: six>=1.5 in ./.venv/lib/python3.12/site-packages (from python-dateutil>=2.8.2->pandas) (1.16.0)\r\n",
      "Requirement already satisfied: attrs>=20.1.0 in ./.venv/lib/python3.12/site-packages (from trio~=0.17->selenium) (23.2.0)\r\n",
      "Requirement already satisfied: sortedcontainers in ./.venv/lib/python3.12/site-packages (from trio~=0.17->selenium) (2.4.0)\r\n",
      "Requirement already satisfied: idna in ./.venv/lib/python3.12/site-packages (from trio~=0.17->selenium) (3.6)\r\n",
      "Requirement already satisfied: outcome in ./.venv/lib/python3.12/site-packages (from trio~=0.17->selenium) (1.3.0.post0)\r\n",
      "Requirement already satisfied: sniffio>=1.3.0 in ./.venv/lib/python3.12/site-packages (from trio~=0.17->selenium) (1.3.0)\r\n",
      "Requirement already satisfied: wsproto>=0.14 in ./.venv/lib/python3.12/site-packages (from trio-websocket~=0.9->selenium) (1.2.0)\r\n",
      "Requirement already satisfied: pysocks!=1.5.7,<2.0,>=1.5.6 in ./.venv/lib/python3.12/site-packages (from urllib3[socks]<3,>=1.26->selenium) (1.7.1)\r\n",
      "Requirement already satisfied: h11<1,>=0.9.0 in ./.venv/lib/python3.12/site-packages (from wsproto>=0.14->trio-websocket~=0.9->selenium) (0.14.0)\r\n",
      "\r\n",
      "\u001B[1m[\u001B[0m\u001B[34;49mnotice\u001B[0m\u001B[1;39;49m]\u001B[0m\u001B[39;49m A new release of pip is available: \u001B[0m\u001B[31;49m23.2.1\u001B[0m\u001B[39;49m -> \u001B[0m\u001B[32;49m23.3.2\u001B[0m\r\n",
      "\u001B[1m[\u001B[0m\u001B[34;49mnotice\u001B[0m\u001B[1;39;49m]\u001B[0m\u001B[39;49m To update, run: \u001B[0m\u001B[32;49mpip install --upgrade pip\u001B[0m\r\n"
     ]
    }
   ],
   "source": [
    "!pip install pandas pyarrow selenium"
   ]
  },
  {
   "cell_type": "code",
   "execution_count": 88,
   "id": "95333e0a5ba4e464",
   "metadata": {
    "ExecuteTime": {
     "end_time": "2024-02-02T14:33:39.695299Z",
     "start_time": "2024-02-02T14:33:39.691586Z"
    },
    "collapsed": false
   },
   "outputs": [],
   "source": [
    "import pandas as pd\n",
    "from selenium import webdriver as webdriver\n",
    "from selenium.webdriver import DesiredCapabilities, Chrome, ChromeOptions\n",
    "from selenium.webdriver.common.by import By\n",
    "from selenium.webdriver.common.proxy import Proxy, ProxyType\n",
    "import json\n",
    "\n",
    "HOMEPAGE = \"https://www.cognomix.it/origine-cognomi-italiani/A\"\n",
    "\n",
    "PROXY_LIST = [\n",
    "    \"185.25.205.141:80\",\n",
    "    \"93.94.90.189:4145\",\n",
    "    \"77.242.130.73:5678\",\n",
    "    \"94.198.213.252:5678\",\n",
    "    \"77.72.32.15:59605\",\n",
    "    \"178.250.70.218:1088\",\n",
    "    \"93.94.90.180:4145\",\n",
    "    \"89.40.227.114:58120\",\n",
    "    \"94.198.215.22:52477\",\n",
    "    \"185.61.169.67:4145\",\n",
    "    \"88.51.214.182:80\",\n",
    "    \"79.7.101.98:5678\",\n",
    "    \"212.3.188.33:8080\",\n",
    "    \"89.40.227.114:44793\",\n",
    "    \"77.242.132.113:5678\",\n",
    "    \"77.242.177.57:3128\",\n",
    "    \"109.70.206.42:5678\",\n",
    "    \"185.109.184.150:56067\",\n",
    "    \"185.109.184.150:63819\"\n",
    "]\n",
    "\n",
    "letters = [\n",
    "    {\"letter\": 'A', \"size\": 14},\n",
    "    {\"letter\": 'B', \"size\": 24},\n",
    "    {\"letter\": 'C', \"size\": 28},\n",
    "    {\"letter\": 'D', \"size\": 16},\n",
    "    {\"letter\": 'E', \"size\": 2},\n",
    "    {\"letter\": 'F', \"size\": 12},\n",
    "    {\"letter\": 'G', \"size\": 15},\n",
    "    {\"letter\": 'I', \"size\": 4},\n",
    "    {\"letter\": 'L', \"size\": 10},\n",
    "    {\"letter\": 'M', \"size\": 20},\n",
    "    {\"letter\": 'N', \"size\": 4},\n",
    "    {\"letter\": 'O', \"size\": 3},\n",
    "    {\"letter\": 'P', \"size\": 19},\n",
    "    {\"letter\": 'Q', \"size\": 1},\n",
    "    {\"letter\": 'R', \"size\": 9},\n",
    "    {\"letter\": 'S', \"size\": 19},\n",
    "    {\"letter\": 'T', \"size\": 10},\n",
    "    {\"letter\": 'U', \"size\": 1},\n",
    "    {\"letter\": 'V', \"size\": 7},\n",
    "    {\"letter\": 'Z', \"size\": 5}\n",
    "]\n",
    "\n",
    "data = []"
   ]
  },
  {
   "cell_type": "code",
   "execution_count": 89,
   "id": "e070ca17e7a65e14",
   "metadata": {
    "ExecuteTime": {
     "end_time": "2024-02-02T14:33:39.698606Z",
     "start_time": "2024-02-02T14:33:39.694740Z"
    },
    "collapsed": false
   },
   "outputs": [],
   "source": [
    "def get_data(url):\n",
    "    # PROXY = PROXY_LIST[0]\n",
    "    PROXY = \"http://103.168.155.116:80\"\n",
    "    \n",
    "    # webdriver.DesiredCapabilities.CHROME['proxy']={\n",
    "    #     \"httpProxy\": PROXY,\n",
    "    #     \"ftpProxy\": PROXY,\n",
    "    #     \"sslProxy\": PROXY,\n",
    "    #     \"proxyType\": \"MANUAL\",\n",
    "    # }\n",
    "    \n",
    "    # webdriver.DesiredCapabilities.CHROME['acceptSslCerts'] = True\n",
    "    browser_options = ChromeOptions()\n",
    "    # browser_options.add_argument(\"--proxy-server=%s\" % PROXY)\n",
    "    driver = Chrome(options=browser_options)\n",
    "    \n",
    "    \n",
    "    \n",
    "    driver.get(url)\n",
    "\n",
    "    list_element = driver.find_elements(By.XPATH, '//ul/li/a[contains(@href, \"cognomix.it/origine-cognome/\")]')\n",
    "\n",
    "    for item in list_element:\n",
    "        name = item.text.split(\"-\")[0]\n",
    "        data.append({'surename': name})\n",
    "\n",
    "    driver.quit()\n",
    "    return data"
   ]
  },
  {
   "cell_type": "code",
   "execution_count": 90,
   "id": "1c7cf3af0f20d5a6",
   "metadata": {
    "ExecuteTime": {
     "end_time": "2024-02-02T14:33:39.702017Z",
     "start_time": "2024-02-02T14:33:39.698841Z"
    },
    "collapsed": false
   },
   "outputs": [],
   "source": [
    "def export_data(data,name):\n",
    "    df = pd.DataFrame(data)\n",
    "    df.to_csv(f\"{name}.csv\", index=False)\n",
    "    with open(f\"{name}.json\", 'w', encoding='utf-8') as f:\n",
    "            json.dump(data, f, ensure_ascii=False, indent=4)"
   ]
  },
  {
   "cell_type": "code",
   "execution_count": 91,
   "id": "5732dd81558fd847",
   "metadata": {
    "ExecuteTime": {
     "end_time": "2024-02-02T14:33:39.929179Z",
     "start_time": "2024-02-02T14:33:39.700292Z"
    },
    "collapsed": false
   },
   "outputs": [
    {
     "ename": "InvalidArgumentException",
     "evalue": "Message: invalid argument: unrecognized capability: acceptSslCerts\nStacktrace:\n0   chromedriver                        0x00000001043f27dc chromedriver + 4040668\n1   chromedriver                        0x00000001043ea9e0 chromedriver + 4008416\n2   chromedriver                        0x000000010405d870 chromedriver + 284784\n3   chromedriver                        0x000000010407f448 chromedriver + 422984\n4   chromedriver                        0x00000001040c923c chromedriver + 725564\n5   chromedriver                        0x00000001040c8d00 chromedriver + 724224\n6   chromedriver                        0x00000001040ca3c8 chromedriver + 730056\n7   chromedriver                        0x000000010409574c chromedriver + 513868\n8   chromedriver                        0x0000000104096044 chromedriver + 516164\n9   chromedriver                        0x00000001043b7a04 chromedriver + 3799556\n10  chromedriver                        0x00000001043bbee4 chromedriver + 3817188\n11  chromedriver                        0x00000001043a0260 chromedriver + 3703392\n12  chromedriver                        0x00000001043bca2c chromedriver + 3820076\n13  chromedriver                        0x000000010439301c chromedriver + 3649564\n14  chromedriver                        0x00000001043d9e3c chromedriver + 3939900\n15  chromedriver                        0x00000001043d9fb4 chromedriver + 3940276\n16  chromedriver                        0x00000001043ea660 chromedriver + 4007520\n17  libsystem_pthread.dylib             0x0000000188356034 _pthread_start + 136\n18  libsystem_pthread.dylib             0x0000000188350e3c thread_start + 8\n",
     "output_type": "error",
     "traceback": [
      "\u001B[0;31m---------------------------------------------------------------------------\u001B[0m",
      "\u001B[0;31mInvalidArgumentException\u001B[0m                  Traceback (most recent call last)",
      "Cell \u001B[0;32mIn[91], line 4\u001B[0m\n\u001B[1;32m      2\u001B[0m \u001B[38;5;28;01mfor\u001B[39;00m i \u001B[38;5;129;01min\u001B[39;00m \u001B[38;5;28mrange\u001B[39m(\u001B[38;5;241m1\u001B[39m, \u001B[38;5;28mlist\u001B[39m[\u001B[38;5;124m\"\u001B[39m\u001B[38;5;124msize\u001B[39m\u001B[38;5;124m\"\u001B[39m] \u001B[38;5;241m+\u001B[39m \u001B[38;5;241m1\u001B[39m):\n\u001B[1;32m      3\u001B[0m     new_url \u001B[38;5;241m=\u001B[39m \u001B[38;5;124mf\u001B[39m\u001B[38;5;124m\"\u001B[39m\u001B[38;5;124mhttps://www.cognomix.it/origine-cognomi-italiani/\u001B[39m\u001B[38;5;132;01m{\u001B[39;00m\u001B[38;5;28mlist\u001B[39m[\u001B[38;5;124m'\u001B[39m\u001B[38;5;124mletter\u001B[39m\u001B[38;5;124m'\u001B[39m]\u001B[38;5;132;01m}\u001B[39;00m\u001B[38;5;124m/\u001B[39m\u001B[38;5;132;01m{\u001B[39;00mi\u001B[38;5;132;01m}\u001B[39;00m\u001B[38;5;124m\"\u001B[39m\n\u001B[0;32m----> 4\u001B[0m     \u001B[43mget_data\u001B[49m\u001B[43m(\u001B[49m\u001B[43murl\u001B[49m\u001B[38;5;241;43m=\u001B[39;49m\u001B[43mnew_url\u001B[49m\u001B[43m)\u001B[49m\n\u001B[1;32m      5\u001B[0m export_data(data,\u001B[38;5;124m\"\u001B[39m\u001B[38;5;124msurename\u001B[39m\u001B[38;5;124m\"\u001B[39m)\n",
      "Cell \u001B[0;32mIn[89], line 15\u001B[0m, in \u001B[0;36mget_data\u001B[0;34m(url)\u001B[0m\n\u001B[1;32m     13\u001B[0m browser_options \u001B[38;5;241m=\u001B[39m ChromeOptions()\n\u001B[1;32m     14\u001B[0m \u001B[38;5;66;03m# browser_options.add_argument(\"--proxy-server=%s\" % PROXY)\u001B[39;00m\n\u001B[0;32m---> 15\u001B[0m driver \u001B[38;5;241m=\u001B[39m \u001B[43mChrome\u001B[49m\u001B[43m(\u001B[49m\u001B[43moptions\u001B[49m\u001B[38;5;241;43m=\u001B[39;49m\u001B[43mbrowser_options\u001B[49m\u001B[43m)\u001B[49m\n\u001B[1;32m     19\u001B[0m driver\u001B[38;5;241m.\u001B[39mget(url)\n\u001B[1;32m     21\u001B[0m list_element \u001B[38;5;241m=\u001B[39m driver\u001B[38;5;241m.\u001B[39mfind_elements(By\u001B[38;5;241m.\u001B[39mXPATH, \u001B[38;5;124m'\u001B[39m\u001B[38;5;124m//ul/li/a[contains(@href, \u001B[39m\u001B[38;5;124m\"\u001B[39m\u001B[38;5;124mcognomix.it/origine-cognome/\u001B[39m\u001B[38;5;124m\"\u001B[39m\u001B[38;5;124m)]\u001B[39m\u001B[38;5;124m'\u001B[39m)\n",
      "File \u001B[0;32m~/PycharmProjects/data_man_project/.venv/lib/python3.12/site-packages/selenium/webdriver/chrome/webdriver.py:45\u001B[0m, in \u001B[0;36mWebDriver.__init__\u001B[0;34m(self, options, service, keep_alive)\u001B[0m\n\u001B[1;32m     42\u001B[0m service \u001B[38;5;241m=\u001B[39m service \u001B[38;5;28;01mif\u001B[39;00m service \u001B[38;5;28;01melse\u001B[39;00m Service()\n\u001B[1;32m     43\u001B[0m options \u001B[38;5;241m=\u001B[39m options \u001B[38;5;28;01mif\u001B[39;00m options \u001B[38;5;28;01melse\u001B[39;00m Options()\n\u001B[0;32m---> 45\u001B[0m \u001B[38;5;28;43msuper\u001B[39;49m\u001B[43m(\u001B[49m\u001B[43m)\u001B[49m\u001B[38;5;241;43m.\u001B[39;49m\u001B[38;5;21;43m__init__\u001B[39;49m\u001B[43m(\u001B[49m\n\u001B[1;32m     46\u001B[0m \u001B[43m    \u001B[49m\u001B[43mbrowser_name\u001B[49m\u001B[38;5;241;43m=\u001B[39;49m\u001B[43mDesiredCapabilities\u001B[49m\u001B[38;5;241;43m.\u001B[39;49m\u001B[43mCHROME\u001B[49m\u001B[43m[\u001B[49m\u001B[38;5;124;43m\"\u001B[39;49m\u001B[38;5;124;43mbrowserName\u001B[39;49m\u001B[38;5;124;43m\"\u001B[39;49m\u001B[43m]\u001B[49m\u001B[43m,\u001B[49m\n\u001B[1;32m     47\u001B[0m \u001B[43m    \u001B[49m\u001B[43mvendor_prefix\u001B[49m\u001B[38;5;241;43m=\u001B[39;49m\u001B[38;5;124;43m\"\u001B[39;49m\u001B[38;5;124;43mgoog\u001B[39;49m\u001B[38;5;124;43m\"\u001B[39;49m\u001B[43m,\u001B[49m\n\u001B[1;32m     48\u001B[0m \u001B[43m    \u001B[49m\u001B[43moptions\u001B[49m\u001B[38;5;241;43m=\u001B[39;49m\u001B[43moptions\u001B[49m\u001B[43m,\u001B[49m\n\u001B[1;32m     49\u001B[0m \u001B[43m    \u001B[49m\u001B[43mservice\u001B[49m\u001B[38;5;241;43m=\u001B[39;49m\u001B[43mservice\u001B[49m\u001B[43m,\u001B[49m\n\u001B[1;32m     50\u001B[0m \u001B[43m    \u001B[49m\u001B[43mkeep_alive\u001B[49m\u001B[38;5;241;43m=\u001B[39;49m\u001B[43mkeep_alive\u001B[49m\u001B[43m,\u001B[49m\n\u001B[1;32m     51\u001B[0m \u001B[43m\u001B[49m\u001B[43m)\u001B[49m\n",
      "File \u001B[0;32m~/PycharmProjects/data_man_project/.venv/lib/python3.12/site-packages/selenium/webdriver/chromium/webdriver.py:61\u001B[0m, in \u001B[0;36mChromiumDriver.__init__\u001B[0;34m(self, browser_name, vendor_prefix, options, service, keep_alive)\u001B[0m\n\u001B[1;32m     52\u001B[0m executor \u001B[38;5;241m=\u001B[39m ChromiumRemoteConnection(\n\u001B[1;32m     53\u001B[0m     remote_server_addr\u001B[38;5;241m=\u001B[39m\u001B[38;5;28mself\u001B[39m\u001B[38;5;241m.\u001B[39mservice\u001B[38;5;241m.\u001B[39mservice_url,\n\u001B[1;32m     54\u001B[0m     browser_name\u001B[38;5;241m=\u001B[39mbrowser_name,\n\u001B[0;32m   (...)\u001B[0m\n\u001B[1;32m     57\u001B[0m     ignore_proxy\u001B[38;5;241m=\u001B[39moptions\u001B[38;5;241m.\u001B[39m_ignore_local_proxy,\n\u001B[1;32m     58\u001B[0m )\n\u001B[1;32m     60\u001B[0m \u001B[38;5;28;01mtry\u001B[39;00m:\n\u001B[0;32m---> 61\u001B[0m     \u001B[38;5;28;43msuper\u001B[39;49m\u001B[43m(\u001B[49m\u001B[43m)\u001B[49m\u001B[38;5;241;43m.\u001B[39;49m\u001B[38;5;21;43m__init__\u001B[39;49m\u001B[43m(\u001B[49m\u001B[43mcommand_executor\u001B[49m\u001B[38;5;241;43m=\u001B[39;49m\u001B[43mexecutor\u001B[49m\u001B[43m,\u001B[49m\u001B[43m \u001B[49m\u001B[43moptions\u001B[49m\u001B[38;5;241;43m=\u001B[39;49m\u001B[43moptions\u001B[49m\u001B[43m)\u001B[49m\n\u001B[1;32m     62\u001B[0m \u001B[38;5;28;01mexcept\u001B[39;00m \u001B[38;5;167;01mException\u001B[39;00m:\n\u001B[1;32m     63\u001B[0m     \u001B[38;5;28mself\u001B[39m\u001B[38;5;241m.\u001B[39mquit()\n",
      "File \u001B[0;32m~/PycharmProjects/data_man_project/.venv/lib/python3.12/site-packages/selenium/webdriver/remote/webdriver.py:208\u001B[0m, in \u001B[0;36mWebDriver.__init__\u001B[0;34m(self, command_executor, keep_alive, file_detector, options)\u001B[0m\n\u001B[1;32m    206\u001B[0m \u001B[38;5;28mself\u001B[39m\u001B[38;5;241m.\u001B[39m_authenticator_id \u001B[38;5;241m=\u001B[39m \u001B[38;5;28;01mNone\u001B[39;00m\n\u001B[1;32m    207\u001B[0m \u001B[38;5;28mself\u001B[39m\u001B[38;5;241m.\u001B[39mstart_client()\n\u001B[0;32m--> 208\u001B[0m \u001B[38;5;28;43mself\u001B[39;49m\u001B[38;5;241;43m.\u001B[39;49m\u001B[43mstart_session\u001B[49m\u001B[43m(\u001B[49m\u001B[43mcapabilities\u001B[49m\u001B[43m)\u001B[49m\n",
      "File \u001B[0;32m~/PycharmProjects/data_man_project/.venv/lib/python3.12/site-packages/selenium/webdriver/remote/webdriver.py:292\u001B[0m, in \u001B[0;36mWebDriver.start_session\u001B[0;34m(self, capabilities)\u001B[0m\n\u001B[1;32m    285\u001B[0m \u001B[38;5;250m\u001B[39m\u001B[38;5;124;03m\"\"\"Creates a new session with the desired capabilities.\u001B[39;00m\n\u001B[1;32m    286\u001B[0m \n\u001B[1;32m    287\u001B[0m \u001B[38;5;124;03m:Args:\u001B[39;00m\n\u001B[1;32m    288\u001B[0m \u001B[38;5;124;03m - capabilities - a capabilities dict to start the session with.\u001B[39;00m\n\u001B[1;32m    289\u001B[0m \u001B[38;5;124;03m\"\"\"\u001B[39;00m\n\u001B[1;32m    291\u001B[0m caps \u001B[38;5;241m=\u001B[39m _create_caps(capabilities)\n\u001B[0;32m--> 292\u001B[0m response \u001B[38;5;241m=\u001B[39m \u001B[38;5;28;43mself\u001B[39;49m\u001B[38;5;241;43m.\u001B[39;49m\u001B[43mexecute\u001B[49m\u001B[43m(\u001B[49m\u001B[43mCommand\u001B[49m\u001B[38;5;241;43m.\u001B[39;49m\u001B[43mNEW_SESSION\u001B[49m\u001B[43m,\u001B[49m\u001B[43m \u001B[49m\u001B[43mcaps\u001B[49m\u001B[43m)\u001B[49m[\u001B[38;5;124m\"\u001B[39m\u001B[38;5;124mvalue\u001B[39m\u001B[38;5;124m\"\u001B[39m]\n\u001B[1;32m    293\u001B[0m \u001B[38;5;28mself\u001B[39m\u001B[38;5;241m.\u001B[39msession_id \u001B[38;5;241m=\u001B[39m response\u001B[38;5;241m.\u001B[39mget(\u001B[38;5;124m\"\u001B[39m\u001B[38;5;124msessionId\u001B[39m\u001B[38;5;124m\"\u001B[39m)\n\u001B[1;32m    294\u001B[0m \u001B[38;5;28mself\u001B[39m\u001B[38;5;241m.\u001B[39mcaps \u001B[38;5;241m=\u001B[39m response\u001B[38;5;241m.\u001B[39mget(\u001B[38;5;124m\"\u001B[39m\u001B[38;5;124mcapabilities\u001B[39m\u001B[38;5;124m\"\u001B[39m)\n",
      "File \u001B[0;32m~/PycharmProjects/data_man_project/.venv/lib/python3.12/site-packages/selenium/webdriver/remote/webdriver.py:347\u001B[0m, in \u001B[0;36mWebDriver.execute\u001B[0;34m(self, driver_command, params)\u001B[0m\n\u001B[1;32m    345\u001B[0m response \u001B[38;5;241m=\u001B[39m \u001B[38;5;28mself\u001B[39m\u001B[38;5;241m.\u001B[39mcommand_executor\u001B[38;5;241m.\u001B[39mexecute(driver_command, params)\n\u001B[1;32m    346\u001B[0m \u001B[38;5;28;01mif\u001B[39;00m response:\n\u001B[0;32m--> 347\u001B[0m     \u001B[38;5;28;43mself\u001B[39;49m\u001B[38;5;241;43m.\u001B[39;49m\u001B[43merror_handler\u001B[49m\u001B[38;5;241;43m.\u001B[39;49m\u001B[43mcheck_response\u001B[49m\u001B[43m(\u001B[49m\u001B[43mresponse\u001B[49m\u001B[43m)\u001B[49m\n\u001B[1;32m    348\u001B[0m     response[\u001B[38;5;124m\"\u001B[39m\u001B[38;5;124mvalue\u001B[39m\u001B[38;5;124m\"\u001B[39m] \u001B[38;5;241m=\u001B[39m \u001B[38;5;28mself\u001B[39m\u001B[38;5;241m.\u001B[39m_unwrap_value(response\u001B[38;5;241m.\u001B[39mget(\u001B[38;5;124m\"\u001B[39m\u001B[38;5;124mvalue\u001B[39m\u001B[38;5;124m\"\u001B[39m, \u001B[38;5;28;01mNone\u001B[39;00m))\n\u001B[1;32m    349\u001B[0m     \u001B[38;5;28;01mreturn\u001B[39;00m response\n",
      "File \u001B[0;32m~/PycharmProjects/data_man_project/.venv/lib/python3.12/site-packages/selenium/webdriver/remote/errorhandler.py:229\u001B[0m, in \u001B[0;36mErrorHandler.check_response\u001B[0;34m(self, response)\u001B[0m\n\u001B[1;32m    227\u001B[0m         alert_text \u001B[38;5;241m=\u001B[39m value[\u001B[38;5;124m\"\u001B[39m\u001B[38;5;124malert\u001B[39m\u001B[38;5;124m\"\u001B[39m]\u001B[38;5;241m.\u001B[39mget(\u001B[38;5;124m\"\u001B[39m\u001B[38;5;124mtext\u001B[39m\u001B[38;5;124m\"\u001B[39m)\n\u001B[1;32m    228\u001B[0m     \u001B[38;5;28;01mraise\u001B[39;00m exception_class(message, screen, stacktrace, alert_text)  \u001B[38;5;66;03m# type: ignore[call-arg]  # mypy is not smart enough here\u001B[39;00m\n\u001B[0;32m--> 229\u001B[0m \u001B[38;5;28;01mraise\u001B[39;00m exception_class(message, screen, stacktrace)\n",
      "\u001B[0;31mInvalidArgumentException\u001B[0m: Message: invalid argument: unrecognized capability: acceptSslCerts\nStacktrace:\n0   chromedriver                        0x00000001043f27dc chromedriver + 4040668\n1   chromedriver                        0x00000001043ea9e0 chromedriver + 4008416\n2   chromedriver                        0x000000010405d870 chromedriver + 284784\n3   chromedriver                        0x000000010407f448 chromedriver + 422984\n4   chromedriver                        0x00000001040c923c chromedriver + 725564\n5   chromedriver                        0x00000001040c8d00 chromedriver + 724224\n6   chromedriver                        0x00000001040ca3c8 chromedriver + 730056\n7   chromedriver                        0x000000010409574c chromedriver + 513868\n8   chromedriver                        0x0000000104096044 chromedriver + 516164\n9   chromedriver                        0x00000001043b7a04 chromedriver + 3799556\n10  chromedriver                        0x00000001043bbee4 chromedriver + 3817188\n11  chromedriver                        0x00000001043a0260 chromedriver + 3703392\n12  chromedriver                        0x00000001043bca2c chromedriver + 3820076\n13  chromedriver                        0x000000010439301c chromedriver + 3649564\n14  chromedriver                        0x00000001043d9e3c chromedriver + 3939900\n15  chromedriver                        0x00000001043d9fb4 chromedriver + 3940276\n16  chromedriver                        0x00000001043ea660 chromedriver + 4007520\n17  libsystem_pthread.dylib             0x0000000188356034 _pthread_start + 136\n18  libsystem_pthread.dylib             0x0000000188350e3c thread_start + 8\n"
     ]
    }
   ],
   "source": [
    "for list in letters:\n",
    "    for i in range(1, list[\"size\"] + 1):\n",
    "        new_url = f\"https://www.cognomix.it/origine-cognomi-italiani/{list['letter']}/{i}\"\n",
    "        get_data(url=new_url)\n",
    "    export_data(data,\"surename\")"
   ]
  },
  {
   "cell_type": "code",
   "execution_count": null,
   "id": "a9dfadafcf8e3f1a",
   "metadata": {
    "ExecuteTime": {
     "start_time": "2024-02-02T14:33:39.927463Z"
    },
    "collapsed": false
   },
   "outputs": [],
   "source": []
  }
 ],
 "metadata": {
  "kernelspec": {
   "display_name": "Python 3",
   "language": "python",
   "name": "python3"
  },
  "language_info": {
   "codemirror_mode": {
    "name": "ipython",
    "version": 2
   },
   "file_extension": ".py",
   "mimetype": "text/x-python",
   "name": "python",
   "nbconvert_exporter": "python",
   "pygments_lexer": "ipython2",
   "version": "2.7.6"
  }
 },
 "nbformat": 4,
 "nbformat_minor": 5
}
