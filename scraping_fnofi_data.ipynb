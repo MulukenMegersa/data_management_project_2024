{
 "cells": [
  {
   "cell_type": "code",
   "execution_count": 436,
   "id": "initial_id",
   "metadata": {
    "collapsed": true,
    "ExecuteTime": {
     "end_time": "2024-02-04T14:12:47.486435Z",
     "start_time": "2024-02-04T14:12:45.374830Z"
    }
   },
   "outputs": [
    {
     "name": "stdout",
     "output_type": "stream",
     "text": [
      "Requirement already satisfied: pandas in ./.venv/lib/python3.12/site-packages (2.2.0)\r\n",
      "Requirement already satisfied: pyarrow in ./.venv/lib/python3.12/site-packages (15.0.0)\r\n",
      "Requirement already satisfied: selenium in ./.venv/lib/python3.12/site-packages (4.17.2)\r\n",
      "Requirement already satisfied: numpy<2,>=1.26.0 in ./.venv/lib/python3.12/site-packages (from pandas) (1.26.3)\r\n",
      "Requirement already satisfied: python-dateutil>=2.8.2 in ./.venv/lib/python3.12/site-packages (from pandas) (2.8.2)\r\n",
      "Requirement already satisfied: pytz>=2020.1 in ./.venv/lib/python3.12/site-packages (from pandas) (2024.1)\r\n",
      "Requirement already satisfied: tzdata>=2022.7 in ./.venv/lib/python3.12/site-packages (from pandas) (2023.4)\r\n",
      "Requirement already satisfied: urllib3[socks]<3,>=1.26 in ./.venv/lib/python3.12/site-packages (from selenium) (2.2.0)\r\n",
      "Requirement already satisfied: trio~=0.17 in ./.venv/lib/python3.12/site-packages (from selenium) (0.24.0)\r\n",
      "Requirement already satisfied: trio-websocket~=0.9 in ./.venv/lib/python3.12/site-packages (from selenium) (0.11.1)\r\n",
      "Requirement already satisfied: certifi>=2021.10.8 in ./.venv/lib/python3.12/site-packages (from selenium) (2024.2.2)\r\n",
      "Requirement already satisfied: typing_extensions>=4.9.0 in ./.venv/lib/python3.12/site-packages (from selenium) (4.9.0)\r\n",
      "Requirement already satisfied: six>=1.5 in ./.venv/lib/python3.12/site-packages (from python-dateutil>=2.8.2->pandas) (1.16.0)\r\n",
      "Requirement already satisfied: attrs>=20.1.0 in ./.venv/lib/python3.12/site-packages (from trio~=0.17->selenium) (23.2.0)\r\n",
      "Requirement already satisfied: sortedcontainers in ./.venv/lib/python3.12/site-packages (from trio~=0.17->selenium) (2.4.0)\r\n",
      "Requirement already satisfied: idna in ./.venv/lib/python3.12/site-packages (from trio~=0.17->selenium) (3.6)\r\n",
      "Requirement already satisfied: outcome in ./.venv/lib/python3.12/site-packages (from trio~=0.17->selenium) (1.3.0.post0)\r\n",
      "Requirement already satisfied: sniffio>=1.3.0 in ./.venv/lib/python3.12/site-packages (from trio~=0.17->selenium) (1.3.0)\r\n",
      "Requirement already satisfied: wsproto>=0.14 in ./.venv/lib/python3.12/site-packages (from trio-websocket~=0.9->selenium) (1.2.0)\r\n",
      "Requirement already satisfied: pysocks!=1.5.7,<2.0,>=1.5.6 in ./.venv/lib/python3.12/site-packages (from urllib3[socks]<3,>=1.26->selenium) (1.7.1)\r\n",
      "Requirement already satisfied: h11<1,>=0.9.0 in ./.venv/lib/python3.12/site-packages (from wsproto>=0.14->trio-websocket~=0.9->selenium) (0.14.0)\r\n",
      "\r\n",
      "\u001B[1m[\u001B[0m\u001B[34;49mnotice\u001B[0m\u001B[1;39;49m]\u001B[0m\u001B[39;49m A new release of pip is available: \u001B[0m\u001B[31;49m23.2.1\u001B[0m\u001B[39;49m -> \u001B[0m\u001B[32;49m23.3.2\u001B[0m\r\n",
      "\u001B[1m[\u001B[0m\u001B[34;49mnotice\u001B[0m\u001B[1;39;49m]\u001B[0m\u001B[39;49m To update, run: \u001B[0m\u001B[32;49mpip install --upgrade pip\u001B[0m\r\n"
     ]
    }
   ],
   "source": [
    "!pip install pandas pyarrow selenium"
   ]
  },
  {
   "cell_type": "code",
   "outputs": [],
   "source": [
    "import json\n",
    "import time\n",
    "\n",
    "import pandas as pd\n",
    "from selenium.webdriver import Chrome, ChromeOptions\n",
    "from selenium.webdriver.common.by import By\n",
    "from selenium.webdriver.support import expected_conditions as EC\n",
    "from selenium.webdriver.support.ui import WebDriverWait"
   ],
   "metadata": {
    "collapsed": false,
    "ExecuteTime": {
     "end_time": "2024-02-04T14:12:47.490903Z",
     "start_time": "2024-02-04T14:12:47.488269Z"
    }
   },
   "id": "c7132cb479238130",
   "execution_count": 437
  },
  {
   "cell_type": "code",
   "outputs": [],
   "source": [
    "file_path = './final_data/surnames/surname.csv'\n",
    "\n",
    "HOMEPAGE = \"https://albo.alboweb-fnofi.net/registry/search\"\n",
    "# HOMEPAGE = \"https://albo.alboweb.net/registry/search\"\n",
    "\n",
    "data = []\n",
    "\n",
    "index_pointer = 0\n",
    "\n",
    "try:\n",
    "    with open('fnofi_last_index.txt', 'r') as file:\n",
    "        content = file.read()\n",
    "        index_pointer = int(content)\n",
    "except FileNotFoundError:\n",
    "    print(\"File 'fnofi_last_index.txt' not found. Using default index_pointer value.\")\n",
    "\n",
    "name_of_file = f\"fnofi_data_{index_pointer}\""
   ],
   "metadata": {
    "collapsed": false,
    "ExecuteTime": {
     "end_time": "2024-02-04T14:12:47.494989Z",
     "start_time": "2024-02-04T14:12:47.491901Z"
    }
   },
   "id": "f0238c442cff2eb3",
   "execution_count": 438
  },
  {
   "cell_type": "code",
   "outputs": [],
   "source": [
    "translation_professions_into_degrees = {\n",
    "    'Assistente Sanitario': 'Assistenza Sanitaria',\n",
    "    'Tecnico sanitario di laboratorio biomedico': 'Tecniche di Laboratorio Biomedico',\n",
    "    'Tecnico audiometrista': 'Tecniche Audioprotesiche',\n",
    "    'Tecnico audioprotesista': 'Tecniche Audioprotesiche',\n",
    "    'Tecnico ortopedico': 'Tecniche Ortopediche',\n",
    "    'Dietista': 'Dietistica',\n",
    "    'Tecnico di neurofisiopatologia': 'Tecniche di Neurofisiopatologia',\n",
    "    'Tecnico fisiopat. cardiocirc. e perfusione cardiov.': 'Tecniche della Fisiopatologia Cardiocircolatoria e Perfusione Cardiovascolare',\n",
    "    'Igienista dentale': 'Igiene Dentale',\n",
    "    'Logopedista': 'Logopedia',\n",
    "    'Podologo': 'Podologia',\n",
    "    'Ortottista e assistente di oftalmologia': 'Ortottica e Assistenza Oftalmologica',\n",
    "    \"Terapista della neuro e psicomotricità dell'età evolutiva\": \"Terapia della Neuro e Psicomotricità dell'Età Evolutiva\",\n",
    "    'Tecnico della riabilitazione psichiatrica': 'Tecniche della Riabilitazione Psichiatrica',\n",
    "    'Terapista occupazionale': 'Terapia Occupazionale',\n",
    "    'Educatore professionale': 'Educazione Professionale',\n",
    "    'Tecnico prevenzione ambiente e luoghi di lavoro': \"Tecniche della Prevenzione nell'Ambiente e nei Luoghi di Lavoro\",\n",
    "    'Elenco speciale ad esaurimento: Tecnico sanitario di laboratorio biomedico': 'Tecniche di Laboratorio Biomedico',\n",
    "    'Elenco speciale ad esaurimento: Tecnico audiometrista': 'Tecniche Audioprotesiche',\n",
    "    'Elenco speciale ad esaurimento: Tecnico audioprotesista': 'Tecniche Audioprotesiche',\n",
    "    'Elenco speciale ad esaurimento: Tecnico ortopedico': 'Tecniche Ortopediche',\n",
    "    'Elenco speciale ad esaurimento: Dietista': 'Dietistica',\n",
    "    'Elenco speciale ad esaurimento: Tecnico di neurofisiopatologia': 'Tecniche di Neurofisiopatologia',\n",
    "    'Elenco speciale ad esaurimento: Tecnico della fisiopatologia cardiocircolatoria e perfusione cardiovascolare': 'Tecniche della Fisiopatologia Cardiocircolatoria e Perfusione Cardiovascolare',\n",
    "    'Elenco speciale ad esaurimento: Igienista dentale': 'Igiene Dentale',\n",
    "    'Elenco speciale ad esaurimento: Logopedista': 'Logopedia',\n",
    "    'Elenco speciale ad esaurimento: Podologo': 'Podologia',\n",
    "    'Elenco speciale ad esaurimento: Ortottista e assistente di oftalmologia': 'Ortottica e Assistenza Oftalmologica',\n",
    "    \"Elenco speciale ad esaurimento: Terapista della neuro e psicomotricità dell'età evolutiva\": \"Terapia della Neuro e Psicomotricità dell'Età Evolutiva\",\n",
    "    'Elenco speciale ad esaurimento: Tecnico della riabilitazione psichiatrica': 'Tecniche della Riabilitazione Psichiatrica',\n",
    "    'Elenco speciale ad esaurimento: Terapista occupazionale': 'Terapia Occupazionale',\n",
    "    'Elenco speciale ad esaurimento: Educatore professionale': 'Educazione Professionale',\n",
    "    \"Elenco speciale ad esaurimento: Tecnico della prevenzione nell'ambiente e nei luoghi di lavoro\": \"Tecniche della Prevenzione nell'Ambiente e nei Luoghi di Lavoro\",\n",
    "    'Elenco speciale ad esaurimento: Massofisioterapista': 'Diploma in Massofisioterapia',\n",
    "    'Società tra professionisti': 'Società tra professionisti'\n",
    "}\n"
   ],
   "metadata": {
    "collapsed": false
   },
   "id": "7b330da6a8437249"
  },
  {
   "cell_type": "code",
   "outputs": [],
   "source": [
    "def get_data(url, df):\n",
    "    # PROXY = \"192.111.139.163:19404\"\n",
    "    browser_options = ChromeOptions()\n",
    "    # browser_options.add_argument(\"--proxy-server=https://%s\" % PROXY)\n",
    "    driver = Chrome(options=browser_options)\n",
    "\n",
    "    driver.get(url)\n",
    "\n",
    "    wait = WebDriverWait(driver, 10)\n",
    "    global index_pointer\n",
    "    \n",
    "    try:\n",
    "        for outer_index, row in df.iloc[index_pointer:].iterrows():\n",
    "            sure_name_input = row[\"surename\"]\n",
    "            # print(\"runnig\",row[\"surename\"])\n",
    "            sure_name_input = \"abate\"\n",
    "            index_pointer += 1\n",
    "            print({\"name\": sure_name_input, \"pointer\": index_pointer, \"index\": outer_index})\n",
    "    \n",
    "            # if outer_index % 10 == 0:\n",
    "            #     break\n",
    "    \n",
    "            sure_name = wait.until(EC.presence_of_element_located((By.ID, \"last_name\")))\n",
    "            search = driver.find_element(By.ID, \"saveSearch\")\n",
    "    \n",
    "            sure_name.send_keys(sure_name_input)\n",
    "            time.sleep(2)\n",
    "            search.click()\n",
    "    \n",
    "            WebDriverWait(driver, 10).until(\n",
    "                lambda driver: driver.execute_script('return document.readyState') == 'complete')\n",
    "    \n",
    "            time.sleep(1)\n",
    "            # table_data = wait.until(EC.presence_of_element_located((By.ID, \"awTable\")))\n",
    "            table_data = driver.execute_script(\"\"\"\n",
    "            let table = $('#awTable').DataTable();\n",
    "            let data = table.rows().data();\n",
    "            let finalData = Object.entries(data)\n",
    "            .filter(([key, value]) => !isNaN(Number(key)))\n",
    "            .reduce((acc, [key, value]) => {\n",
    "                acc[key] = value;\n",
    "                return acc;\n",
    "            }, {});;\n",
    "            return JSON.stringify(finalData);\n",
    "            \"\"\")\n",
    "    \n",
    "            parsed_data = json.loads(table_data)\n",
    "            if len(parsed_data.values())>0:\n",
    "                for value in parsed_data.values():\n",
    "                    user = {}\n",
    "                    user[\"person_id\"] = value[\"id\"]\n",
    "                    user[\"surname\"] = value[\"last_name\"]\n",
    "                    user[\"first_name\"] = value[\"first_name\"]\n",
    "                    user[\"date_of_birth\"] = value[\"birth_date\"]\n",
    "                    user[\"birth_place\"] = value[\"birth_place\"]\n",
    "                    user[\"client_name\"] = value[\"client_name\"]\n",
    "                    full_name_data_string = value['full_name']\n",
    "                    full_name_data_list = json.loads(full_name_data_string)\n",
    "                    user[\"special_register\"] = full_name_data_list\n",
    "        \n",
    "                    if user:\n",
    "                        data.append(user)\n",
    "    \n",
    "            # try:\n",
    "            #     # open_modal = driver.find_element(By.XPATH, \"saveSearch\")\n",
    "            #     # back_link = WebDriverWait(driver, 10).until(\n",
    "            #     #     # EC.presence_of_element_located((By.XPATH, \"//a[@class='nav-link' and text()='Nuova ricerca']\")))\n",
    "            #     #     EC.element_to_be_clickable((By.XPATH, \"//button[@class='btn btn-primary' and @data-toggle='modal' and @data-target='#searchModal' and contains(text(), 'Filtri Avanzati')]\")))\n",
    "            #     # back_link.click()\n",
    "            #     # \n",
    "            #     # driver.execute_script(\"arguments[0].click();\", back_link)\n",
    "            # except Exception as e:\n",
    "            #     print(f\"Error: {e}\")\n",
    "    except Exception as e:\n",
    "        print(f\"Error: {e}\")\n"
   ],
   "metadata": {
    "collapsed": false,
    "ExecuteTime": {
     "end_time": "2024-02-04T14:12:47.504813Z",
     "start_time": "2024-02-04T14:12:47.500096Z"
    }
   },
   "id": "913d2a4ba6c54488",
   "execution_count": 439
  },
  {
   "cell_type": "code",
   "outputs": [],
   "source": [
    "def export_data(data, name):\n",
    "    df = pd.DataFrame(data)\n",
    "    df.to_csv(f\"{name}.csv\", index=False)\n",
    "    with open(f\"{name}.json\", 'w', encoding='utf-8') as f:\n",
    "        json.dump(data, f, ensure_ascii=False, indent=4)\n",
    "    print(df)  # DEBUG"
   ],
   "metadata": {
    "collapsed": false,
    "ExecuteTime": {
     "end_time": "2024-02-04T14:12:47.511582Z",
     "start_time": "2024-02-04T14:12:47.502379Z"
    }
   },
   "id": "c321b9ec88f4a5bc",
   "execution_count": 440
  },
  {
   "cell_type": "code",
   "outputs": [],
   "source": [
    "def main():\n",
    "    try:\n",
    "        start_time = time.time()\n",
    "        df = pd.read_csv(file_path)\n",
    "        get_data(url=HOMEPAGE, df=df)\n",
    "        end_time = time.time()\n",
    "        total_time = end_time - start_time\n",
    "        print(f\"DONE Total time taken: {total_time} seconds\")\n",
    "    except Exception as e:\n",
    "        print(f\"Error: {e}\")\n",
    "    finally:\n",
    "        export_data(data, name_of_file)\n",
    "        with open('fnofi_last_index.txt.txt', 'w') as file:\n",
    "            file.write(str(index_pointer))\n",
    "        print(\"The last index was\", index_pointer)"
   ],
   "metadata": {
    "collapsed": false,
    "ExecuteTime": {
     "end_time": "2024-02-04T14:12:47.511998Z",
     "start_time": "2024-02-04T14:12:47.508523Z"
    }
   },
   "id": "9e94b70e2a5249f7",
   "execution_count": 441
  },
  {
   "cell_type": "code",
   "outputs": [
    {
     "name": "stdout",
     "output_type": "stream",
     "text": [
      "{'name': 'abate', 'pointer': 1, 'index': 0}\n",
      "{'name': 'abate', 'pointer': 2, 'index': 1}\n",
      "Error: Message: element not interactable\n",
      "  (Session info: chrome=121.0.6167.139)\n",
      "Stacktrace:\n",
      "0   chromedriver                        0x00000001044167dc chromedriver + 4040668\n",
      "1   chromedriver                        0x000000010440e9e0 chromedriver + 4008416\n",
      "2   chromedriver                        0x00000001040816a8 chromedriver + 284328\n",
      "3   chromedriver                        0x00000001040bfb20 chromedriver + 539424\n",
      "4   chromedriver                        0x00000001040be39c chromedriver + 533404\n",
      "5   chromedriver                        0x00000001040baee8 chromedriver + 519912\n",
      "6   chromedriver                        0x00000001040ff048 chromedriver + 798792\n",
      "7   chromedriver                        0x00000001040b974c chromedriver + 513868\n",
      "8   chromedriver                        0x00000001040ba044 chromedriver + 516164\n",
      "9   chromedriver                        0x00000001043dba04 chromedriver + 3799556\n",
      "10  chromedriver                        0x00000001043dfee4 chromedriver + 3817188\n",
      "11  chromedriver                        0x00000001043c4260 chromedriver + 3703392\n",
      "12  chromedriver                        0x00000001043e0a2c chromedriver + 3820076\n",
      "13  chromedriver                        0x00000001043b701c chromedriver + 3649564\n",
      "14  chromedriver                        0x00000001043fde3c chromedriver + 3939900\n",
      "15  chromedriver                        0x00000001043fdfb4 chromedriver + 3940276\n",
      "16  chromedriver                        0x000000010440e660 chromedriver + 4007520\n",
      "17  libsystem_pthread.dylib             0x000000018c172034 _pthread_start + 136\n",
      "18  libsystem_pthread.dylib             0x000000018c16ce3c thread_start + 8\n",
      "\n",
      "DONE Total time taken: 6.602516174316406 seconds\n",
      "     person_id surname        first_name                date_of_birth  \\\n",
      "0       213744   Abate              Sara  1984-07-10T22:00:00.000000Z   \n",
      "1        45627   Abate           Roberto  1989-10-17T23:00:00.000000Z   \n",
      "2   2000015772   Abate             Mirko  1995-12-27T23:00:00.000000Z   \n",
      "3   2000009012   Abate           Michele  2000-10-11T22:00:00.000000Z   \n",
      "4       214521   Abate           Micaela  1974-11-05T23:00:00.000000Z   \n",
      "5   2000005814   Abate           Matilda  1999-05-01T22:00:00.000000Z   \n",
      "6       109713   Abate             Mario  1989-10-16T23:00:00.000000Z   \n",
      "7       131914   Abate        Mariangela  1985-02-18T23:00:00.000000Z   \n",
      "8       118262   Abate     Maria Rosaria  1976-06-21T22:00:00.000000Z   \n",
      "9        95359   Abate      Maria Grazia  1985-01-14T23:00:00.000000Z   \n",
      "10      221518   Abate   Maria Cristiana  1990-02-12T23:00:00.000000Z   \n",
      "11        3678   Abate           Luciano  1968-12-18T23:00:00.000000Z   \n",
      "12      166101   Abate  Lucia Elisabetta  1990-12-12T23:00:00.000000Z   \n",
      "13       65715   Abate              Imma  1989-04-21T22:00:00.000000Z   \n",
      "14      103277   Abate            Giulia  1992-08-25T22:00:00.000000Z   \n",
      "\n",
      "       birth_place                                   client_name  \\\n",
      "0     Livorno (LI)                         Pisa Livorno Grosseto   \n",
      "1        Roma (RM)                                          Roma   \n",
      "2     Catania (CT)                                       Catania   \n",
      "3        Roma (RM)                                          Roma   \n",
      "4   Treviglio (BG)                                       Bergamo   \n",
      "5     Catania (CT)                                       Catania   \n",
      "6     Cosenza (CS)  Milano Como Lecco Lodi Monza-Brianza Sondrio   \n",
      "7      Maglie (LE)                                         Lecce   \n",
      "8    Svizzera (EE)                                          Roma   \n",
      "9     Catania (CT)                       Belluno Treviso Vicenza   \n",
      "10   Avellino (AV)                                       Salerno   \n",
      "11   Lusciano (CE)             Napoli Avellino Benevento Caserta   \n",
      "12    Cassino (FR)                                     Frosinone   \n",
      "13  Benevento (BN)             Napoli Avellino Benevento Caserta   \n",
      "14       Roma (RM)                                          Roma   \n",
      "\n",
      "                                     special_register  \n",
      "0   [{'board_name': 'Terapista occupazionale', 'en...  \n",
      "1   [{'board_name': 'TSRM', 'entry_number': 4313, ...  \n",
      "2   [{'board_name': 'Tecnico sanitario di laborato...  \n",
      "3   [{'board_name': 'Logopedista', 'entry_number':...  \n",
      "4   [{'board_name': 'Elenco speciale ad esauriment...  \n",
      "5   [{'board_name': 'Terapista occupazionale', 'en...  \n",
      "6   [{'board_name': 'Igienista dentale', 'entry_nu...  \n",
      "7   [{'board_name': 'Educatore professionale', 'en...  \n",
      "8   [{'board_name': 'Tecnico sanitario di laborato...  \n",
      "9   [{'board_name': 'Tecnico di neurofisiopatologi...  \n",
      "10  [{'board_name': 'Ortottista e assistente di of...  \n",
      "11  [{'board_name': 'TSRM', 'entry_number': 1837, ...  \n",
      "12  [{'board_name': 'Dietista', 'entry_number': 30...  \n",
      "13  [{'board_name': 'Tecnico prevenzione ambiente ...  \n",
      "14  [{'board_name': 'Terapista della neuro e psico...  \n",
      "The last index was 2\n"
     ]
    }
   ],
   "source": [
    "main()"
   ],
   "metadata": {
    "collapsed": false,
    "ExecuteTime": {
     "end_time": "2024-02-04T14:12:54.131534Z",
     "start_time": "2024-02-04T14:12:47.512839Z"
    }
   },
   "id": "85163e6660f53a72",
   "execution_count": 442
  },
  {
   "cell_type": "code",
   "outputs": [],
   "source": [],
   "metadata": {
    "collapsed": false,
    "ExecuteTime": {
     "end_time": "2024-02-04T14:12:54.131944Z",
     "start_time": "2024-02-04T14:12:54.127857Z"
    }
   },
   "id": "75e8c795df6aa44b",
   "execution_count": 442
  },
  {
   "cell_type": "code",
   "outputs": [],
   "source": [],
   "metadata": {
    "collapsed": false,
    "ExecuteTime": {
     "end_time": "2024-02-04T14:12:54.137763Z",
     "start_time": "2024-02-04T14:12:54.130972Z"
    }
   },
   "id": "e9ed78a264d7fcdd",
   "execution_count": 442
  }
 ],
 "metadata": {
  "kernelspec": {
   "display_name": "Python 3",
   "language": "python",
   "name": "python3"
  },
  "language_info": {
   "codemirror_mode": {
    "name": "ipython",
    "version": 2
   },
   "file_extension": ".py",
   "mimetype": "text/x-python",
   "name": "python",
   "nbconvert_exporter": "python",
   "pygments_lexer": "ipython2",
   "version": "2.7.6"
  }
 },
 "nbformat": 4,
 "nbformat_minor": 5
}
