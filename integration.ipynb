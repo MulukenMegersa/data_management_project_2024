{
 "cells": [
  {
   "cell_type": "code",
   "execution_count": 80,
   "id": "initial_id",
   "metadata": {
    "collapsed": true,
    "ExecuteTime": {
     "end_time": "2024-02-18T01:42:28.686125Z",
     "start_time": "2024-02-18T01:42:27.499626Z"
    }
   },
   "outputs": [
    {
     "name": "stdout",
     "output_type": "stream",
     "text": [
      "Requirement already satisfied: pymongo in ./.venv/lib/python3.12/site-packages (4.6.1)\r\n",
      "Requirement already satisfied: pandas in ./.venv/lib/python3.12/site-packages (2.2.0)\r\n",
      "Requirement already satisfied: pyarrow in ./.venv/lib/python3.12/site-packages (15.0.0)\r\n",
      "Requirement already satisfied: dnspython<3.0.0,>=1.16.0 in ./.venv/lib/python3.12/site-packages (from pymongo) (2.5.0)\r\n",
      "Requirement already satisfied: numpy<2,>=1.26.0 in ./.venv/lib/python3.12/site-packages (from pandas) (1.26.3)\r\n",
      "Requirement already satisfied: python-dateutil>=2.8.2 in ./.venv/lib/python3.12/site-packages (from pandas) (2.8.2)\r\n",
      "Requirement already satisfied: pytz>=2020.1 in ./.venv/lib/python3.12/site-packages (from pandas) (2024.1)\r\n",
      "Requirement already satisfied: tzdata>=2022.7 in ./.venv/lib/python3.12/site-packages (from pandas) (2023.4)\r\n",
      "Requirement already satisfied: six>=1.5 in ./.venv/lib/python3.12/site-packages (from python-dateutil>=2.8.2->pandas) (1.16.0)\r\n",
      "\r\n",
      "\u001B[1m[\u001B[0m\u001B[34;49mnotice\u001B[0m\u001B[1;39;49m]\u001B[0m\u001B[39;49m A new release of pip is available: \u001B[0m\u001B[31;49m23.2.1\u001B[0m\u001B[39;49m -> \u001B[0m\u001B[32;49m24.0\u001B[0m\r\n",
      "\u001B[1m[\u001B[0m\u001B[34;49mnotice\u001B[0m\u001B[1;39;49m]\u001B[0m\u001B[39;49m To update, run: \u001B[0m\u001B[32;49mpip install --upgrade pip\u001B[0m\r\n"
     ]
    }
   ],
   "source": [
    "import sys\n",
    "! pip install pymongo pandas pyarrow"
   ]
  },
  {
   "cell_type": "code",
   "outputs": [],
   "source": [
    "from pymongo import MongoClient\n",
    "import pandas as pd\n",
    "import json"
   ],
   "metadata": {
    "collapsed": false,
    "ExecuteTime": {
     "end_time": "2024-02-18T01:42:29.515067Z",
     "start_time": "2024-02-18T01:42:29.508712Z"
    }
   },
   "id": "dea0bcd649ed7b80",
   "execution_count": 81
  },
  {
   "cell_type": "code",
   "outputs": [],
   "source": [
    "client = MongoClient('localhost', 27017)\n",
    "db = client.data_managment"
   ],
   "metadata": {
    "collapsed": false,
    "ExecuteTime": {
     "end_time": "2024-02-18T01:42:30.586533Z",
     "start_time": "2024-02-18T01:42:30.575936Z"
    }
   },
   "id": "c88b745505fa4e5a",
   "execution_count": 82
  },
  {
   "cell_type": "code",
   "outputs": [
    {
     "name": "stdout",
     "output_type": "stream",
     "text": [
      "                             _id person_id    surname  \\\n",
      "0       65d13da6294d33d94a501435    399366    BADESSA   \n",
      "1       65d13da6294d33d94a501436     33538    BADESSA   \n",
      "2       65d13da6294d33d94a501437    325585    BADESSI   \n",
      "3       65d13da6294d33d94a501438    343163    BADESSI   \n",
      "4       65d13da6294d33d94a501439    554984    BADESSI   \n",
      "...                          ...       ...        ...   \n",
      "357079  65d13dac294d33d94a55870c    180274  BADARACCO   \n",
      "357080  65d13dac294d33d94a55870d     73428  BADARACCO   \n",
      "357081  65d13dac294d33d94a55870e    549817      BADAS   \n",
      "357082  65d13dac294d33d94a55870f    483756      BADAS   \n",
      "357083  65d13dac294d33d94a558710    218926      BADAS   \n",
      "\n",
      "                     first_name        date_of_birth  \\\n",
      "0                       ANTONIO  1946-07-06 00:00:00   \n",
      "1                     FRANCESCO  1967-01-01 00:00:00   \n",
      "2                     FRANCESCA  1981-07-03 00:00:00   \n",
      "3       FRANCESCO GIUSEPPE ALDO  1947-12-18 00:00:00   \n",
      "4                       GIORGIO  1991-12-28 00:00:00   \n",
      "...                         ...                  ...   \n",
      "357079                    BRUNO  1956-03-30 00:00:00   \n",
      "357080                    CARLO  1965-04-18 00:00:00   \n",
      "357081                    MAURO  1990-04-04 00:00:00   \n",
      "357082                    PAOLA  1955-09-11 00:00:00   \n",
      "357083                  ROBERTA  1976-04-26 00:00:00   \n",
      "\n",
      "                         birth_place             province  \\\n",
      "0       SANT'AGATA DI MILITELLO (ME)   FORLI'-CESENA (FC)   \n",
      "1                       MESSINA (ME)         MESSINA (ME)   \n",
      "2                       ALGHERO (SS)         SASSARI (SS)   \n",
      "3                       ARBOREA (OR)         SASSARI (SS)   \n",
      "4                   PAESI BASSI (EE)            ROMA (RM)   \n",
      "...                              ...                  ...   \n",
      "357079                    RECCO (GE)          GENOVA (GE)   \n",
      "357080                     ROMA (RM)            ROMA (RM)   \n",
      "357081                 CAGLIARI (CA)        CAGLIARI (CA)   \n",
      "357082                 CAGLIARI (CA)        CAGLIARI (CA)   \n",
      "357083                 CAGLIARI (CA)        CAGLIARI (CA)   \n",
      "\n",
      "                                    full_name    prefix  \\\n",
      "0                       DOTT. BADESSA ANTONIO     DOTT.   \n",
      "1                     DOTT. BADESSA FRANCESCO     DOTT.   \n",
      "2                  Dott.ssa BADESSI FRANCESCA  Dott.ssa   \n",
      "3       Dott. BADESSI FRANCESCO GIUSEPPE ALDO     Dott.   \n",
      "4                       Dott. BADESSI GIORGIO     Dott.   \n",
      "...                                       ...       ...   \n",
      "357079                  DOTT. BADARACCO BRUNO     DOTT.   \n",
      "357080                  Dott. BADARACCO CARLO     Dott.   \n",
      "357081                      Dott. BADAS MAURO     Dott.   \n",
      "357082                   Dott.ssa BADAS PAOLA  Dott.ssa   \n",
      "357083                 Dott.ssa BADAS ROBERTA  Dott.ssa   \n",
      "\n",
      "                                               iscrizioni  \\\n",
      "0       [{'province': 'FORLI'-CESENA', 'year': 1974-04...   \n",
      "1       [{'province': 'MESSINA', 'year': 1992-01-31 00...   \n",
      "2       [{'province': 'SASSARI', 'year': 2006-02-21 00...   \n",
      "3       [{'province': 'SASSARI', 'year': 1976-06-24 00...   \n",
      "4       [{'province': 'ROMA', 'year': 2018-07-26 00:00...   \n",
      "...                                                   ...   \n",
      "357079  [{'province': 'GENOVA', 'year': 1987-05-26 00:...   \n",
      "357080  [{'province': 'ROMA', 'year': 1992-03-30 00:00...   \n",
      "357081  [{'province': 'CAGLIARI', 'year': 2018-02-27 0...   \n",
      "357082  [{'province': 'CAGLIARI', 'year': 1981-12-22 0...   \n",
      "357083  [{'province': 'CAGLIARI', 'year': 2005-03-08 0...   \n",
      "\n",
      "                                                   lauree  \\\n",
      "0       [{'university_name': 'BOLOGNA ALMA MATER STUDI...   \n",
      "1       [{'university_name': 'MESSINA', 'name': 'MEDIC...   \n",
      "2       [{'university_name': 'SASSARI', 'name': 'MEDIC...   \n",
      "3       [{'university_name': 'SASSARI', 'name': 'MEDIC...   \n",
      "4       [{'university_name': 'PAVIA', 'name': 'MEDICIN...   \n",
      "...                                                   ...   \n",
      "357079  [{'university_name': 'GENOVA', 'name': 'MEDICI...   \n",
      "357080  [{'university_name': 'ROMA LA SAPIENZA', 'name...   \n",
      "357081  [{'university_name': 'CAGLIARI', 'name': 'MEDI...   \n",
      "357082  [{'university_name': 'CAGLIARI', 'name': 'MEDI...   \n",
      "357083  [{'university_name': 'CAGLIARI', 'name': 'MEDI...   \n",
      "\n",
      "                                             abilitazioni  \\\n",
      "0       [{'university_name': 'BOLOGNA ALMA MATER STUDI...   \n",
      "1       [{'university_name': 'MESSINA', 'name': 'Medic...   \n",
      "2       [{'university_name': 'SASSARI', 'name': 'Medic...   \n",
      "3       [{'university_name': 'SASSARI', 'name': 'Medic...   \n",
      "4       [{'university_name': 'PAVIA', 'name': 'Medicin...   \n",
      "...                                                   ...   \n",
      "357079  [{'university_name': 'GENOVA', 'name': 'Medici...   \n",
      "357080  [{'university_name': 'ROMA LA SAPIENZA', 'name...   \n",
      "357081  [{'university_name': 'CAGLIARI', 'name': 'Medi...   \n",
      "357082  [{'university_name': 'CAGLIARI', 'name': 'Medi...   \n",
      "357083  [{'university_name': 'CAGLIARI', 'name': 'Medi...   \n",
      "\n",
      "                                         specializzazioni last_update_date  \\\n",
      "0       [{'university_name': 'ROMA', 'specializzazione...       2024-01-24   \n",
      "1       [{'university_name': 'MESSINA', 'specializzazi...       2024-01-12   \n",
      "2                                                     NaN       2024-01-12   \n",
      "3       [{'university_name': 'SASSARI', 'specializzazi...       2024-01-12   \n",
      "4       [{'university_name': 'MESSINA', 'specializzazi...       2024-02-05   \n",
      "...                                                   ...              ...   \n",
      "357079  [{'university_name': 'GENOVA', 'specializzazio...       2024-01-31   \n",
      "357080  [{'university_name': 'ROMA LA SAPIENZA', 'spec...       2024-02-05   \n",
      "357081                                                NaN       2024-01-17   \n",
      "357082  [{'university_name': 'ESTERA', 'specializzazio...       2024-01-17   \n",
      "357083  [{'university_name': 'CAGLIARI', 'specializzaz...       2024-01-17   \n",
      "\n",
      "                                         elenchi_speciali  \n",
      "0                                                     NaN  \n",
      "1                                                     NaN  \n",
      "2                                                     NaN  \n",
      "3                                                     NaN  \n",
      "4                                                     NaN  \n",
      "...                                                   ...  \n",
      "357079  [{'TUTORS VALUTATORI (esami di stato)': 'TUTOR...  \n",
      "357080                                                NaN  \n",
      "357081                                                NaN  \n",
      "357082  [{'MEDICO PSICOTERAPEUTA': 'MEDICO PSICOTERAPE...  \n",
      "357083                                                NaN  \n",
      "\n",
      "[357084 rows x 15 columns]\n"
     ]
    }
   ],
   "source": [
    "fnomceo_data= list(db.fnomceo_data.find())\n",
    "fnomceo_df = pd.DataFrame(fnomceo_data)\n",
    "print(fnomceo_df)"
   ],
   "metadata": {
    "collapsed": false,
    "ExecuteTime": {
     "end_time": "2024-02-18T01:42:37.955362Z",
     "start_time": "2024-02-18T01:42:31.252595Z"
    }
   },
   "id": "2739d24ab531593e",
   "execution_count": 83
  },
  {
   "cell_type": "code",
   "outputs": [
    {
     "name": "stdout",
     "output_type": "stream",
     "text": [
      "                            _id  person_id     surname  first_name  \\\n",
      "0      65d14075294d33d94a56ecb8     101222   Abbatelli      Chiara   \n",
      "1      65d14075294d33d94a56ecb9      93494      Abbati     Tommaso   \n",
      "2      65d14075294d33d94a56ecba      85313      Abbati   Francesca   \n",
      "3      65d14075294d33d94a56ecbb     138494      Abbati      Fausta   \n",
      "4      65d14075294d33d94a56ecbc     116220  Abbattista      Teresa   \n",
      "...                         ...        ...         ...         ...   \n",
      "48308  65d14075294d33d94a57a96c     200402   Arcangeli        Aldo   \n",
      "48309  65d14075294d33d94a57a96d      86779      Arcara     Umberto   \n",
      "48310  65d14075294d33d94a57a96e     204490      Arcari       Elisa   \n",
      "48311  65d14075294d33d94a57a96f     173674      Arcari  Alessandro   \n",
      "48312  65d14075294d33d94a57a970     128140      Arcaro    Gianluca   \n",
      "\n",
      "            date_of_birth                 birth_place  \\\n",
      "0     1983-01-04 23:00:00                   Jesi (AN)   \n",
      "1     1996-04-18 22:00:00         Bagno a Ripoli (FI)   \n",
      "2     1992-03-14 23:00:00  Cernusco sul Naviglio (MI)   \n",
      "3     1962-07-11 23:00:00                 Milano (MI)   \n",
      "4     1962-06-10 23:00:00      Gravina in Puglia (BA)   \n",
      "...                   ...                         ...   \n",
      "48308 1962-09-27 23:00:00           Bastia Umbra (PG)   \n",
      "48309 1967-10-24 23:00:00                Palermo (PA)   \n",
      "48310 1995-05-06 22:00:00                Cremona (CR)   \n",
      "48311 1966-07-24 22:00:00                 Torino (TO)   \n",
      "48312 1983-12-02 23:00:00                Venafro (IS)   \n",
      "\n",
      "                                             client_name  \\\n",
      "0                                                 Marche   \n",
      "1      Ordine Fisioterapisti Firenze Arezzo Lucca Mas...   \n",
      "2      OFI Milano Como Cremona Lecco Lodi Monza-Brian...   \n",
      "3      OFI Milano Como Cremona Lecco Lodi Monza-Brian...   \n",
      "4                 OFI Bari Barletta-Andria-Trani Taranto   \n",
      "...                                                  ...   \n",
      "48308                                             Umbria   \n",
      "48309                                    Palermo Trapani   \n",
      "48310  OFI Milano Como Cremona Lecco Lodi Monza-Brian...   \n",
      "48311                                    Brescia Mantova   \n",
      "48312                                         OFI Molise   \n",
      "\n",
      "                                        special_register  \n",
      "0      [{'board_name': 'Fisioterapista', 'entry_numbe...  \n",
      "1      [{'board_name': 'Fisioterapista', 'entry_numbe...  \n",
      "2      [{'board_name': 'Fisioterapista', 'entry_numbe...  \n",
      "3      [{'board_name': 'Fisioterapista', 'entry_numbe...  \n",
      "4      [{'board_name': 'Fisioterapista', 'entry_numbe...  \n",
      "...                                                  ...  \n",
      "48308  [{'board_name': 'Fisioterapista', 'entry_numbe...  \n",
      "48309  [{'board_name': 'Fisioterapista', 'entry_numbe...  \n",
      "48310  [{'board_name': 'Fisioterapista', 'entry_numbe...  \n",
      "48311  [{'board_name': 'Fisioterapista', 'entry_numbe...  \n",
      "48312  [{'board_name': 'Fisioterapista', 'entry_numbe...  \n",
      "\n",
      "[48313 rows x 8 columns]\n"
     ]
    }
   ],
   "source": [
    "fnofi_data= list(db.fnofi_data.find())\n",
    "fnofi_df = pd.DataFrame(fnofi_data)\n",
    "print(fnofi_df)"
   ],
   "metadata": {
    "collapsed": false,
    "ExecuteTime": {
     "end_time": "2024-02-18T01:42:39.544848Z",
     "start_time": "2024-02-18T01:42:37.955774Z"
    }
   },
   "id": "447ff17e597930db",
   "execution_count": 84
  },
  {
   "cell_type": "code",
   "outputs": [
    {
     "name": "stdout",
     "output_type": "stream",
     "text": [
      "                        _id  person_id surname      first_name  \\\n",
      "0  65d14000294d33d94a558711     250493    Abbà         Roberta   \n",
      "1  65d14000294d33d94a558712     131688    Abbà         Manuela   \n",
      "2  65d14000294d33d94a558713     250498    Abbà         Giorgia   \n",
      "3  65d14000294d33d94a558714     250491    Abbà  Elena Giovanna   \n",
      "4  65d14000294d33d94a558715     154516   Abba'           Elena   \n",
      "\n",
      "        date_of_birth      birth_place                    client_name  \\\n",
      "0 1977-06-05 22:00:00       Cuneo (CN)                          Cuneo   \n",
      "1 1986-01-11 23:00:00       Cuneo (CN)                          Cuneo   \n",
      "2 1983-10-16 23:00:00       Cuneo (CN)                          Cuneo   \n",
      "3 1973-03-30 23:00:00  Savigliano (CN)                          Cuneo   \n",
      "4 1966-02-13 23:00:00      Torino (TO)  Torino Aosta Alessandria Asti   \n",
      "\n",
      "                                    special_register  \n",
      "0  [{'board_name': 'Educazione Professionale', 'e...  \n",
      "1  [{'board_name': 'Ortottica e Assistenza Oftalm...  \n",
      "2  [{'board_name': 'Educazione Professionale', 'e...  \n",
      "3  [{'board_name': 'Educazione Professionale', 'e...  \n",
      "4  [{'board_name': 'Tecniche di Laboratorio Biome...  \n"
     ]
    }
   ],
   "source": [
    "alboweb_data= list(db.alboweb_data.find())\n",
    "alboweb_df = pd.DataFrame(alboweb_data)\n",
    "print(alboweb_df.head())"
   ],
   "metadata": {
    "collapsed": false,
    "ExecuteTime": {
     "end_time": "2024-02-18T01:42:43.138897Z",
     "start_time": "2024-02-18T01:42:42.132014Z"
    }
   },
   "id": "89ef1c3d7734643e",
   "execution_count": 85
  },
  {
   "cell_type": "code",
   "outputs": [
    {
     "name": "stdout",
     "output_type": "stream",
     "text": [
      "                        _id  person_id surname      first_name  \\\n",
      "0  65d14000294d33d94a558711     250493    Abbà         Roberta   \n",
      "1  65d14000294d33d94a558712     131688    Abbà         Manuela   \n",
      "2  65d14000294d33d94a558713     250498    Abbà         Giorgia   \n",
      "3  65d14000294d33d94a558714     250491    Abbà  Elena Giovanna   \n",
      "4  65d14000294d33d94a558715     154516   Abba'           Elena   \n",
      "\n",
      "        date_of_birth      birth_place                    client_name  \\\n",
      "0 1977-06-05 22:00:00       Cuneo (CN)                          Cuneo   \n",
      "1 1986-01-11 23:00:00       Cuneo (CN)                          Cuneo   \n",
      "2 1983-10-16 23:00:00       Cuneo (CN)                          Cuneo   \n",
      "3 1973-03-30 23:00:00  Savigliano (CN)                          Cuneo   \n",
      "4 1966-02-13 23:00:00      Torino (TO)  Torino Aosta Alessandria Asti   \n",
      "\n",
      "                                    special_register  \n",
      "0  [{'board_name': 'Educazione Professionale', 'e...  \n",
      "1  [{'board_name': 'Ortottica e Assistenza Oftalm...  \n",
      "2  [{'board_name': 'Educazione Professionale', 'e...  \n",
      "3  [{'board_name': 'Educazione Professionale', 'e...  \n",
      "4  [{'board_name': 'Tecniche di Laboratorio Biome...  \n"
     ]
    }
   ],
   "source": [
    "print(alboweb_df.head())"
   ],
   "metadata": {
    "collapsed": false,
    "ExecuteTime": {
     "end_time": "2024-02-18T01:42:46.121100Z",
     "start_time": "2024-02-18T01:42:46.116165Z"
    }
   },
   "id": "5aeb18c4d7066808",
   "execution_count": 86
  },
  {
   "cell_type": "code",
   "outputs": [
    {
     "name": "stdout",
     "output_type": "stream",
     "text": [
      "                           _id_x person_id_x    surname       first_name_x  \\\n",
      "2926    65d13da6294d33d94a501fa3      491735      CRETA            ANTONIO   \n",
      "2927    65d13da6294d33d94a501fa4      297116      CRETA            CARMINE   \n",
      "2928    65d13da6294d33d94a501fa5      361957      CRETA           DOMENICO   \n",
      "2929    65d13da6294d33d94a501fa6      512278      CRETA               ELIA   \n",
      "2930    65d13da6294d33d94a501fa7      583819      CRETA    MARIA FRANCESCA   \n",
      "...                          ...         ...        ...                ...   \n",
      "356579  65d13dac294d33d94a55847f      250609  AZZARELLI        MARIA LUANA   \n",
      "356580  65d13dac294d33d94a558480      349297  AZZARELLI            OSVALDO   \n",
      "356581  65d13dac294d33d94a558481      181324  AZZARELLI  SALVATORE ADRIANO   \n",
      "357170  65d13dac294d33d94a5586ce      315068     BACHIS            CLAUDIA   \n",
      "357171  65d13dac294d33d94a5586cf      186950     BACHIS            GIORGIO   \n",
      "\n",
      "                date_of_birth_x           birth_place_x             province  \\\n",
      "2926    1986-11-10 00:00:00.000          CATTOLICA (RN)            ROMA (RM)   \n",
      "2927    1962-04-13 00:00:00.000  CINISELLO BALSAMO (MI)          MILANO (MI)   \n",
      "2928    1968-02-19 00:00:00.000             FORLI' (FC)   FORLI'-CESENA (FC)   \n",
      "2929    1989-07-23 00:00:00.000       FORLIMPOPOLI (FC)   FORLI'-CESENA (FC)   \n",
      "2930    1995-09-13 00:00:00.000            SONDALO (SO)          MILANO (MI)   \n",
      "...                         ...                     ...                  ...   \n",
      "356579  1971-08-24 00:00:00.000             TORINO (TO)         CATANIA (CT)   \n",
      "356580  1960-12-19 00:00:00.000            CATANIA (CT)         CATANIA (CT)   \n",
      "356581  1969-06-10 00:00:00.000             TORINO (TO)         CATANIA (CT)   \n",
      "357170  1979-06-06 00:00:00.000           CAGLIARI (CA)        CAGLIARI (CA)   \n",
      "357171  1948-10-17 00:00:00.000            SILIQUA (SU)        CAGLIARI (CA)   \n",
      "\n",
      "                                full_name    prefix  \\\n",
      "2926                  Dott. CRETA ANTONIO     Dott.   \n",
      "2927                  Dott. CRETA CARMINE     Dott.   \n",
      "2928                 DOTT. CRETA DOMENICO     DOTT.   \n",
      "2929                     DOTT. CRETA ELIA     DOTT.   \n",
      "2930       Dott.ssa CRETA MARIA FRANCESCA  Dott.ssa   \n",
      "...                                   ...       ...   \n",
      "356579     DOTT.SSA AZZARELLI MARIA LUANA  DOTT.SSA   \n",
      "356580            DOTT. AZZARELLI OSVALDO     DOTT.   \n",
      "356581  DOTT. AZZARELLI SALVATORE ADRIANO     DOTT.   \n",
      "357170            Dott.ssa BACHIS CLAUDIA  Dott.ssa   \n",
      "357171               Dott. BACHIS GIORGIO     Dott.   \n",
      "\n",
      "                                               iscrizioni  ...  \\\n",
      "2926    [{'province': 'ROMA', 'year': 2012-04-05 00:00...  ...   \n",
      "2927    [{'province': 'MILANO', 'year': 1990-06-20 00:...  ...   \n",
      "2928    [{'province': 'FORLI'-CESENA', 'year': 1995-01...  ...   \n",
      "2929    [{'province': 'FORLI'-CESENA', 'year': 2015-02...  ...   \n",
      "2930    [{'province': 'MILANO', 'year': 2020-09-02 00:...  ...   \n",
      "...                                                   ...  ...   \n",
      "356579  [{'province': 'CATANIA', 'year': 1996-06-06 00...  ...   \n",
      "356580  [{'province': 'CATANIA', 'year': 1986-02-27 00...  ...   \n",
      "356581  [{'province': 'CATANIA', 'year': 1994-01-13 00...  ...   \n",
      "357170  [{'province': 'CAGLIARI', 'year': 2005-07-26 0...  ...   \n",
      "357171  [{'province': 'CAGLIARI', 'year': 1981-07-30 0...  ...   \n",
      "\n",
      "       last_update_date                                   elenchi_speciali  \\\n",
      "2926         2024-02-05                                                NaN   \n",
      "2927         2024-02-06                                                NaN   \n",
      "2928         2024-01-24                                                NaN   \n",
      "2929         2024-01-24                                                NaN   \n",
      "2930         2024-02-06                                                NaN   \n",
      "...                 ...                                                ...   \n",
      "356579       2024-02-01                                                NaN   \n",
      "356580       2024-02-01  [{'MEDICO PSICOTERAPEUTA': 'MEDICO PSICOTERAPE...   \n",
      "356581       2024-02-01                                                NaN   \n",
      "357170       2024-01-17                                                NaN   \n",
      "357171       2024-01-17                                                NaN   \n",
      "\n",
      "                           _id_y person_id_y first_name_y  \\\n",
      "2926    65d14075294d33d94a570e6b    735837.0      ARMANDO   \n",
      "2927    65d14075294d33d94a570e6b    735837.0      ARMANDO   \n",
      "2928    65d14075294d33d94a570e6b    735837.0      ARMANDO   \n",
      "2929    65d14075294d33d94a570e6b    735837.0      ARMANDO   \n",
      "2930    65d14075294d33d94a570e6b    735837.0      ARMANDO   \n",
      "...                          ...         ...          ...   \n",
      "356579  65d14075294d33d94a56f2ec    728103.0     VINCENZO   \n",
      "356580  65d14075294d33d94a56f2ec    728103.0     VINCENZO   \n",
      "356581  65d14075294d33d94a56f2ec    728103.0     VINCENZO   \n",
      "357170  65d14075294d33d94a56f342    736301.0         LUCA   \n",
      "357171  65d14075294d33d94a56f342    736301.0         LUCA   \n",
      "\n",
      "                date_of_birth_y             birth_place_y  \\\n",
      "2926    1991-08-19 22:00:00.000      Palazzo Adriano (PA)   \n",
      "2927    1991-08-19 22:00:00.000      Palazzo Adriano (PA)   \n",
      "2928    1991-08-19 22:00:00.000      Palazzo Adriano (PA)   \n",
      "2929    1991-08-19 22:00:00.000      Palazzo Adriano (PA)   \n",
      "2930    1991-08-19 22:00:00.000      Palazzo Adriano (PA)   \n",
      "...                         ...                       ...   \n",
      "356579  1985-11-11 23:00:00.000   Reggio di Calabria (RC)   \n",
      "356580  1985-11-11 23:00:00.000   Reggio di Calabria (RC)   \n",
      "356581  1985-11-11 23:00:00.000   Reggio di Calabria (RC)   \n",
      "357170  1998-09-02 22:00:00.000  Gardone Val Trompia (BS)   \n",
      "357171  1998-09-02 22:00:00.000  Gardone Val Trompia (BS)   \n",
      "\n",
      "                                              client_name  \\\n",
      "2926                                           OFI Molise   \n",
      "2927                                           OFI Molise   \n",
      "2928                                           OFI Molise   \n",
      "2929                                           OFI Molise   \n",
      "2930                                           OFI Molise   \n",
      "...                                                   ...   \n",
      "356579  OFI Milano Como Cremona Lecco Lodi Monza-Brian...   \n",
      "356580  OFI Milano Como Cremona Lecco Lodi Monza-Brian...   \n",
      "356581  OFI Milano Como Cremona Lecco Lodi Monza-Brian...   \n",
      "357170                                    Brescia Mantova   \n",
      "357171                                    Brescia Mantova   \n",
      "\n",
      "                                         special_register _merge  \n",
      "2926    [{'board_name': 'Fisioterapista', 'entry_numbe...   both  \n",
      "2927    [{'board_name': 'Fisioterapista', 'entry_numbe...   both  \n",
      "2928    [{'board_name': 'Fisioterapista', 'entry_numbe...   both  \n",
      "2929    [{'board_name': 'Fisioterapista', 'entry_numbe...   both  \n",
      "2930    [{'board_name': 'Fisioterapista', 'entry_numbe...   both  \n",
      "...                                                   ...    ...  \n",
      "356579  [{'board_name': 'Fisioterapista', 'entry_numbe...   both  \n",
      "356580  [{'board_name': 'Fisioterapista', 'entry_numbe...   both  \n",
      "356581  [{'board_name': 'Fisioterapista', 'entry_numbe...   both  \n",
      "357170  [{'board_name': 'Fisioterapista', 'entry_numbe...   both  \n",
      "357171  [{'board_name': 'Fisioterapista', 'entry_numbe...   both  \n",
      "\n",
      "[8464 rows x 23 columns]\n"
     ]
    }
   ],
   "source": [
    "# merged_df = pd.merge(fnofi_df.head(), alboweb_df.head(), on=['surname', 'first_name', 'birth_place'], how='left')\n",
    "# fnomceo_df['date_of_birth'] = pd.to_datetime(fnomceo_df['date_of_birth'], utc=True)\n",
    "# alboweb_df['date_of_birth'] = pd.to_datetime(alboweb_df['date_of_birth'], utc=True)\n",
    "fnomceo_df['date_of_birth'] = fnomceo_df['date_of_birth'].apply(lambda x: pd.Period(x, freq='ms')) \n",
    "alboweb_df['date_of_birth'] = alboweb_df['date_of_birth'].apply(lambda x: pd.Period(x, freq='ms')) \n",
    "fnofi_df['date_of_birth'] = fnofi_df['date_of_birth'].apply(lambda x: pd.Period(x, freq='ms')) \n",
    "merged_df = fnomceo_df.merge(fnofi_df,how=\"left\",on=[\"surname\"],indicator=True)\n",
    "# merged_df = fnomceo_df.merge(fnofi_df,how=\"left\",on=[\"surname\",\"first_name\",\"date_of_birth\",\"birth_place\"],indicator=True)\n",
    "\n",
    "equals_to = merged_df[merged_df['_merge'] == \"both\"]\n",
    "print(equals_to)"
   ],
   "metadata": {
    "collapsed": false,
    "ExecuteTime": {
     "end_time": "2024-02-18T01:58:10.911234Z",
     "start_time": "2024-02-18T01:58:00.430721Z"
    }
   },
   "id": "f217925a228f6f17",
   "execution_count": 99
  },
  {
   "cell_type": "code",
   "outputs": [],
   "source": [
    "# merged_df.to_json(f\"final_data/integrated_data/integrated_data.json\",orient='records', default_handler=str)\n",
    "from bson import json_util\n",
    "\n",
    "with open(f\"final_data/integrated_data/integrated_data.json\", 'w', encoding='utf-8', ) as f:\n",
    "    json.dump(merged_df.to_dict(), f, ensure_ascii=False, indent=4,default=str)"
   ],
   "metadata": {
    "collapsed": false,
    "ExecuteTime": {
     "end_time": "2024-02-18T01:02:26.597643Z",
     "start_time": "2024-02-18T01:02:26.589133Z"
    }
   },
   "id": "288eb49dc8c7166c",
   "execution_count": 50
  },
  {
   "cell_type": "code",
   "outputs": [],
   "source": [
    "# Creating empty array to store new documents\n",
    "documents = []\n",
    "\n",
    "# Iterating over groups\n",
    "for fnofi_element in fnofi_df:\n",
    "    # Each group is composed by a tuple (the group key) and a DataFrame\n",
    "    # group_key = csv_group[0]\n",
    "    # csv_group_df = csv_group[1]\n",
    "    # \n",
    "    # # Retrieving the same group DataFrame from the MongoDB groups using the group_key\n",
    "    # mongodb_group_df = mongodb_df_groups.get_group(group_key)\n",
    "    # \n",
    "    # document = {\n",
    "    #     'date': datetime.datetime(group_key[0].year, group_key[0].month, group_key[0].day),\n",
    "    #     'room': group_key[1],\n",
    "    #     'room_label': from_room_to_label(group_key[1]),\n",
    "    # }\n",
    "    # detections = []\n",
    "    # for row in csv_group_df.itertuples():\n",
    "    #     detection = {\n",
    "    #         'sensor': row.sensor,\n",
    "    #         'timestamp': row.timestamp.to_pydatetime(),\n",
    "    #         'value': row.value,\n",
    "    #         'unit': row.unit\n",
    "    #     }\n",
    "    #     detections.append(detection)\n",
    "    # for row in mongodb_group_df.itertuples():\n",
    "    #     detection = {\n",
    "    #         'sensor': row.sensor,\n",
    "    #         'timestamp': row.datetime.to_pydatetime(),\n",
    "    #         'value': row.value,\n",
    "    #         'unit': row.unit\n",
    "    #     }\n",
    "    #     detections.append(detection)\n",
    "    # document['detections'] = detections\n",
    "    # documents.append(document)"
   ],
   "metadata": {
    "collapsed": false,
    "ExecuteTime": {
     "start_time": "2024-02-17T23:55:29.849719Z"
    }
   },
   "id": "fd89915ed6f3d5bd",
   "execution_count": null
  },
  {
   "cell_type": "code",
   "outputs": [
    {
     "name": "stdout",
     "output_type": "stream",
     "text": [
      "[{'id': 1, 'value': 'one'}, {'id': 2, 'value': 'two_updated'}, {'id': 3, 'value': 'three'}]\n"
     ]
    }
   ],
   "source": [
    "# Array of dictionaries  1\n",
    "dict_array1 = [{'id':  1, 'value': 'one'}, {'id':  2, 'value': 'two'}]\n",
    "# Array of dictionaries  2\n",
    "dict_array2 = [{'id':  2, 'value': 'two_updated'}, {'id':  3, 'value': 'three'}]\n",
    "\n",
    "# Merge based on the 'id' key\n",
    "merged_dict = {}\n",
    "for d in dict_array1 + dict_array2:\n",
    "    merged_dict[d['id']] = merged_dict.get(d['id'], {}) | d\n",
    "\n",
    "# Convert back to an array of dictionaries\n",
    "merged_array = list(merged_dict.values())\n",
    "print(merged_array)"
   ],
   "metadata": {
    "collapsed": false,
    "ExecuteTime": {
     "end_time": "2024-02-18T00:25:20.665307Z",
     "start_time": "2024-02-18T00:25:20.660897Z"
    }
   },
   "id": "3257596163c71568",
   "execution_count": 25
  },
  {
   "cell_type": "code",
   "outputs": [
    {
     "name": "stdout",
     "output_type": "stream",
     "text": [
      "[{'id': None, 'surname': 'Abe', 'person_id': 2001003213, 'first_name': 'Francesca', 'date_of_birth': '2000-09-07T22:00:00.000000Z', 'birth_place': 'Napoli (NA)', 'province': ' LECCO (LC)', 'full_name': 'DOTT. BADESSI STEFANO', 'prefix': 'DOTT.', 'iscrizioni': [{'province': 'LECCO', 'year': '14/12/1993', 'number': '0000000824'}], 'lauree': [{'university_name': 'MILANO', 'name': 'MEDICINA E CHIRURGIA', 'year': '16/07/1986'}], 'abilitazioni': [{'university_name': 'MILANO', 'name': 'Medicina e Chirurgia', 'year': '1986', 'round': '2'}], 'specializzazioni': [{'university_name': 'MILANO', 'specializzazione_name': 'CHIRURGIA GENERALE', 'year': '14/11/1991'}], 'last_update_date': '20/12/2023', 'client_name': 'LECCO (LC)', 'special_register': [{'board_name': 'Fisioterapista', 'entry_number': 4837, 'entry_suffix': None, 'inscripted_at': '19/05/2023', 'state_name': 'ISCRITTO', 'badge_class': 'badge badge-success', 'is_with_reserve': False}]}]\n"
     ]
    }
   ],
   "source": [
    "from collections import defaultdict\n",
    "\n",
    "dict_array1 = [{\n",
    "    \"person_id\": \"50365\",\n",
    "    \"surname\": \"Abe\",\n",
    "    \"first_name\": \"STEFANO\",\n",
    "    \"date_of_birth\": \"25/04/1959\",\n",
    "    \"birth_place\": \"LECCO (LC)\",\n",
    "    \"province\": \" LECCO (LC)\",\n",
    "    \"full_name\": \"DOTT. BADESSI STEFANO\",\n",
    "    \"prefix\": \"DOTT.\",\n",
    "    \"iscrizioni\": [\n",
    "        {\"province\": \"LECCO\", \"year\": \"14/12/1993\", \"number\": \"0000000824\"}\n",
    "    ],\n",
    "    \"lauree\": [{\"university_name\": \"MILANO\", \"name\": \"MEDICINA E CHIRURGIA\", \"year\": \"16/07/1986\"}],\n",
    "    \"abilitazioni\": [{\"university_name\": \"MILANO\", \"name\": \"Medicina e Chirurgia\", \"year\": \"1986\", \"round\": \"2\"}],\n",
    "    \"specializzazioni\": [{\"university_name\": \"MILANO\", \"specializzazione_name\": \"CHIRURGIA GENERALE\", \"year\": \"14/11/1991\"}],\n",
    "    \"last_update_date\": \"20/12/2023\"\n",
    "}]\n",
    "# Array of dictionaries  2\n",
    "dict_array2 = [{\n",
    "    \"person_id\": 2001003213,\n",
    "    \"surname\": \"Abe\",\n",
    "    \"first_name\": \"Francesca\",\n",
    "    \"date_of_birth\": \"2000-09-07T22:00:00.000000Z\",\n",
    "    \"birth_place\": \"Napoli (NA)\",\n",
    "    \"client_name\": \"LECCO (LC)\",\n",
    "    \"special_register\": [\n",
    "        {\n",
    "            \"board_name\": \"Fisioterapista\",\n",
    "            \"entry_number\": 4837,\n",
    "            \"entry_suffix\": None,\n",
    "            \"inscripted_at\": \"19/05/2023\",\n",
    "            \"state_name\": \"ISCRITTO\",\n",
    "            \"badge_class\": \"badge badge-success\",\n",
    "            \"is_with_reserve\": False\n",
    "        }\n",
    "    ]\n",
    "}]\n",
    "\n",
    "temp = defaultdict(lambda: {'id': None})\n",
    "\n",
    "for elem in dict_array1 + dict_array2:\n",
    "    temp[elem['surname']]['surname'] = elem['surname']\n",
    "    # temp[elem['id']]['values'].extend(elem['values'])\n",
    "    temp[elem['surname']].update({key: elem[key] for key in elem if key not in ['surname', 'values']})\n",
    "\n",
    "merged_array = list(temp.values())\n",
    "\n",
    "print(merged_array)"
   ],
   "metadata": {
    "collapsed": false,
    "ExecuteTime": {
     "end_time": "2024-02-18T00:38:24.793486Z",
     "start_time": "2024-02-18T00:38:24.786237Z"
    }
   },
   "id": "8c741da688ab0fdd",
   "execution_count": 41
  },
  {
   "cell_type": "code",
   "outputs": [
    {
     "name": "stdout",
     "output_type": "stream",
     "text": [
      "[{'id': 1, 'property1': 'foo'}, {'id': 2, 'property1': 'bar', 'property2': 'baz'}, {'id': 3, 'property2': 'qux'}]\n"
     ]
    }
   ],
   "source": [
    "from collections import defaultdict\n",
    "\n",
    "dict_array1 = [{'id': 1, 'property1': 'foo'}, {'id': 2, 'property1': 'bar'}]\n",
    "dict_array2 = [{'id': 2, \n",
    "                'property2': 'baz'}, {'id': 3, 'values': ['f'], 'property2': 'qux'}]\n",
    "\n",
    "c = [\n",
    "    {'id': 1, 'values': ['a', 'b'], 'property1': 'foo'}, \n",
    "    \n",
    "    \n",
    "    {'id': 2, 'values': ['c', 'd', 'e'], \n",
    "     'property1': 'bar', 'property2': 'baz'},\n",
    "    {'id': 3, 'values': ['f'], 'property2': 'qux'}]\n",
    "\n",
    "\n",
    "temp = defaultdict(lambda: {'id': None})\n",
    "\n",
    "for elem in dict_array1 + dict_array2:\n",
    "    temp[elem['id']]['id'] = elem['id']\n",
    "    # temp[elem['id']]['values'].extend(elem['values'])\n",
    "    temp[elem['id']].update({key: elem[key] for key in elem if key not in ['id', 'values']})\n",
    "\n",
    "merged_array = list(temp.values())\n",
    "\n",
    "print(merged_array)"
   ],
   "metadata": {
    "collapsed": false,
    "ExecuteTime": {
     "end_time": "2024-02-18T00:37:32.359078Z",
     "start_time": "2024-02-18T00:37:32.347826Z"
    }
   },
   "id": "d13418a914ae8731",
   "execution_count": 39
  },
  {
   "cell_type": "code",
   "outputs": [
    {
     "name": "stdout",
     "output_type": "stream",
     "text": [
      "[{'surname': 'Abe', 'first_name': 'Francesca', 'birth_place': 'Napoli (NA)', 'person_id': 2001003213, 'date_of_birth': '2000-09-07T22:00:00.000000Z', 'province': ' LECCO (LC)', 'full_name': 'DOTT. BADESSI STEFANO', 'prefix': 'DOTT.', 'iscrizioni': [{'province': 'LECCO', 'year': '14/12/1993', 'number': '0000000824'}], 'lauree': [{'university_name': 'MILANO', 'name': 'MEDICINA E CHIRURGIA', 'year': '16/07/1986'}], 'abilitazioni': [{'university_name': 'MILANO', 'name': 'Medicina e Chirurgia', 'year': '1986', 'round': '2'}], 'specializzazioni': [{'university_name': 'MILANO', 'specializzazione_name': 'CHIRURGIA GENERALE', 'year': '14/11/1991'}], 'last_update_date': '20/12/2023', 'client_name': 'LECCO (LC)', 'special_register': [{'board_name': 'Fisioterapista', 'entry_number': 4837, 'entry_suffix': None, 'inscripted_at': '19/05/2023', 'state_name': 'ISCRITTO', 'badge_class': 'badge badge-success', 'is_with_reserve': False}]}]\n"
     ]
    }
   ],
   "source": [
    "from collections import defaultdict\n",
    "\n",
    "dict_array1 = [{\n",
    "    \"person_id\": \"50365\",\n",
    "    \"surname\": \"Abe\",\n",
    "    \"first_name\": \"STEFANO\",\n",
    "    \"date_of_birth\": \"25/04/1959\",\n",
    "    \"birth_place\": \"LECCO (LC)\",\n",
    "    \"province\": \" LECCO (LC)\",\n",
    "    \"full_name\": \"DOTT. BADESSI STEFANO\",\n",
    "    \"prefix\": \"DOTT.\",\n",
    "    \"iscrizioni\": [\n",
    "        {\"province\": \"LECCO\", \"year\": \"14/12/1993\", \"number\": \"0000000824\"}\n",
    "    ],\n",
    "    \"lauree\": [{\"university_name\": \"MILANO\", \"name\": \"MEDICINA E CHIRURGIA\", \"year\": \"16/07/1986\"}],\n",
    "    \"abilitazioni\": [{\"university_name\": \"MILANO\", \"name\": \"Medicina e Chirurgia\", \"year\": \"1986\", \"round\": \"2\"}],\n",
    "    \"specializzazioni\": [{\"university_name\": \"MILANO\", \"specializzazione_name\": \"CHIRURGIA GENERALE\", \"year\": \"14/11/1991\"}],\n",
    "    \"last_update_date\": \"20/12/2023\"\n",
    "}]\n",
    "# Array of dictionaries  2\n",
    "dict_array2 = [{\n",
    "    \"person_id\": 2001003213,\n",
    "    \"surname\": \"Abe\",\n",
    "    \"first_name\": \"Francesca\",\n",
    "    \"date_of_birth\": \"2000-09-07T22:00:00.000000Z\",\n",
    "    \"birth_place\": \"Napoli (NA)\",\n",
    "    \"client_name\": \"LECCO (LC)\",\n",
    "    \"special_register\": [\n",
    "        {\n",
    "            \"board_name\": \"Fisioterapista\",\n",
    "            \"entry_number\": 4837,\n",
    "            \"entry_suffix\": None,\n",
    "            \"inscripted_at\": \"19/05/2023\",\n",
    "            \"state_name\": \"ISCRITTO\",\n",
    "            \"badge_class\": \"badge badge-success\",\n",
    "            \"is_with_reserve\": False\n",
    "        }\n",
    "    ]\n",
    "}]\n",
    "\n",
    "temp = defaultdict(lambda: {'surname': None, 'first_name': None, 'birth_place': None})\n",
    "\n",
    "for elem in dict_array1 + dict_array2:\n",
    "    temp[elem['surname']]['surname'] = elem['surname']\n",
    "    temp[elem['surname']]['first_name'] = elem.get('first_name', temp[elem['surname']]['first_name'])\n",
    "    temp[elem['surname']]['birth_place'] = elem.get('birth_place', temp[elem['surname']]['birth_place'])\n",
    "    temp[elem['surname']].update({key: elem[key] for key in elem if key not in ['surname', 'first_name', 'birth_place']})\n",
    "\n",
    "merged_array = list(temp.values())\n",
    "\n",
    "print(merged_array)\n"
   ],
   "metadata": {
    "collapsed": false,
    "ExecuteTime": {
     "end_time": "2024-02-18T00:42:34.317777Z",
     "start_time": "2024-02-18T00:42:34.309071Z"
    }
   },
   "id": "7612692ea32d3fb9",
   "execution_count": 42
  },
  {
   "cell_type": "code",
   "outputs": [
    {
     "name": "stdout",
     "output_type": "stream",
     "text": [
      "[{'surname': None, 'first_name': 'Francesca', 'birth_place': 'Napoli (NA)', 'person_id': 2001003213, 'date_of_birth': '2000-09-07T22:00:00.000000Z', 'province': 'LECCO (LC)', 'full_name': 'DOTT. BADESSI STEFANO', 'prefix': 'DOTT.', 'iscrizioni': [{'province': 'LECCO', 'year': '14/12/1993', 'number': '0000000824'}], 'lauree': [{'university_name': 'MILANO', 'name': 'MEDICINA E CHIRURGIA', 'year': '16/07/1986'}], 'abilitazioni': [{'university_name': 'MILANO', 'name': 'Medicina e Chirurgia', 'year': '1986', 'round': '2'}], 'specializzazioni': [{'university_name': 'MILANO', 'specializzazione_name': 'CHIRURGIA GENERALE', 'year': '14/11/1991'}], 'last_update_date': '20/12/2023', 'client_name': 'LECCO (LC)', 'special_register': [{'board_name': 'Fisioterapista', 'entry_number': 4837, 'entry_suffix': None, 'inscripted_at': '19/05/2023', 'state_name': 'ISCRITTO', 'badge_class': 'badge badge-success', 'is_with_reserve': False}]}]\n"
     ]
    }
   ],
   "source": [
    "from collections import defaultdict\n",
    "\n",
    "dict_array1 = [{\n",
    "    \"person_id\": \"50365\",\n",
    "    \"surname\": \"Abe\",\n",
    "    \"first_name\": \"STEFANO\",\n",
    "    \"date_of_birth\": \"25/04/1959\",\n",
    "    \"birth_place\": \"LECCO (LC)\",\n",
    "    \"province\": \"LECCO (LC)\",\n",
    "    \"full_name\": \"DOTT. BADESSI STEFANO\",\n",
    "    \"prefix\": \"DOTT.\",\n",
    "    \"iscrizioni\": [\n",
    "        {\"province\": \"LECCO\", \"year\": \"14/12/1993\", \"number\": \"0000000824\"}\n",
    "    ],\n",
    "    \"lauree\": [{\"university_name\": \"MILANO\", \"name\": \"MEDICINA E CHIRURGIA\", \"year\": \"16/07/1986\"}],\n",
    "    \"abilitazioni\": [{\"university_name\": \"MILANO\", \"name\": \"Medicina e Chirurgia\", \"year\": \"1986\", \"round\": \"2\"}],\n",
    "    \"specializzazioni\": [{\"university_name\": \"MILANO\", \"specializzazione_name\": \"CHIRURGIA GENERALE\", \"year\": \"14/11/1991\"}],\n",
    "    \"last_update_date\": \"20/12/2023\"\n",
    "}]\n",
    "\n",
    "dict_array2 = [{\n",
    "    \"person_id\": 2001003213,\n",
    "    \"surname\": \"Abe\",\n",
    "    \"first_name\": \"Francesca\",\n",
    "    \"date_of_birth\": \"2000-09-07T22:00:00.000000Z\",\n",
    "    \"birth_place\": \"Napoli (NA)\",\n",
    "    \"client_name\": \"LECCO (LC)\",\n",
    "    \"special_register\": [\n",
    "        {\n",
    "            \"board_name\": \"Fisioterapista\",\n",
    "            \"entry_number\": 4837,\n",
    "            \"entry_suffix\": None,\n",
    "            \"inscripted_at\": \"19/05/2023\",\n",
    "            \"state_name\": \"ISCRITTO\",\n",
    "            \"badge_class\": \"badge badge-success\",\n",
    "            \"is_with_reserve\": False\n",
    "        }\n",
    "    ]\n",
    "}]\n",
    "\n",
    "temp = defaultdict(lambda: {'surname': None, 'first_name': None, 'birth_place': None})\n",
    "\n",
    "for elem in dict_array1 + dict_array2:\n",
    "    # temp[elem['surname']]['surname'] = elem['surname']\n",
    "    temp[elem['surname']]['first_name'] = elem.get('first_name', temp[elem['surname']]['first_name'])\n",
    "    temp[elem['surname']]['birth_place'] = elem.get('birth_place', temp[elem['surname']]['birth_place'])\n",
    "    temp[elem['surname']].update({key: elem[key] for key in elem if key not in ['surname', 'first_name', 'birth_place']})\n",
    "\n",
    "merged_array = list(temp.values())\n",
    "\n",
    "print(merged_array)\n"
   ],
   "metadata": {
    "collapsed": false,
    "ExecuteTime": {
     "end_time": "2024-02-18T00:46:21.997464Z",
     "start_time": "2024-02-18T00:46:21.986366Z"
    }
   },
   "id": "c832eb57487f6f13",
   "execution_count": 44
  },
  {
   "cell_type": "code",
   "outputs": [
    {
     "name": "stdout",
     "output_type": "stream",
     "text": [
      "  person_id  surname               first_name date_of_birth  \\\n",
      "0    399366  BADESSA                  ANTONIO    06/07/1946   \n",
      "1     33538  BADESSA                FRANCESCO    01/01/1967   \n",
      "2    325585  BADESSI                FRANCESCA    03/07/1981   \n",
      "3    343163  BADESSI  FRANCESCO GIUSEPPE ALDO    18/12/1947   \n",
      "4    554984  BADESSI                  GIORGIO    28/12/1991   \n",
      "\n",
      "                    birth_place             province  \\\n",
      "0  SANT'AGATA DI MILITELLO (ME)   FORLI'-CESENA (FC)   \n",
      "1                  MESSINA (ME)         MESSINA (ME)   \n",
      "2                  ALGHERO (SS)         SASSARI (SS)   \n",
      "3                  ARBOREA (OR)         SASSARI (SS)   \n",
      "4              PAESI BASSI (EE)            ROMA (RM)   \n",
      "\n",
      "                               full_name    prefix  \\\n",
      "0                  DOTT. BADESSA ANTONIO     DOTT.   \n",
      "1                DOTT. BADESSA FRANCESCO     DOTT.   \n",
      "2             Dott.ssa BADESSI FRANCESCA  Dott.ssa   \n",
      "3  Dott. BADESSI FRANCESCO GIUSEPPE ALDO     Dott.   \n",
      "4                  Dott. BADESSI GIORGIO     Dott.   \n",
      "\n",
      "                                          iscrizioni  \\\n",
      "0  [{'province': 'FORLI'-CESENA', 'year': '03/04/...   \n",
      "1  [{'province': 'MESSINA', 'year': '31/01/1992',...   \n",
      "2  [{'province': 'SASSARI', 'year': '21/02/2006',...   \n",
      "3  [{'province': 'SASSARI', 'year': '24/06/1976',...   \n",
      "4  [{'province': 'ROMA', 'year': '26/07/2018', 'n...   \n",
      "\n",
      "                                              lauree  \\\n",
      "0  [{'university_name': 'BOLOGNA ALMA MATER STUDI...   \n",
      "1  [{'university_name': 'MESSINA', 'name': 'MEDIC...   \n",
      "2  [{'university_name': 'SASSARI', 'name': 'MEDIC...   \n",
      "3  [{'university_name': 'SASSARI', 'name': 'MEDIC...   \n",
      "4  [{'university_name': 'PAVIA', 'name': 'MEDICIN...   \n",
      "\n",
      "                                        abilitazioni  \\\n",
      "0  [{'university_name': 'BOLOGNA ALMA MATER STUDI...   \n",
      "1  [{'university_name': 'MESSINA', 'name': 'Medic...   \n",
      "2  [{'university_name': 'SASSARI', 'name': 'Medic...   \n",
      "3  [{'university_name': 'SASSARI', 'name': 'Medic...   \n",
      "4  [{'university_name': 'PAVIA', 'name': 'Medicin...   \n",
      "\n",
      "                                    specializzazioni last_update_date  \\\n",
      "0  [{'university_name': 'ROMA', 'specializzazione...       24/01/2024   \n",
      "1  [{'university_name': 'MESSINA', 'specializzazi...       12/01/2024   \n",
      "2                                                NaN       12/01/2024   \n",
      "3  [{'university_name': 'SASSARI', 'specializzazi...       12/01/2024   \n",
      "4  [{'university_name': 'MESSINA', 'specializzazi...       05/02/2024   \n",
      "\n",
      "  elenchi_speciali  \n",
      "0              NaN  \n",
      "1              NaN  \n",
      "2              NaN  \n",
      "3              NaN  \n",
      "4              NaN  \n"
     ]
    }
   ],
   "source": [
    "import json\n",
    "\n",
    "# Read the first JSON file\n",
    "with open(\"final_data/fnomceo/fnomceo_final_data.json\", \"r\") as data:\n",
    "    fnomceo_data = json.load(data)\n",
    "\n",
    "# Read the second JSON file\n",
    "with open(\"final_data/fnofi/fnofi_final_data.json\", \"r\") as data:\n",
    "    fnofi_data = json.load(data)\n",
    "\n",
    "fnomceo_df = pd.DataFrame(fnomceo_data)\n",
    "fnofi_df = pd.DataFrame(fnofi_data)\n",
    "\n",
    "print(fnomceo_df.head())"
   ],
   "metadata": {
    "collapsed": false,
    "ExecuteTime": {
     "end_time": "2024-02-18T00:56:21.824380Z",
     "start_time": "2024-02-18T00:56:17.347090Z"
    }
   },
   "id": "1f6a955665bd43eb",
   "execution_count": 45
  },
  {
   "cell_type": "code",
   "outputs": [],
   "source": [
    "merged_df = pd.merge(fnomceo_df.head(), fnofi_df.head(), on=['surname', 'first_name', 'date_of_birth', 'birth_place'], how='outer')\n",
    "\n",
    "with open(f\"final_data/integrated_data/test.json\", 'w', encoding='utf-8') as f:\n",
    "        json.dump(merged_df, f, ensure_ascii=False, indent=4,default=str)"
   ],
   "metadata": {
    "collapsed": false,
    "ExecuteTime": {
     "end_time": "2024-02-18T00:58:44.319721Z",
     "start_time": "2024-02-18T00:58:44.303107Z"
    }
   },
   "id": "bab60474cac011e1",
   "execution_count": 47
  },
  {
   "cell_type": "code",
   "outputs": [],
   "source": [
    "# Working\n",
    "\n",
    "import pandas as pd\n",
    "\n",
    "# Array of dictionaries 1\n",
    "dict_array1 = [{\n",
    "    \"person_id\": \"50365\",\n",
    "    \"surname\": \"Abe\",\n",
    "    \"first_name\": \"STEFANO\",\n",
    "    \"date_of_birth\": \"25/04/1959\",\n",
    "    \"birth_place\": \"LECCO (LC)\",\n",
    "    \"province\": \" LECCO (LC)\",\n",
    "    \"full_name\": \"DOTT. BADESSI STEFANO\",\n",
    "    \"prefix\": \"DOTT.\",\n",
    "    \"iscrizioni\": [\n",
    "        {\"province\": \"LECCO\", \"year\": \"14/12/1993\", \"number\": \"0000000824\"}\n",
    "    ],\n",
    "    \"lauree\": [{\"university_name\": \"MILANO\", \"name\": \"MEDICINA E CHIRURGIA\", \"year\": \"16/07/1986\"}],\n",
    "    \"abilitazioni\": [{\"university_name\": \"MILANO\", \"name\": \"Medicina e Chirurgia\", \"year\": \"1986\", \"round\": \"2\"}],\n",
    "    \"specializzazioni\": [{\"university_name\": \"MILANO\", \"specializzazione_name\": \"CHIRURGIA GENERALE\", \"year\": \"14/11/1991\"}],\n",
    "    \"last_update_date\": \"20/12/2023\"\n",
    "},\n",
    "    {\n",
    "    \"person_id\": \"50365\",\n",
    "    \"surname\": \"Abe5\",\n",
    "    \"first_name\": \"STEFANO\",\n",
    "    \"date_of_birth\": \"25/04/1959\",\n",
    "    \"birth_place\": \"LECCO (LC)\",\n",
    "    \"province\": \" LECCO (LC)\",\n",
    "    \"full_name\": \"DOTT. BADESSI STEFANO\",\n",
    "    \"prefix\": \"DOTT.\",\n",
    "    \"iscrizioni\": [\n",
    "        {\"province\": \"LECCO\", \"year\": \"14/12/1993\", \"number\": \"0000000824\"}\n",
    "    ],\n",
    "    \"lauree\": [{\"university_name\": \"MILANO\", \"name\": \"MEDICINA E CHIRURGIA\", \"year\": \"16/07/1986\"}],\n",
    "    \"abilitazioni\": [{\"university_name\": \"MILANO\", \"name\": \"Medicina e Chirurgia\", \"year\": \"1986\", \"round\": \"2\"}],\n",
    "    \"specializzazioni\": [{\"university_name\": \"MILANO\", \"specializzazione_name\": \"CHIRURGIA GENERALE\", \"year\": \"14/11/1991\"}],\n",
    "    \"last_update_date\": \"20/12/2023\"\n",
    "},\n",
    "]\n",
    "\n",
    "# Array of dictionaries 2\n",
    "dict_array2 = [{\n",
    "    \"person_id\": 2001003213,\n",
    "    \"surname\": \"Abe\",\n",
    "    \"first_name\": \"STEFANO\",\n",
    "    \"date_of_birth\": \"25/04/1959\",\n",
    "    \"birth_place\": \"LECCO (LC)\",\n",
    "    \"client_name\": \"LECCO (LC)\",\n",
    "    \"special_register\": [\n",
    "        {\n",
    "            \"board_name\": \"Fisioterapista\",\n",
    "            \"entry_number\": 4837,\n",
    "            \"entry_suffix\": None,\n",
    "            \"inscripted_at\": \"19/05/2023\",\n",
    "            \"state_name\": \"ISCRITTO\",\n",
    "            \"badge_class\": \"badge badge-success\",\n",
    "            \"is_with_reserve\": False\n",
    "        }\n",
    "    ]\n",
    "}]\n",
    "\n",
    "# Convert dictionaries to DataFrames\n",
    "df1 = pd.DataFrame(dict_array1)\n",
    "df2 = pd.DataFrame(dict_array2)\n",
    "\n",
    "merged_df = df1.merge(df2,how=\"outer\",on=[\"surname\",\"first_name\",\"date_of_birth\",\"birth_place\"],indicator=True)\n",
    "\n",
    "\n",
    "\n",
    "merged_df.to_json(\"output_file1.json\", orient=\"records\", lines=True, indent=4)\n"
   ],
   "metadata": {
    "collapsed": false,
    "ExecuteTime": {
     "end_time": "2024-02-18T01:34:14.302356Z",
     "start_time": "2024-02-18T01:34:14.292981Z"
    }
   },
   "id": "978b4299af8aea8c",
   "execution_count": 71
  },
  {
   "cell_type": "code",
   "outputs": [
    {
     "name": "stderr",
     "output_type": "stream",
     "text": [
      "/var/folders/0j/3970k7cs18139d93g4js40y80000gn/T/ipykernel_17184/1694610818.py:1: FutureWarning: Passing literal json to 'read_json' is deprecated and will be removed in a future version. To read from a literal string, wrap it in a 'StringIO' object.\n",
      "  df_all_groups = pd.read_json(\"\"\"\n",
      "/var/folders/0j/3970k7cs18139d93g4js40y80000gn/T/ipykernel_17184/1694610818.py:34: FutureWarning: Passing literal json to 'read_json' is deprecated and will be removed in a future version. To read from a literal string, wrap it in a 'StringIO' object.\n",
      "  df_collections_with_names = pd.read_json(\"\"\"\n"
     ]
    },
    {
     "ename": "TypeError",
     "evalue": "the JSON object must be str, bytes or bytearray, not DataFrame",
     "output_type": "error",
     "traceback": [
      "\u001B[0;31m---------------------------------------------------------------------------\u001B[0m",
      "\u001B[0;31mTypeError\u001B[0m                                 Traceback (most recent call last)",
      "Cell \u001B[0;32mIn[65], line 59\u001B[0m\n\u001B[1;32m     34\u001B[0m df_collections_with_names \u001B[38;5;241m=\u001B[39m pd\u001B[38;5;241m.\u001B[39mread_json(\u001B[38;5;124m\"\"\"\u001B[39m\n\u001B[1;32m     35\u001B[0m \u001B[38;5;124m[\u001B[39m\n\u001B[1;32m     36\u001B[0m \u001B[38;5;124m    \u001B[39m\u001B[38;5;124m{\u001B[39m\n\u001B[0;32m   (...)\u001B[0m\n\u001B[1;32m     54\u001B[0m \u001B[38;5;124m]\u001B[39m\n\u001B[1;32m     55\u001B[0m \u001B[38;5;124m\"\"\"\u001B[39m)\n\u001B[1;32m     58\u001B[0m \u001B[38;5;28;01mimport\u001B[39;00m \u001B[38;5;21;01mjson\u001B[39;00m\n\u001B[0;32m---> 59\u001B[0m out \u001B[38;5;241m=\u001B[39m (pd\u001B[38;5;241m.\u001B[39mjson_normalize(\u001B[43mjson\u001B[49m\u001B[38;5;241;43m.\u001B[39;49m\u001B[43mloads\u001B[49m\u001B[43m(\u001B[49m\u001B[43mdf_all_groups\u001B[49m\u001B[43m)\u001B[49m, [\u001B[38;5;124m'\u001B[39m\u001B[38;5;124mcollections\u001B[39m\u001B[38;5;124m'\u001B[39m], [\u001B[38;5;124m'\u001B[39m\u001B[38;5;124mobject\u001B[39m\u001B[38;5;124m'\u001B[39m, \u001B[38;5;124m'\u001B[39m\u001B[38;5;124mid\u001B[39m\u001B[38;5;124m'\u001B[39m], meta_prefix\u001B[38;5;241m=\u001B[39m\u001B[38;5;124m'\u001B[39m\u001B[38;5;124m_\u001B[39m\u001B[38;5;124m'\u001B[39m)\n\u001B[1;32m     60\u001B[0m        \u001B[38;5;241m.\u001B[39mmerge(df_collections_with_names, on\u001B[38;5;241m=\u001B[39m\u001B[38;5;124m'\u001B[39m\u001B[38;5;124mid\u001B[39m\u001B[38;5;124m'\u001B[39m, suffixes\u001B[38;5;241m=\u001B[39m(\u001B[38;5;124m'\u001B[39m\u001B[38;5;124m'\u001B[39m,\u001B[38;5;124m'\u001B[39m\u001B[38;5;124m_\u001B[39m\u001B[38;5;124m'\u001B[39m))\n\u001B[1;32m     61\u001B[0m        \u001B[38;5;241m.\u001B[39mdrop(columns\u001B[38;5;241m=\u001B[39m[\u001B[38;5;124m'\u001B[39m\u001B[38;5;124mobject\u001B[39m\u001B[38;5;124m'\u001B[39m,\u001B[38;5;124m'\u001B[39m\u001B[38;5;124mexternalId\u001B[39m\u001B[38;5;124m'\u001B[39m]))\n\u001B[1;32m     62\u001B[0m out \u001B[38;5;241m=\u001B[39m (out\u001B[38;5;241m.\u001B[39mgroupby([\u001B[38;5;124m'\u001B[39m\u001B[38;5;124m_object\u001B[39m\u001B[38;5;124m'\u001B[39m,\u001B[38;5;124m'\u001B[39m\u001B[38;5;124m_id\u001B[39m\u001B[38;5;124m'\u001B[39m])\u001B[38;5;241m.\u001B[39mapply(\u001B[38;5;28;01mlambda\u001B[39;00m x: x[[\u001B[38;5;124m'\u001B[39m\u001B[38;5;124mid\u001B[39m\u001B[38;5;124m'\u001B[39m,\u001B[38;5;124m'\u001B[39m\u001B[38;5;124mreadOnly\u001B[39m\u001B[38;5;124m'\u001B[39m,\u001B[38;5;124m'\u001B[39m\u001B[38;5;124mname\u001B[39m\u001B[38;5;124m'\u001B[39m]]\u001B[38;5;241m.\u001B[39mto_dict(\u001B[38;5;124m'\u001B[39m\u001B[38;5;124mrecords\u001B[39m\u001B[38;5;124m'\u001B[39m))\n\u001B[1;32m     63\u001B[0m        \u001B[38;5;241m.\u001B[39mreset_index(name\u001B[38;5;241m=\u001B[39m\u001B[38;5;124m'\u001B[39m\u001B[38;5;124mcollections\u001B[39m\u001B[38;5;124m'\u001B[39m))\n\u001B[1;32m     64\u001B[0m out\u001B[38;5;241m.\u001B[39mrename(columns\u001B[38;5;241m=\u001B[39m{c: c\u001B[38;5;241m.\u001B[39mstrip(\u001B[38;5;124m'\u001B[39m\u001B[38;5;124m_\u001B[39m\u001B[38;5;124m'\u001B[39m) \u001B[38;5;28;01mfor\u001B[39;00m c \u001B[38;5;129;01min\u001B[39;00m out\u001B[38;5;241m.\u001B[39mcolumns})\u001B[38;5;241m.\u001B[39mto_dict(\u001B[38;5;124m'\u001B[39m\u001B[38;5;124mrecords\u001B[39m\u001B[38;5;124m'\u001B[39m)\n",
      "File \u001B[0;32m/Library/Frameworks/Python.framework/Versions/3.12/lib/python3.12/json/__init__.py:339\u001B[0m, in \u001B[0;36mloads\u001B[0;34m(s, cls, object_hook, parse_float, parse_int, parse_constant, object_pairs_hook, **kw)\u001B[0m\n\u001B[1;32m    337\u001B[0m \u001B[38;5;28;01melse\u001B[39;00m:\n\u001B[1;32m    338\u001B[0m     \u001B[38;5;28;01mif\u001B[39;00m \u001B[38;5;129;01mnot\u001B[39;00m \u001B[38;5;28misinstance\u001B[39m(s, (\u001B[38;5;28mbytes\u001B[39m, \u001B[38;5;28mbytearray\u001B[39m)):\n\u001B[0;32m--> 339\u001B[0m         \u001B[38;5;28;01mraise\u001B[39;00m \u001B[38;5;167;01mTypeError\u001B[39;00m(\u001B[38;5;124mf\u001B[39m\u001B[38;5;124m'\u001B[39m\u001B[38;5;124mthe JSON object must be str, bytes or bytearray, \u001B[39m\u001B[38;5;124m'\u001B[39m\n\u001B[1;32m    340\u001B[0m                         \u001B[38;5;124mf\u001B[39m\u001B[38;5;124m'\u001B[39m\u001B[38;5;124mnot \u001B[39m\u001B[38;5;132;01m{\u001B[39;00ms\u001B[38;5;241m.\u001B[39m\u001B[38;5;18m__class__\u001B[39m\u001B[38;5;241m.\u001B[39m\u001B[38;5;18m__name__\u001B[39m\u001B[38;5;132;01m}\u001B[39;00m\u001B[38;5;124m'\u001B[39m)\n\u001B[1;32m    341\u001B[0m     s \u001B[38;5;241m=\u001B[39m s\u001B[38;5;241m.\u001B[39mdecode(detect_encoding(s), \u001B[38;5;124m'\u001B[39m\u001B[38;5;124msurrogatepass\u001B[39m\u001B[38;5;124m'\u001B[39m)\n\u001B[1;32m    343\u001B[0m \u001B[38;5;28;01mif\u001B[39;00m (\u001B[38;5;28mcls\u001B[39m \u001B[38;5;129;01mis\u001B[39;00m \u001B[38;5;28;01mNone\u001B[39;00m \u001B[38;5;129;01mand\u001B[39;00m object_hook \u001B[38;5;129;01mis\u001B[39;00m \u001B[38;5;28;01mNone\u001B[39;00m \u001B[38;5;129;01mand\u001B[39;00m\n\u001B[1;32m    344\u001B[0m         parse_int \u001B[38;5;129;01mis\u001B[39;00m \u001B[38;5;28;01mNone\u001B[39;00m \u001B[38;5;129;01mand\u001B[39;00m parse_float \u001B[38;5;129;01mis\u001B[39;00m \u001B[38;5;28;01mNone\u001B[39;00m \u001B[38;5;129;01mand\u001B[39;00m\n\u001B[1;32m    345\u001B[0m         parse_constant \u001B[38;5;129;01mis\u001B[39;00m \u001B[38;5;28;01mNone\u001B[39;00m \u001B[38;5;129;01mand\u001B[39;00m object_pairs_hook \u001B[38;5;129;01mis\u001B[39;00m \u001B[38;5;28;01mNone\u001B[39;00m \u001B[38;5;129;01mand\u001B[39;00m \u001B[38;5;129;01mnot\u001B[39;00m kw):\n",
      "\u001B[0;31mTypeError\u001B[0m: the JSON object must be str, bytes or bytearray, not DataFrame"
     ]
    }
   ],
   "source": [
    "df_all_groups = pd.read_json(\"\"\"\n",
    "[\n",
    "    {\n",
    "        \"object\": \"group\",\n",
    "        \"id\": \"group-one\",\n",
    "        \"collections\": [\n",
    "            {\n",
    "                \"id\": \"111-111-111\",\n",
    "                \"readOnly\": false\n",
    "            },\n",
    "            {\n",
    "                \"id\": \"222-222-222\",\n",
    "                \"readOnly\": false\n",
    "            }\n",
    "        ]\n",
    "    },\n",
    "    {\n",
    "        \"object\": \"group\",\n",
    "        \"id\": \"group-two\",\n",
    "        \"collections\": [\n",
    "            {\n",
    "                \"id\": \"111-111-111\",\n",
    "                \"readOnly\": false\n",
    "            },\n",
    "            {\n",
    "                \"id\": \"333-333-333\",\n",
    "                \"readOnly\": false\n",
    "            }\n",
    "        ]\n",
    "    }\n",
    "]\n",
    "\"\"\")\n",
    "\n",
    "df_collections_with_names = pd.read_json(\"\"\"\n",
    "[\n",
    "    {\n",
    "        \"object\": \"collection\",\n",
    "        \"id\": \"111-111-111\",\n",
    "        \"externalId\": null,\n",
    "        \"name\": \"Cats\"\n",
    "      },\n",
    "      {\n",
    "        \"object\": \"collection\",\n",
    "        \"id\": \"222-222-222\",\n",
    "        \"externalId\": null,\n",
    "        \"name\": \"Dogs\"\n",
    "      },\n",
    "      {\n",
    "        \"object\": \"collection\",\n",
    "        \"id\": \"333-333-333\",\n",
    "        \"externalId\": null,\n",
    "        \"name\": \"Fish\"\n",
    "      }\n",
    "]\n",
    "\"\"\")\n",
    "\n",
    "\n",
    "import json\n",
    "out = (pd.json_normalize(json.loads(df_all_groups), ['collections'], ['object', 'id'], meta_prefix='_')\n",
    "       .merge(df_collections_with_names, on='id', suffixes=('','_'))\n",
    "       .drop(columns=['object','externalId']))\n",
    "out = (out.groupby(['_object','_id']).apply(lambda x: x[['id','readOnly','name']].to_dict('records'))\n",
    "       .reset_index(name='collections'))\n",
    "out.rename(columns={c: c.strip('_') for c in out.columns}).to_dict('records')"
   ],
   "metadata": {
    "collapsed": false,
    "ExecuteTime": {
     "end_time": "2024-02-18T01:26:55.202688Z",
     "start_time": "2024-02-18T01:26:55.163669Z"
    }
   },
   "id": "92a9bd10c1ce92bc",
   "execution_count": 65
  },
  {
   "cell_type": "code",
   "outputs": [
    {
     "name": "stdout",
     "output_type": "stream",
     "text": [
      "    Fruit  Price Bucket   Color\n",
      "0   Apple  0.911      A     Red\n",
      "1  Banana  1.734      B  Yellow\n",
      "2  Banana  1.844      A   Green\n",
      "           Color\n",
      "Apple  A     Red\n",
      "Banana A   Green\n",
      "Apple  B   Green\n",
      "Banana B  Yellow\n",
      "///////////////////\n",
      "    Fruit  Price Bucket   Color\n",
      "0   Apple  0.911      A     Red\n",
      "1  Banana  1.734      B  Yellow\n",
      "2  Banana  1.844      A   Green\n"
     ]
    }
   ],
   "source": [
    "import pandas as pd\n",
    " \n",
    "nested_dict = {\n",
    "    \"A\": {\n",
    "        \"Apple\": \"Red\",\n",
    "        \"Banana\": \"Green\",\n",
    "    },\n",
    "    \"B\": {\"Apple\": \"Green\", \"Banana\": \"Yellow\"},\n",
    "}\n",
    "df = pd.DataFrame.from_dict(\n",
    "    {\n",
    "        \"Fruit\": {0: \"Apple\", 1: \"Banana\", 2: \"Banana\"},\n",
    "        \"Price\": {0: 0.911, 1: 1.734, 2: 1.844},\n",
    "        \"Bucket\": {0: \"A\", 1: \"B\", 2: \"A\"},\n",
    "    }\n",
    ")\n",
    " \n",
    "# Method 1: .apply()\n",
    "# Apply Python function element-wise, as slow as a regular for loop\n",
    "df1 = df.copy()\n",
    "df1[\"Color\"] = df1.apply(\n",
    "    lambda row: nested_dict.get(row[\"Bucket\"], {}).get(row[\"Fruit\"]), axis=1\n",
    ")\n",
    "print(df1)\n",
    " \n",
    "# Method 2: .merge()\n",
    "# Vectorized, much faster (even though the big O is the same)\n",
    "df2 = df.copy()\n",
    "# The only overhead is to construct a dataframe with 'MultiIndex'\n",
    "nested_df = pd.DataFrame.from_dict(\n",
    "    {\n",
    "        (inner_key, outer_key): value\n",
    "        for outer_key, outer_value in nested_dict.items()\n",
    "        for inner_key, value in outer_value.items()\n",
    "    },\n",
    "    orient=\"index\",\n",
    ")\n",
    "nested_df.index = pd.MultiIndex.from_tuples(nested_df.index)\n",
    "nested_df.rename(columns={0: \"Color\"}, inplace=True)\n",
    "df2 = df2.merge(nested_df, how=\"left\", left_on=(\"Fruit\", \"Bucket\"), right_index=True)\n",
    "print(nested_df)\n",
    "print(\"///////////////////\")\n",
    "print(df2)"
   ],
   "metadata": {
    "collapsed": false,
    "ExecuteTime": {
     "end_time": "2024-02-18T01:30:48.403822Z",
     "start_time": "2024-02-18T01:30:48.395039Z"
    }
   },
   "id": "d91dc0b6440e2115",
   "execution_count": 69
  },
  {
   "cell_type": "code",
   "outputs": [],
   "source": [],
   "metadata": {
    "collapsed": false
   },
   "id": "7311dd8dca87ad70"
  }
 ],
 "metadata": {
  "kernelspec": {
   "display_name": "Python 3",
   "language": "python",
   "name": "python3"
  },
  "language_info": {
   "codemirror_mode": {
    "name": "ipython",
    "version": 2
   },
   "file_extension": ".py",
   "mimetype": "text/x-python",
   "name": "python",
   "nbconvert_exporter": "python",
   "pygments_lexer": "ipython2",
   "version": "2.7.6"
  }
 },
 "nbformat": 4,
 "nbformat_minor": 5
}
