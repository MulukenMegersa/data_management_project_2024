{
 "cells": [
  {
   "cell_type": "code",
   "execution_count": 1,
   "id": "initial_id",
   "metadata": {
    "collapsed": true,
    "ExecuteTime": {
     "end_time": "2024-02-18T08:39:43.599749Z",
     "start_time": "2024-02-18T08:39:42.245815Z"
    }
   },
   "outputs": [
    {
     "name": "stdout",
     "output_type": "stream",
     "text": [
      "Requirement already satisfied: pymongo in ./.venv/lib/python3.12/site-packages (4.6.1)\r\n",
      "Requirement already satisfied: pandas in ./.venv/lib/python3.12/site-packages (2.2.0)\r\n",
      "Requirement already satisfied: pyarrow in ./.venv/lib/python3.12/site-packages (15.0.0)\r\n",
      "Requirement already satisfied: dnspython<3.0.0,>=1.16.0 in ./.venv/lib/python3.12/site-packages (from pymongo) (2.5.0)\r\n",
      "Requirement already satisfied: numpy<2,>=1.26.0 in ./.venv/lib/python3.12/site-packages (from pandas) (1.26.3)\r\n",
      "Requirement already satisfied: python-dateutil>=2.8.2 in ./.venv/lib/python3.12/site-packages (from pandas) (2.8.2)\r\n",
      "Requirement already satisfied: pytz>=2020.1 in ./.venv/lib/python3.12/site-packages (from pandas) (2024.1)\r\n",
      "Requirement already satisfied: tzdata>=2022.7 in ./.venv/lib/python3.12/site-packages (from pandas) (2023.4)\r\n",
      "Requirement already satisfied: six>=1.5 in ./.venv/lib/python3.12/site-packages (from python-dateutil>=2.8.2->pandas) (1.16.0)\r\n",
      "\r\n",
      "\u001B[1m[\u001B[0m\u001B[34;49mnotice\u001B[0m\u001B[1;39;49m]\u001B[0m\u001B[39;49m A new release of pip is available: \u001B[0m\u001B[31;49m23.2.1\u001B[0m\u001B[39;49m -> \u001B[0m\u001B[32;49m24.0\u001B[0m\r\n",
      "\u001B[1m[\u001B[0m\u001B[34;49mnotice\u001B[0m\u001B[1;39;49m]\u001B[0m\u001B[39;49m To update, run: \u001B[0m\u001B[32;49mpip install --upgrade pip\u001B[0m\r\n"
     ]
    }
   ],
   "source": [
    "import sys\n",
    "! pip install pymongo pandas pyarrow"
   ]
  },
  {
   "cell_type": "code",
   "outputs": [],
   "source": [
    "from pymongo import MongoClient\n",
    "import pandas as pd\n",
    "import json"
   ],
   "metadata": {
    "collapsed": false,
    "ExecuteTime": {
     "end_time": "2024-02-18T08:39:47.353533Z",
     "start_time": "2024-02-18T08:39:46.019598Z"
    }
   },
   "id": "dea0bcd649ed7b80",
   "execution_count": 2
  },
  {
   "cell_type": "code",
   "outputs": [],
   "source": [
    "client = MongoClient('localhost', 27017)\n",
    "db = client.data_managment"
   ],
   "metadata": {
    "collapsed": false,
    "ExecuteTime": {
     "end_time": "2024-02-18T08:39:48.271241Z",
     "start_time": "2024-02-18T08:39:48.249952Z"
    }
   },
   "id": "c88b745505fa4e5a",
   "execution_count": 3
  },
  {
   "cell_type": "code",
   "outputs": [
    {
     "name": "stdout",
     "output_type": "stream",
     "text": [
      "                             _id person_id    surname  \\\n",
      "0       65d13da6294d33d94a501435    399366    BADESSA   \n",
      "1       65d13da6294d33d94a501436     33538    BADESSA   \n",
      "2       65d13da6294d33d94a501437    325585    BADESSI   \n",
      "3       65d13da6294d33d94a501438    343163    BADESSI   \n",
      "4       65d13da6294d33d94a501439    554984    BADESSI   \n",
      "...                          ...       ...        ...   \n",
      "357079  65d13dac294d33d94a55870c    180274  BADARACCO   \n",
      "357080  65d13dac294d33d94a55870d     73428  BADARACCO   \n",
      "357081  65d13dac294d33d94a55870e    549817      BADAS   \n",
      "357082  65d13dac294d33d94a55870f    483756      BADAS   \n",
      "357083  65d13dac294d33d94a558710    218926      BADAS   \n",
      "\n",
      "                     first_name        date_of_birth  \\\n",
      "0                       ANTONIO  1946-07-06 00:00:00   \n",
      "1                     FRANCESCO  1967-01-01 00:00:00   \n",
      "2                     FRANCESCA  1981-07-03 00:00:00   \n",
      "3       FRANCESCO GIUSEPPE ALDO  1947-12-18 00:00:00   \n",
      "4                       GIORGIO  1991-12-28 00:00:00   \n",
      "...                         ...                  ...   \n",
      "357079                    BRUNO  1956-03-30 00:00:00   \n",
      "357080                    CARLO  1965-04-18 00:00:00   \n",
      "357081                    MAURO  1990-04-04 00:00:00   \n",
      "357082                    PAOLA  1955-09-11 00:00:00   \n",
      "357083                  ROBERTA  1976-04-26 00:00:00   \n",
      "\n",
      "                         birth_place             province  \\\n",
      "0       SANT'AGATA DI MILITELLO (ME)   FORLI'-CESENA (FC)   \n",
      "1                       MESSINA (ME)         MESSINA (ME)   \n",
      "2                       ALGHERO (SS)         SASSARI (SS)   \n",
      "3                       ARBOREA (OR)         SASSARI (SS)   \n",
      "4                   PAESI BASSI (EE)            ROMA (RM)   \n",
      "...                              ...                  ...   \n",
      "357079                    RECCO (GE)          GENOVA (GE)   \n",
      "357080                     ROMA (RM)            ROMA (RM)   \n",
      "357081                 CAGLIARI (CA)        CAGLIARI (CA)   \n",
      "357082                 CAGLIARI (CA)        CAGLIARI (CA)   \n",
      "357083                 CAGLIARI (CA)        CAGLIARI (CA)   \n",
      "\n",
      "                                    full_name    prefix  \\\n",
      "0                       DOTT. BADESSA ANTONIO     DOTT.   \n",
      "1                     DOTT. BADESSA FRANCESCO     DOTT.   \n",
      "2                  Dott.ssa BADESSI FRANCESCA  Dott.ssa   \n",
      "3       Dott. BADESSI FRANCESCO GIUSEPPE ALDO     Dott.   \n",
      "4                       Dott. BADESSI GIORGIO     Dott.   \n",
      "...                                       ...       ...   \n",
      "357079                  DOTT. BADARACCO BRUNO     DOTT.   \n",
      "357080                  Dott. BADARACCO CARLO     Dott.   \n",
      "357081                      Dott. BADAS MAURO     Dott.   \n",
      "357082                   Dott.ssa BADAS PAOLA  Dott.ssa   \n",
      "357083                 Dott.ssa BADAS ROBERTA  Dott.ssa   \n",
      "\n",
      "                                               iscrizioni  \\\n",
      "0       [{'province': 'FORLI'-CESENA', 'year': 1974-04...   \n",
      "1       [{'province': 'MESSINA', 'year': 1992-01-31 00...   \n",
      "2       [{'province': 'SASSARI', 'year': 2006-02-21 00...   \n",
      "3       [{'province': 'SASSARI', 'year': 1976-06-24 00...   \n",
      "4       [{'province': 'ROMA', 'year': 2018-07-26 00:00...   \n",
      "...                                                   ...   \n",
      "357079  [{'province': 'GENOVA', 'year': 1987-05-26 00:...   \n",
      "357080  [{'province': 'ROMA', 'year': 1992-03-30 00:00...   \n",
      "357081  [{'province': 'CAGLIARI', 'year': 2018-02-27 0...   \n",
      "357082  [{'province': 'CAGLIARI', 'year': 1981-12-22 0...   \n",
      "357083  [{'province': 'CAGLIARI', 'year': 2005-03-08 0...   \n",
      "\n",
      "                                                   lauree  \\\n",
      "0       [{'university_name': 'BOLOGNA ALMA MATER STUDI...   \n",
      "1       [{'university_name': 'MESSINA', 'name': 'MEDIC...   \n",
      "2       [{'university_name': 'SASSARI', 'name': 'MEDIC...   \n",
      "3       [{'university_name': 'SASSARI', 'name': 'MEDIC...   \n",
      "4       [{'university_name': 'PAVIA', 'name': 'MEDICIN...   \n",
      "...                                                   ...   \n",
      "357079  [{'university_name': 'GENOVA', 'name': 'MEDICI...   \n",
      "357080  [{'university_name': 'ROMA LA SAPIENZA', 'name...   \n",
      "357081  [{'university_name': 'CAGLIARI', 'name': 'MEDI...   \n",
      "357082  [{'university_name': 'CAGLIARI', 'name': 'MEDI...   \n",
      "357083  [{'university_name': 'CAGLIARI', 'name': 'MEDI...   \n",
      "\n",
      "                                             abilitazioni  \\\n",
      "0       [{'university_name': 'BOLOGNA ALMA MATER STUDI...   \n",
      "1       [{'university_name': 'MESSINA', 'name': 'Medic...   \n",
      "2       [{'university_name': 'SASSARI', 'name': 'Medic...   \n",
      "3       [{'university_name': 'SASSARI', 'name': 'Medic...   \n",
      "4       [{'university_name': 'PAVIA', 'name': 'Medicin...   \n",
      "...                                                   ...   \n",
      "357079  [{'university_name': 'GENOVA', 'name': 'Medici...   \n",
      "357080  [{'university_name': 'ROMA LA SAPIENZA', 'name...   \n",
      "357081  [{'university_name': 'CAGLIARI', 'name': 'Medi...   \n",
      "357082  [{'university_name': 'CAGLIARI', 'name': 'Medi...   \n",
      "357083  [{'university_name': 'CAGLIARI', 'name': 'Medi...   \n",
      "\n",
      "                                         specializzazioni last_update_date  \\\n",
      "0       [{'university_name': 'ROMA', 'specializzazione...       2024-01-24   \n",
      "1       [{'university_name': 'MESSINA', 'specializzazi...       2024-01-12   \n",
      "2                                                     NaN       2024-01-12   \n",
      "3       [{'university_name': 'SASSARI', 'specializzazi...       2024-01-12   \n",
      "4       [{'university_name': 'MESSINA', 'specializzazi...       2024-02-05   \n",
      "...                                                   ...              ...   \n",
      "357079  [{'university_name': 'GENOVA', 'specializzazio...       2024-01-31   \n",
      "357080  [{'university_name': 'ROMA LA SAPIENZA', 'spec...       2024-02-05   \n",
      "357081                                                NaN       2024-01-17   \n",
      "357082  [{'university_name': 'ESTERA', 'specializzazio...       2024-01-17   \n",
      "357083  [{'university_name': 'CAGLIARI', 'specializzaz...       2024-01-17   \n",
      "\n",
      "                                         elenchi_speciali  \n",
      "0                                                     NaN  \n",
      "1                                                     NaN  \n",
      "2                                                     NaN  \n",
      "3                                                     NaN  \n",
      "4                                                     NaN  \n",
      "...                                                   ...  \n",
      "357079  [{'TUTORS VALUTATORI (esami di stato)': 'TUTOR...  \n",
      "357080                                                NaN  \n",
      "357081                                                NaN  \n",
      "357082  [{'MEDICO PSICOTERAPEUTA': 'MEDICO PSICOTERAPE...  \n",
      "357083                                                NaN  \n",
      "\n",
      "[357084 rows x 15 columns]\n"
     ]
    }
   ],
   "source": [
    "fnomceo_data= list(db.fnomceo_data.find())\n",
    "fnomceo_df = pd.DataFrame(fnomceo_data)\n",
    "print(fnomceo_df)"
   ],
   "metadata": {
    "collapsed": false,
    "ExecuteTime": {
     "end_time": "2024-02-18T08:39:56.517852Z",
     "start_time": "2024-02-18T08:39:50.758075Z"
    }
   },
   "id": "2739d24ab531593e",
   "execution_count": 4
  },
  {
   "cell_type": "code",
   "outputs": [
    {
     "name": "stdout",
     "output_type": "stream",
     "text": [
      "                            _id  person_id     surname  first_name  \\\n",
      "0      65d14075294d33d94a56ecb8     101222   Abbatelli      Chiara   \n",
      "1      65d14075294d33d94a56ecb9      93494      Abbati     Tommaso   \n",
      "2      65d14075294d33d94a56ecba      85313      Abbati   Francesca   \n",
      "3      65d14075294d33d94a56ecbb     138494      Abbati      Fausta   \n",
      "4      65d14075294d33d94a56ecbc     116220  Abbattista      Teresa   \n",
      "...                         ...        ...         ...         ...   \n",
      "48308  65d14075294d33d94a57a96c     200402   Arcangeli        Aldo   \n",
      "48309  65d14075294d33d94a57a96d      86779      Arcara     Umberto   \n",
      "48310  65d14075294d33d94a57a96e     204490      Arcari       Elisa   \n",
      "48311  65d14075294d33d94a57a96f     173674      Arcari  Alessandro   \n",
      "48312  65d14075294d33d94a57a970     128140      Arcaro    Gianluca   \n",
      "\n",
      "            date_of_birth                 birth_place  \\\n",
      "0     1983-01-04 23:00:00                   Jesi (AN)   \n",
      "1     1996-04-18 22:00:00         Bagno a Ripoli (FI)   \n",
      "2     1992-03-14 23:00:00  Cernusco sul Naviglio (MI)   \n",
      "3     1962-07-11 23:00:00                 Milano (MI)   \n",
      "4     1962-06-10 23:00:00      Gravina in Puglia (BA)   \n",
      "...                   ...                         ...   \n",
      "48308 1962-09-27 23:00:00           Bastia Umbra (PG)   \n",
      "48309 1967-10-24 23:00:00                Palermo (PA)   \n",
      "48310 1995-05-06 22:00:00                Cremona (CR)   \n",
      "48311 1966-07-24 22:00:00                 Torino (TO)   \n",
      "48312 1983-12-02 23:00:00                Venafro (IS)   \n",
      "\n",
      "                                             client_name  \\\n",
      "0                                                 Marche   \n",
      "1      Ordine Fisioterapisti Firenze Arezzo Lucca Mas...   \n",
      "2      OFI Milano Como Cremona Lecco Lodi Monza-Brian...   \n",
      "3      OFI Milano Como Cremona Lecco Lodi Monza-Brian...   \n",
      "4                 OFI Bari Barletta-Andria-Trani Taranto   \n",
      "...                                                  ...   \n",
      "48308                                             Umbria   \n",
      "48309                                    Palermo Trapani   \n",
      "48310  OFI Milano Como Cremona Lecco Lodi Monza-Brian...   \n",
      "48311                                    Brescia Mantova   \n",
      "48312                                         OFI Molise   \n",
      "\n",
      "                                        special_register  \n",
      "0      [{'board_name': 'Fisioterapista', 'entry_numbe...  \n",
      "1      [{'board_name': 'Fisioterapista', 'entry_numbe...  \n",
      "2      [{'board_name': 'Fisioterapista', 'entry_numbe...  \n",
      "3      [{'board_name': 'Fisioterapista', 'entry_numbe...  \n",
      "4      [{'board_name': 'Fisioterapista', 'entry_numbe...  \n",
      "...                                                  ...  \n",
      "48308  [{'board_name': 'Fisioterapista', 'entry_numbe...  \n",
      "48309  [{'board_name': 'Fisioterapista', 'entry_numbe...  \n",
      "48310  [{'board_name': 'Fisioterapista', 'entry_numbe...  \n",
      "48311  [{'board_name': 'Fisioterapista', 'entry_numbe...  \n",
      "48312  [{'board_name': 'Fisioterapista', 'entry_numbe...  \n",
      "\n",
      "[48313 rows x 8 columns]\n"
     ]
    }
   ],
   "source": [
    "fnofi_data= list(db.fnofi_data.find())\n",
    "fnofi_df = pd.DataFrame(fnofi_data)\n",
    "print(fnofi_df)"
   ],
   "metadata": {
    "collapsed": false,
    "ExecuteTime": {
     "end_time": "2024-02-18T08:40:00.128236Z",
     "start_time": "2024-02-18T08:39:58.875768Z"
    }
   },
   "id": "447ff17e597930db",
   "execution_count": 5
  },
  {
   "cell_type": "code",
   "outputs": [
    {
     "name": "stdout",
     "output_type": "stream",
     "text": [
      "                        _id  person_id surname      first_name  \\\n",
      "0  65d14000294d33d94a558711     250493    Abbà         Roberta   \n",
      "1  65d14000294d33d94a558712     131688    Abbà         Manuela   \n",
      "2  65d14000294d33d94a558713     250498    Abbà         Giorgia   \n",
      "3  65d14000294d33d94a558714     250491    Abbà  Elena Giovanna   \n",
      "4  65d14000294d33d94a558715     154516   Abba'           Elena   \n",
      "\n",
      "        date_of_birth      birth_place                    client_name  \\\n",
      "0 1977-06-05 22:00:00       Cuneo (CN)                          Cuneo   \n",
      "1 1986-01-11 23:00:00       Cuneo (CN)                          Cuneo   \n",
      "2 1983-10-16 23:00:00       Cuneo (CN)                          Cuneo   \n",
      "3 1973-03-30 23:00:00  Savigliano (CN)                          Cuneo   \n",
      "4 1966-02-13 23:00:00      Torino (TO)  Torino Aosta Alessandria Asti   \n",
      "\n",
      "                                    special_register  \n",
      "0  [{'board_name': 'Educazione Professionale', 'e...  \n",
      "1  [{'board_name': 'Ortottica e Assistenza Oftalm...  \n",
      "2  [{'board_name': 'Educazione Professionale', 'e...  \n",
      "3  [{'board_name': 'Educazione Professionale', 'e...  \n",
      "4  [{'board_name': 'Tecniche di Laboratorio Biome...  \n"
     ]
    }
   ],
   "source": [
    "alboweb_data= list(db.alboweb_data.find())\n",
    "alboweb_df = pd.DataFrame(alboweb_data)\n",
    "print(alboweb_df.head())"
   ],
   "metadata": {
    "collapsed": false,
    "ExecuteTime": {
     "end_time": "2024-02-18T08:40:01.762155Z",
     "start_time": "2024-02-18T08:40:01.187627Z"
    }
   },
   "id": "89ef1c3d7734643e",
   "execution_count": 6
  },
  {
   "cell_type": "code",
   "outputs": [],
   "source": [
    "from datetime import datetime\n",
    "import re\n",
    "\n",
    "def prepare_for_integration(all_data):\n",
    "    for data in all_data:\n",
    "        data['iscrizioni'] = data.pop('special_register')\n",
    "        for entry in data['iscrizioni']:\n",
    "            entry['number'] = entry.pop('entry_number')\n",
    "            entry['year'] = entry[\"inscripted_at\"].year\n",
    "        data['lauree'] = [{\"name\": entry['board_name']} for entry in data['iscrizioni']]\n",
    "    return all_data\n",
    "\n",
    "def replace_date_fnomceo(data):\n",
    "    pattern = re.compile(r'\\d{2}/\\d{2}/\\d{4}')\n",
    "    for element in data:\n",
    "        date_fields = [\"date_of_birth\", \"last_update_date\"]\n",
    "        for field in date_fields:\n",
    "            if field in element:\n",
    "             element[field] = datetime.strptime(element[field], \"%d/%m/%Y\")\n",
    "        if \"iscrizioni\" in element:\n",
    "            for entry in element[\"iscrizioni\"]:\n",
    "                if pattern.match(entry[\"year\"]):\n",
    "                    entry[\"year\"] = datetime.strptime(entry[\"year\"], \"%d/%m/%Y\")\n",
    "        if \"lauree\" in element:\n",
    "            for entry in element[\"lauree\"]:\n",
    "                if pattern.match(entry[\"year\"]):\n",
    "                    entry[\"year\"] = datetime.strptime(entry[\"year\"], \"%d/%m/%Y\")\n",
    "        # \n",
    "        if \"abilitazioni\" in element:\n",
    "            for entry in element[\"abilitazioni\"]:\n",
    "                if int(entry[\"year\"]) > 1000:\n",
    "                    entry[\"year\"] = datetime.strptime(entry[\"year\"].strip(), \"%Y\")\n",
    "        \n",
    "        if \"specializzazioni\" in element:\n",
    "            for entry in element[\"specializzazioni\"]:\n",
    "                if pattern.match(entry[\"year\"]):\n",
    "                    entry[\"year\"] = datetime.strptime(entry[\"year\"], \"%d/%m/%Y\")\n",
    "        #     \n",
    "    return data\n",
    "\n",
    "def replace_date_fnofi(data):\n",
    "    pattern = re.compile(r'\\d{2}/\\d{2}/\\d{4}')\n",
    "    for element in data:\n",
    "        date_fields = [\"date_of_birth\"]\n",
    "        for field in date_fields:\n",
    "            if field in element:\n",
    "             element[field] = datetime.strptime(element[field], \"%Y-%m-%dT%H:%M:%S.%fZ\")\n",
    "        if \"special_register\" in element:\n",
    "            for entry in element[\"special_register\"]:\n",
    "                if pattern.match(entry[\"inscripted_at\"]):\n",
    "                    entry[\"inscripted_at\"] = datetime.strptime(entry[\"inscripted_at\"], \"%d/%m/%Y\")\n",
    "    return data"
   ],
   "metadata": {
    "collapsed": false,
    "ExecuteTime": {
     "end_time": "2024-02-18T11:54:10.929272Z",
     "start_time": "2024-02-18T11:54:10.923446Z"
    }
   },
   "id": "949a36caa769071e",
   "execution_count": 50
  },
  {
   "cell_type": "code",
   "outputs": [],
   "source": [
    "import json\n",
    "\n",
    "# Read the first JSON file\n",
    "with open(\"final_data/fnomceo/fnomceo_final_data.json\", \"r\") as data:\n",
    "    fnomceo_data = json.load(data)\n",
    "prepared_fnomceo_data = replace_date_fnomceo(fnomceo_data)\n",
    "\n",
    "# Read the second JSON file\n",
    "with open(\"final_data/fnofi/fnofi_final_data.json\", \"r\") as data:\n",
    "    fnofi_data = json.load(data)\n",
    "updated_data = replace_date_fnofi(fnofi_data)\n",
    "prepared_fnofi_data = prepare_for_integration(updated_data)\n",
    "    \n",
    "with open(\"final_data/alboweb/alboweb_final_data_replaced_profession.json\", \"r\") as data:\n",
    "    alboweb_data = json.load(data)\n",
    "updated_data = replace_date_fnofi(alboweb_data)\n",
    "prepared_alboweb_data = prepare_for_integration(updated_data)\n",
    "\n",
    "fnomceo_df = pd.DataFrame(prepared_fnomceo_data)\n",
    "fnofi_df = pd.DataFrame(prepared_fnofi_data)\n",
    "alboweb_df = pd.DataFrame(prepared_alboweb_data)\n",
    "\n",
    "df_list = [fnomceo_df, fnofi_df, alboweb_df]\n",
    "\n",
    "concatenated_df = pd.concat(df_list, keys=['fnomceo', 'fnofi', 'alboweb'], names=['source'])\n",
    "\n",
    "concatenated_df.reset_index(inplace=True, level='source')\n"
   ],
   "metadata": {
    "collapsed": false,
    "ExecuteTime": {
     "end_time": "2024-02-18T11:54:28.652444Z",
     "start_time": "2024-02-18T11:54:11.985491Z"
    }
   },
   "id": "5c614d62a8c8f91d",
   "execution_count": 51
  },
  {
   "cell_type": "code",
   "outputs": [],
   "source": [
    "data_dict = concatenated_df.to_dict(orient='records')\n",
    "with open('final_data/integrated_data/integrated.json', 'w') as json_file:\n",
    "    json.dump(data_dict,json_file, indent=4, default=str)\n",
    "#     \n",
    "# with open('final_data/integrated_data/integrated.json', 'w', encoding='utf-8') as f:\n",
    "#     json.dump(concatenated_df, f, ensure_ascii=False, indent=4,default=str)"
   ],
   "metadata": {
    "collapsed": false,
    "ExecuteTime": {
     "end_time": "2024-02-18T11:54:51.095401Z",
     "start_time": "2024-02-18T11:54:31.175483Z"
    }
   },
   "id": "ca167d435b3a24e2",
   "execution_count": 52
  },
  {
   "cell_type": "code",
   "outputs": [],
   "source": [],
   "metadata": {
    "collapsed": false
   },
   "id": "b63c39bddbe22f13"
  }
 ],
 "metadata": {
  "kernelspec": {
   "display_name": "Python 3",
   "language": "python",
   "name": "python3"
  },
  "language_info": {
   "codemirror_mode": {
    "name": "ipython",
    "version": 2
   },
   "file_extension": ".py",
   "mimetype": "text/x-python",
   "name": "python",
   "nbconvert_exporter": "python",
   "pygments_lexer": "ipython2",
   "version": "2.7.6"
  }
 },
 "nbformat": 4,
 "nbformat_minor": 5
}
