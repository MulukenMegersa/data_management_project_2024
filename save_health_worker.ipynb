{
 "cells": [
  {
   "cell_type": "code",
   "execution_count": null,
   "id": "initial_id",
   "metadata": {
    "collapsed": true
   },
   "outputs": [],
   "source": [
    "! pip install pymongo"
   ]
  },
  {
   "cell_type": "code",
   "outputs": [],
   "source": [
    "from pymongo import MongoClient\n",
    "client = MongoClient('localhost', 27017)\n",
    "db = client.data_managment\n",
    "health_worker = db.health_worker"
   ],
   "metadata": {
    "collapsed": false
   },
   "id": "96b9f70c7b7f0439",
   "execution_count": null
  },
  {
   "cell_type": "code",
   "outputs": [],
   "source": [
    "import json\n",
    "with open(\"./final_data/health_worker.json\") as f:\n",
    "    data = json.loads(f.read())\n",
    "\n",
    "health_worker.insert_many(data)"
   ],
   "metadata": {
    "collapsed": false
   },
   "id": "64b96d03eb34d9e6",
   "execution_count": null
  },
  {
   "cell_type": "markdown",
   "source": [],
   "metadata": {
    "collapsed": false
   },
   "id": "59ff66ae3e74e24f"
  },
  {
   "cell_type": "code",
   "outputs": [],
   "source": [
    "results = health_worker.find()\n",
    "[result for result in results]"
   ],
   "metadata": {
    "collapsed": false
   },
   "id": "73d6e9a51a5dd72b",
   "execution_count": null
  },
  {
   "cell_type": "code",
   "outputs": [],
   "source": [],
   "metadata": {
    "collapsed": false
   },
   "id": "a4306924aeee1d3c"
  }
 ],
 "metadata": {
  "kernelspec": {
   "display_name": "Python 3",
   "language": "python",
   "name": "python3"
  },
  "language_info": {
   "codemirror_mode": {
    "name": "ipython",
    "version": 2
   },
   "file_extension": ".py",
   "mimetype": "text/x-python",
   "name": "python",
   "nbconvert_exporter": "python",
   "pygments_lexer": "ipython2",
   "version": "2.7.6"
  }
 },
 "nbformat": 4,
 "nbformat_minor": 5
}
