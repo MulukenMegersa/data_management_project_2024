{
 "cells": [
  {
   "cell_type": "code",
   "execution_count": 2,
   "id": "initial_id",
   "metadata": {
    "collapsed": true,
    "ExecuteTime": {
     "end_time": "2024-02-02T13:18:08.790955Z",
     "start_time": "2024-02-02T13:18:06.935250Z"
    }
   },
   "outputs": [
    {
     "name": "stdout",
     "output_type": "stream",
     "text": [
      "Requirement already satisfied: pymongo in ./.venv/lib/python3.12/site-packages (4.6.1)\r\n",
      "Requirement already satisfied: dnspython<3.0.0,>=1.16.0 in ./.venv/lib/python3.12/site-packages (from pymongo) (2.5.0)\r\n",
      "\r\n",
      "\u001B[1m[\u001B[0m\u001B[34;49mnotice\u001B[0m\u001B[1;39;49m]\u001B[0m\u001B[39;49m A new release of pip is available: \u001B[0m\u001B[31;49m23.2.1\u001B[0m\u001B[39;49m -> \u001B[0m\u001B[32;49m23.3.2\u001B[0m\r\n",
      "\u001B[1m[\u001B[0m\u001B[34;49mnotice\u001B[0m\u001B[1;39;49m]\u001B[0m\u001B[39;49m To update, run: \u001B[0m\u001B[32;49mpip install --upgrade pip\u001B[0m\r\n"
     ]
    }
   ],
   "source": [
    "! pip install pymongo"
   ]
  },
  {
   "cell_type": "code",
   "outputs": [],
   "source": [
    "from pymongo import MongoClient\n",
    "client = MongoClient('localhost', 27017)\n",
    "db = client.data_managment\n",
    "surenames = db.surenames"
   ],
   "metadata": {
    "collapsed": false,
    "ExecuteTime": {
     "end_time": "2024-02-02T13:18:08.855002Z",
     "start_time": "2024-02-02T13:18:08.792681Z"
    }
   },
   "id": "ee8f59542e13a079",
   "execution_count": 3
  },
  {
   "cell_type": "code",
   "outputs": [
    {
     "data": {
      "text/plain": "InsertManyResult([ObjectId('65bceb90f0d12ae15fd0a9e6'), ObjectId('65bceb90f0d12ae15fd0a9e7'), ObjectId('65bceb90f0d12ae15fd0a9e8'), ObjectId('65bceb90f0d12ae15fd0a9e9'), ObjectId('65bceb90f0d12ae15fd0a9ea'), ObjectId('65bceb90f0d12ae15fd0a9eb'), ObjectId('65bceb90f0d12ae15fd0a9ec'), ObjectId('65bceb90f0d12ae15fd0a9ed'), ObjectId('65bceb90f0d12ae15fd0a9ee'), ObjectId('65bceb90f0d12ae15fd0a9ef'), ObjectId('65bceb90f0d12ae15fd0a9f0'), ObjectId('65bceb90f0d12ae15fd0a9f1'), ObjectId('65bceb90f0d12ae15fd0a9f2'), ObjectId('65bceb90f0d12ae15fd0a9f3'), ObjectId('65bceb90f0d12ae15fd0a9f4'), ObjectId('65bceb90f0d12ae15fd0a9f5'), ObjectId('65bceb90f0d12ae15fd0a9f6'), ObjectId('65bceb90f0d12ae15fd0a9f7'), ObjectId('65bceb90f0d12ae15fd0a9f8'), ObjectId('65bceb90f0d12ae15fd0a9f9'), ObjectId('65bceb90f0d12ae15fd0a9fa'), ObjectId('65bceb90f0d12ae15fd0a9fb'), ObjectId('65bceb90f0d12ae15fd0a9fc'), ObjectId('65bceb90f0d12ae15fd0a9fd'), ObjectId('65bceb90f0d12ae15fd0a9fe'), ObjectId('65bceb90f0d12ae15fd0a9ff'), ObjectId('65bceb90f0d12ae15fd0aa00'), ObjectId('65bceb90f0d12ae15fd0aa01'), ObjectId('65bceb90f0d12ae15fd0aa02'), ObjectId('65bceb90f0d12ae15fd0aa03'), ObjectId('65bceb90f0d12ae15fd0aa04'), ObjectId('65bceb90f0d12ae15fd0aa05'), ObjectId('65bceb90f0d12ae15fd0aa06'), ObjectId('65bceb90f0d12ae15fd0aa07'), ObjectId('65bceb90f0d12ae15fd0aa08'), ObjectId('65bceb90f0d12ae15fd0aa09'), ObjectId('65bceb90f0d12ae15fd0aa0a'), ObjectId('65bceb90f0d12ae15fd0aa0b'), ObjectId('65bceb90f0d12ae15fd0aa0c'), ObjectId('65bceb90f0d12ae15fd0aa0d'), ObjectId('65bceb90f0d12ae15fd0aa0e'), ObjectId('65bceb90f0d12ae15fd0aa0f'), ObjectId('65bceb90f0d12ae15fd0aa10'), ObjectId('65bceb90f0d12ae15fd0aa11'), ObjectId('65bceb90f0d12ae15fd0aa12'), ObjectId('65bceb90f0d12ae15fd0aa13'), ObjectId('65bceb90f0d12ae15fd0aa14'), ObjectId('65bceb90f0d12ae15fd0aa15'), ObjectId('65bceb90f0d12ae15fd0aa16'), ObjectId('65bceb90f0d12ae15fd0aa17'), ObjectId('65bceb90f0d12ae15fd0aa18'), ObjectId('65bceb90f0d12ae15fd0aa19'), ObjectId('65bceb90f0d12ae15fd0aa1a'), ObjectId('65bceb90f0d12ae15fd0aa1b'), ObjectId('65bceb90f0d12ae15fd0aa1c'), ObjectId('65bceb90f0d12ae15fd0aa1d'), ObjectId('65bceb90f0d12ae15fd0aa1e'), ObjectId('65bceb90f0d12ae15fd0aa1f'), ObjectId('65bceb90f0d12ae15fd0aa20'), ObjectId('65bceb90f0d12ae15fd0aa21'), ObjectId('65bceb90f0d12ae15fd0aa22'), ObjectId('65bceb90f0d12ae15fd0aa23'), ObjectId('65bceb90f0d12ae15fd0aa24'), ObjectId('65bceb90f0d12ae15fd0aa25'), ObjectId('65bceb90f0d12ae15fd0aa26'), ObjectId('65bceb90f0d12ae15fd0aa27'), ObjectId('65bceb90f0d12ae15fd0aa28'), ObjectId('65bceb90f0d12ae15fd0aa29'), ObjectId('65bceb90f0d12ae15fd0aa2a'), ObjectId('65bceb90f0d12ae15fd0aa2b'), ObjectId('65bceb90f0d12ae15fd0aa2c'), ObjectId('65bceb90f0d12ae15fd0aa2d'), ObjectId('65bceb90f0d12ae15fd0aa2e'), ObjectId('65bceb90f0d12ae15fd0aa2f'), ObjectId('65bceb90f0d12ae15fd0aa30'), ObjectId('65bceb90f0d12ae15fd0aa31'), ObjectId('65bceb90f0d12ae15fd0aa32'), ObjectId('65bceb90f0d12ae15fd0aa33'), ObjectId('65bceb90f0d12ae15fd0aa34'), ObjectId('65bceb90f0d12ae15fd0aa35'), ObjectId('65bceb90f0d12ae15fd0aa36'), ObjectId('65bceb90f0d12ae15fd0aa37'), ObjectId('65bceb90f0d12ae15fd0aa38'), ObjectId('65bceb90f0d12ae15fd0aa39'), ObjectId('65bceb90f0d12ae15fd0aa3a'), ObjectId('65bceb90f0d12ae15fd0aa3b'), ObjectId('65bceb90f0d12ae15fd0aa3c'), ObjectId('65bceb90f0d12ae15fd0aa3d'), ObjectId('65bceb90f0d12ae15fd0aa3e'), ObjectId('65bceb90f0d12ae15fd0aa3f'), ObjectId('65bceb90f0d12ae15fd0aa40'), ObjectId('65bceb90f0d12ae15fd0aa41'), ObjectId('65bceb90f0d12ae15fd0aa42'), ObjectId('65bceb90f0d12ae15fd0aa43'), ObjectId('65bceb90f0d12ae15fd0aa44'), ObjectId('65bceb90f0d12ae15fd0aa45'), ObjectId('65bceb90f0d12ae15fd0aa46'), ObjectId('65bceb90f0d12ae15fd0aa47'), ObjectId('65bceb90f0d12ae15fd0aa48'), ObjectId('65bceb90f0d12ae15fd0aa49'), ObjectId('65bceb90f0d12ae15fd0aa4a'), ObjectId('65bceb90f0d12ae15fd0aa4b'), ObjectId('65bceb90f0d12ae15fd0aa4c'), ObjectId('65bceb90f0d12ae15fd0aa4d'), ObjectId('65bceb90f0d12ae15fd0aa4e'), ObjectId('65bceb90f0d12ae15fd0aa4f'), ObjectId('65bceb90f0d12ae15fd0aa50'), ObjectId('65bceb90f0d12ae15fd0aa51'), ObjectId('65bceb90f0d12ae15fd0aa52'), ObjectId('65bceb90f0d12ae15fd0aa53'), ObjectId('65bceb90f0d12ae15fd0aa54'), ObjectId('65bceb90f0d12ae15fd0aa55'), ObjectId('65bceb90f0d12ae15fd0aa56'), ObjectId('65bceb90f0d12ae15fd0aa57'), ObjectId('65bceb90f0d12ae15fd0aa58'), ObjectId('65bceb90f0d12ae15fd0aa59'), ObjectId('65bceb90f0d12ae15fd0aa5a'), ObjectId('65bceb90f0d12ae15fd0aa5b'), ObjectId('65bceb90f0d12ae15fd0aa5c'), ObjectId('65bceb90f0d12ae15fd0aa5d'), ObjectId('65bceb90f0d12ae15fd0aa5e'), ObjectId('65bceb90f0d12ae15fd0aa5f'), ObjectId('65bceb90f0d12ae15fd0aa60'), ObjectId('65bceb90f0d12ae15fd0aa61'), ObjectId('65bceb90f0d12ae15fd0aa62'), ObjectId('65bceb90f0d12ae15fd0aa63'), ObjectId('65bceb90f0d12ae15fd0aa64'), ObjectId('65bceb90f0d12ae15fd0aa65'), ObjectId('65bceb90f0d12ae15fd0aa66'), ObjectId('65bceb90f0d12ae15fd0aa67'), ObjectId('65bceb90f0d12ae15fd0aa68'), ObjectId('65bceb90f0d12ae15fd0aa69'), ObjectId('65bceb90f0d12ae15fd0aa6a'), ObjectId('65bceb90f0d12ae15fd0aa6b'), ObjectId('65bceb90f0d12ae15fd0aa6c'), ObjectId('65bceb90f0d12ae15fd0aa6d'), ObjectId('65bceb90f0d12ae15fd0aa6e'), ObjectId('65bceb90f0d12ae15fd0aa6f'), ObjectId('65bceb90f0d12ae15fd0aa70'), ObjectId('65bceb90f0d12ae15fd0aa71'), ObjectId('65bceb90f0d12ae15fd0aa72'), ObjectId('65bceb90f0d12ae15fd0aa73'), ObjectId('65bceb90f0d12ae15fd0aa74'), ObjectId('65bceb90f0d12ae15fd0aa75'), ObjectId('65bceb90f0d12ae15fd0aa76'), ObjectId('65bceb90f0d12ae15fd0aa77'), ObjectId('65bceb90f0d12ae15fd0aa78'), ObjectId('65bceb90f0d12ae15fd0aa79'), ObjectId('65bceb90f0d12ae15fd0aa7a'), ObjectId('65bceb90f0d12ae15fd0aa7b'), ObjectId('65bceb90f0d12ae15fd0aa7c'), ObjectId('65bceb90f0d12ae15fd0aa7d'), ObjectId('65bceb90f0d12ae15fd0aa7e'), ObjectId('65bceb90f0d12ae15fd0aa7f'), ObjectId('65bceb90f0d12ae15fd0aa80'), ObjectId('65bceb90f0d12ae15fd0aa81'), ObjectId('65bceb90f0d12ae15fd0aa82'), ObjectId('65bceb90f0d12ae15fd0aa83'), ObjectId('65bceb90f0d12ae15fd0aa84'), ObjectId('65bceb90f0d12ae15fd0aa85'), ObjectId('65bceb90f0d12ae15fd0aa86'), ObjectId('65bceb90f0d12ae15fd0aa87'), ObjectId('65bceb90f0d12ae15fd0aa88'), ObjectId('65bceb90f0d12ae15fd0aa89'), ObjectId('65bceb90f0d12ae15fd0aa8a'), ObjectId('65bceb90f0d12ae15fd0aa8b'), ObjectId('65bceb90f0d12ae15fd0aa8c'), ObjectId('65bceb90f0d12ae15fd0aa8d'), ObjectId('65bceb90f0d12ae15fd0aa8e'), ObjectId('65bceb90f0d12ae15fd0aa8f'), ObjectId('65bceb90f0d12ae15fd0aa90'), ObjectId('65bceb90f0d12ae15fd0aa91'), ObjectId('65bceb90f0d12ae15fd0aa92'), ObjectId('65bceb90f0d12ae15fd0aa93'), ObjectId('65bceb90f0d12ae15fd0aa94'), ObjectId('65bceb90f0d12ae15fd0aa95'), ObjectId('65bceb90f0d12ae15fd0aa96'), ObjectId('65bceb90f0d12ae15fd0aa97'), ObjectId('65bceb90f0d12ae15fd0aa98'), ObjectId('65bceb90f0d12ae15fd0aa99'), ObjectId('65bceb90f0d12ae15fd0aa9a'), ObjectId('65bceb90f0d12ae15fd0aa9b'), ObjectId('65bceb90f0d12ae15fd0aa9c'), ObjectId('65bceb90f0d12ae15fd0aa9d'), ObjectId('65bceb90f0d12ae15fd0aa9e'), ObjectId('65bceb90f0d12ae15fd0aa9f'), ObjectId('65bceb90f0d12ae15fd0aaa0'), ObjectId('65bceb90f0d12ae15fd0aaa1'), ObjectId('65bceb90f0d12ae15fd0aaa2'), ObjectId('65bceb90f0d12ae15fd0aaa3'), ObjectId('65bceb90f0d12ae15fd0aaa4'), ObjectId('65bceb90f0d12ae15fd0aaa5'), ObjectId('65bceb90f0d12ae15fd0aaa6'), ObjectId('65bceb90f0d12ae15fd0aaa7'), ObjectId('65bceb90f0d12ae15fd0aaa8'), ObjectId('65bceb90f0d12ae15fd0aaa9'), ObjectId('65bceb90f0d12ae15fd0aaaa'), ObjectId('65bceb90f0d12ae15fd0aaab'), ObjectId('65bceb90f0d12ae15fd0aaac'), ObjectId('65bceb90f0d12ae15fd0aaad')], acknowledged=True)"
     },
     "execution_count": 4,
     "metadata": {},
     "output_type": "execute_result"
    }
   ],
   "source": [
    "import json\n",
    "with open(\"surename.json\") as f:\n",
    "    data = json.loads(f.read())\n",
    "\n",
    "surenames.insert_many(data)"
   ],
   "metadata": {
    "collapsed": false,
    "ExecuteTime": {
     "end_time": "2024-02-02T13:18:08.941576Z",
     "start_time": "2024-02-02T13:18:08.858582Z"
    }
   },
   "id": "5e451d86cc4d42d2",
   "execution_count": 4
  },
  {
   "cell_type": "code",
   "outputs": [
    {
     "data": {
      "text/plain": "[{'_id': ObjectId('65bceb90f0d12ae15fd0a9e6'), 'surename': 'Aba '},\n {'_id': ObjectId('65bceb90f0d12ae15fd0a9e7'), 'surename': 'Abaco '},\n {'_id': ObjectId('65bceb90f0d12ae15fd0a9e8'), 'surename': 'Abagnale '},\n {'_id': ObjectId('65bceb90f0d12ae15fd0a9e9'), 'surename': 'Abagnali '},\n {'_id': ObjectId('65bceb90f0d12ae15fd0a9ea'), 'surename': 'Abagnato '},\n {'_id': ObjectId('65bceb90f0d12ae15fd0a9eb'), 'surename': 'Abalsamo '},\n {'_id': ObjectId('65bceb90f0d12ae15fd0a9ec'), 'surename': 'Abatangelo '},\n {'_id': ObjectId('65bceb90f0d12ae15fd0a9ed'), 'surename': 'Abatantuono '},\n {'_id': ObjectId('65bceb90f0d12ae15fd0a9ee'), 'surename': 'Abate '},\n {'_id': ObjectId('65bceb90f0d12ae15fd0a9ef'), 'surename': 'Abatecola '},\n {'_id': ObjectId('65bceb90f0d12ae15fd0a9f0'), 'surename': 'Abatedaga '},\n {'_id': ObjectId('65bceb90f0d12ae15fd0a9f1'), 'surename': 'Abategiovanni '},\n {'_id': ObjectId('65bceb90f0d12ae15fd0a9f2'), 'surename': 'Abatello '},\n {'_id': ObjectId('65bceb90f0d12ae15fd0a9f3'), 'surename': 'Abatemattei '},\n {'_id': ObjectId('65bceb90f0d12ae15fd0a9f4'), 'surename': 'Abatematteo '},\n {'_id': ObjectId('65bceb90f0d12ae15fd0a9f5'), 'surename': 'Abaterusso '},\n {'_id': ObjectId('65bceb90f0d12ae15fd0a9f6'), 'surename': 'Abatescianni '},\n {'_id': ObjectId('65bceb90f0d12ae15fd0a9f7'), 'surename': 'Abati '},\n {'_id': ObjectId('65bceb90f0d12ae15fd0a9f8'), 'surename': 'Abaticola '},\n {'_id': ObjectId('65bceb90f0d12ae15fd0a9f9'), 'surename': 'Abatiello '},\n {'_id': ObjectId('65bceb90f0d12ae15fd0a9fa'), 'surename': 'Abatino '},\n {'_id': ObjectId('65bceb90f0d12ae15fd0a9fb'), 'surename': 'Abatiscianni '},\n {'_id': ObjectId('65bceb90f0d12ae15fd0a9fc'), 'surename': 'Abaz '},\n {'_id': ObjectId('65bceb90f0d12ae15fd0a9fd'), 'surename': 'Abazi '},\n {'_id': ObjectId('65bceb90f0d12ae15fd0a9fe'), 'surename': 'Abazia '},\n {'_id': ObjectId('65bceb90f0d12ae15fd0a9ff'), 'surename': 'Abba '},\n {'_id': ObjectId('65bceb90f0d12ae15fd0aa00'), 'surename': \"Abba' \"},\n {'_id': ObjectId('65bceb90f0d12ae15fd0aa01'), 'surename': 'Abbadelli '},\n {'_id': ObjectId('65bceb90f0d12ae15fd0aa02'), 'surename': 'Abbadessa '},\n {'_id': ObjectId('65bceb90f0d12ae15fd0aa03'), 'surename': 'Abbado '},\n {'_id': ObjectId('65bceb90f0d12ae15fd0aa04'), 'surename': 'Abbafati '},\n {'_id': ObjectId('65bceb90f0d12ae15fd0aa05'), 'surename': 'Abbagnale '},\n {'_id': ObjectId('65bceb90f0d12ae15fd0aa06'), 'surename': 'Abbagnato '},\n {'_id': ObjectId('65bceb90f0d12ae15fd0aa07'), 'surename': 'Abballe '},\n {'_id': ObjectId('65bceb90f0d12ae15fd0aa08'), 'surename': 'Abbamonte '},\n {'_id': ObjectId('65bceb90f0d12ae15fd0aa09'), 'surename': 'Abbandonati '},\n {'_id': ObjectId('65bceb90f0d12ae15fd0aa0a'), 'surename': 'Abbandonato '},\n {'_id': ObjectId('65bceb90f0d12ae15fd0aa0b'), 'surename': 'Abbas '},\n {'_id': ObjectId('65bceb90f0d12ae15fd0aa0c'), 'surename': 'Abbascia '},\n {'_id': ObjectId('65bceb90f0d12ae15fd0aa0d'), 'surename': 'Abbasciano '},\n {'_id': ObjectId('65bceb90f0d12ae15fd0aa0e'), 'surename': 'Abbatangelo '},\n {'_id': ObjectId('65bceb90f0d12ae15fd0aa0f'), 'surename': 'Abbatantuono '},\n {'_id': ObjectId('65bceb90f0d12ae15fd0aa10'), 'surename': 'Abbate '},\n {'_id': ObjectId('65bceb90f0d12ae15fd0aa11'), 'surename': 'Abbatecola '},\n {'_id': ObjectId('65bceb90f0d12ae15fd0aa12'), 'surename': 'Abbatedaga '},\n {'_id': ObjectId('65bceb90f0d12ae15fd0aa13'), 'surename': 'Abbategiovanni '},\n {'_id': ObjectId('65bceb90f0d12ae15fd0aa14'), 'surename': 'Abbatelli '},\n {'_id': ObjectId('65bceb90f0d12ae15fd0aa15'), 'surename': 'Abbatemattei '},\n {'_id': ObjectId('65bceb90f0d12ae15fd0aa16'), 'surename': 'Abbatematteo '},\n {'_id': ObjectId('65bceb90f0d12ae15fd0aa17'), 'surename': 'Abbaterusso '},\n {'_id': ObjectId('65bceb90f0d12ae15fd0aa18'), 'surename': 'Abbatescianna '},\n {'_id': ObjectId('65bceb90f0d12ae15fd0aa19'), 'surename': 'Abbatescianni '},\n {'_id': ObjectId('65bceb90f0d12ae15fd0aa1a'), 'surename': 'Abbati '},\n {'_id': ObjectId('65bceb90f0d12ae15fd0aa1b'), 'surename': 'Abbaticola '},\n {'_id': ObjectId('65bceb90f0d12ae15fd0aa1c'), 'surename': 'Abbatiscianni '},\n {'_id': ObjectId('65bceb90f0d12ae15fd0aa1d'), 'surename': 'Abbattista '},\n {'_id': ObjectId('65bceb90f0d12ae15fd0aa1e'), 'surename': 'Abbazia '},\n {'_id': ObjectId('65bceb90f0d12ae15fd0aa1f'), 'surename': 'Abbellito '},\n {'_id': ObjectId('65bceb90f0d12ae15fd0aa20'), 'surename': 'Abbiate '},\n {'_id': ObjectId('65bceb90f0d12ae15fd0aa21'), 'surename': 'Abbiati '},\n {'_id': ObjectId('65bceb90f0d12ae15fd0aa22'), 'surename': 'Abbiento '},\n {'_id': ObjectId('65bceb90f0d12ae15fd0aa23'), 'surename': 'Abbinante '},\n {'_id': ObjectId('65bceb90f0d12ae15fd0aa24'), 'surename': 'Abbisogni '},\n {'_id': ObjectId('65bceb90f0d12ae15fd0aa25'), 'surename': 'Abbisogno '},\n {'_id': ObjectId('65bceb90f0d12ae15fd0aa26'), 'surename': 'Abbondandolo '},\n {'_id': ObjectId('65bceb90f0d12ae15fd0aa27'), 'surename': 'Abbondante '},\n {'_id': ObjectId('65bceb90f0d12ae15fd0aa28'), 'surename': 'Abbondanti '},\n {'_id': ObjectId('65bceb90f0d12ae15fd0aa29'), 'surename': 'Abbondanza '},\n {'_id': ObjectId('65bceb90f0d12ae15fd0aa2a'), 'surename': 'Abbondanzieri '},\n {'_id': ObjectId('65bceb90f0d12ae15fd0aa2b'), 'surename': 'Abbondanzio '},\n {'_id': ObjectId('65bceb90f0d12ae15fd0aa2c'), 'surename': 'Abbondi '},\n {'_id': ObjectId('65bceb90f0d12ae15fd0aa2d'), 'surename': 'Abbondio '},\n {'_id': ObjectId('65bceb90f0d12ae15fd0aa2e'), 'surename': 'Abbonizio '},\n {'_id': ObjectId('65bceb90f0d12ae15fd0aa2f'), 'surename': 'Abbracciavento '},\n {'_id': ObjectId('65bceb90f0d12ae15fd0aa30'), 'surename': 'Abbrescia '},\n {'_id': ObjectId('65bceb90f0d12ae15fd0aa31'), 'surename': 'Abbriano '},\n {'_id': ObjectId('65bceb90f0d12ae15fd0aa32'), 'surename': 'Abbruscato '},\n {'_id': ObjectId('65bceb90f0d12ae15fd0aa33'), 'surename': 'Abbruzzese '},\n {'_id': ObjectId('65bceb90f0d12ae15fd0aa34'), 'surename': 'Abbruzzesi '},\n {'_id': ObjectId('65bceb90f0d12ae15fd0aa35'), 'surename': 'Abbruzzi '},\n {'_id': ObjectId('65bceb90f0d12ae15fd0aa36'), 'surename': 'Abbruzzo '},\n {'_id': ObjectId('65bceb90f0d12ae15fd0aa37'), 'surename': 'Abbundo '},\n {'_id': ObjectId('65bceb90f0d12ae15fd0aa38'), 'surename': \"Abbura' \"},\n {'_id': ObjectId('65bceb90f0d12ae15fd0aa39'), 'surename': 'Abburà '},\n {'_id': ObjectId('65bceb90f0d12ae15fd0aa3a'), 'surename': 'Abd Alla '},\n {'_id': ObjectId('65bceb90f0d12ae15fd0aa3b'), 'surename': 'Abdalla '},\n {'_id': ObjectId('65bceb90f0d12ae15fd0aa3c'), 'surename': 'Abdallah '},\n {'_id': ObjectId('65bceb90f0d12ae15fd0aa3d'), 'surename': 'Abdel Rahman '},\n {'_id': ObjectId('65bceb90f0d12ae15fd0aa3e'), 'surename': 'Abdelrahman '},\n {'_id': ObjectId('65bceb90f0d12ae15fd0aa3f'), 'surename': 'Abdo '},\n {'_id': ObjectId('65bceb90f0d12ae15fd0aa40'), 'surename': 'Abdou '},\n {'_id': ObjectId('65bceb90f0d12ae15fd0aa41'), 'surename': 'Abdul '},\n {'_id': ObjectId('65bceb90f0d12ae15fd0aa42'), 'surename': 'Abdullah '},\n {'_id': ObjectId('65bceb90f0d12ae15fd0aa43'), 'surename': 'Abdullahi '},\n {'_id': ObjectId('65bceb90f0d12ae15fd0aa44'), 'surename': 'Abe '},\n {'_id': ObjectId('65bceb90f0d12ae15fd0aa45'), 'surename': 'Abela '},\n {'_id': ObjectId('65bceb90f0d12ae15fd0aa46'), 'surename': 'Abele '},\n {'_id': ObjectId('65bceb90f0d12ae15fd0aa47'), 'surename': 'Abeli '},\n {'_id': ObjectId('65bceb90f0d12ae15fd0aa48'), 'surename': 'Abella '},\n {'_id': ObjectId('65bceb90f0d12ae15fd0aa49'), 'surename': 'Abelli '},\n {'_id': ObjectId('65bceb90f0d12ae15fd0aa4a'), 'surename': 'Abello '},\n {'_id': ObjectId('65bceb90f0d12ae15fd0aa4b'), 'surename': 'Abeltino '},\n {'_id': ObjectId('65bceb90f0d12ae15fd0aa4c'), 'surename': 'Abenante '},\n {'_id': ObjectId('65bceb90f0d12ae15fd0aa4d'), 'surename': 'Abeni '},\n {'_id': ObjectId('65bceb90f0d12ae15fd0aa4e'), 'surename': 'Abete '},\n {'_id': ObjectId('65bceb90f0d12ae15fd0aa4f'), 'surename': 'Abeti '},\n {'_id': ObjectId('65bceb90f0d12ae15fd0aa50'), 'surename': 'Abis '},\n {'_id': ObjectId('65bceb90f0d12ae15fd0aa51'), 'surename': 'Abiuso '},\n {'_id': ObjectId('65bceb90f0d12ae15fd0aa52'), 'surename': 'Ablondi '},\n {'_id': ObjectId('65bceb90f0d12ae15fd0aa53'), 'surename': 'Abo '},\n {'_id': ObjectId('65bceb90f0d12ae15fd0aa54'), 'surename': 'Abolaffio '},\n {'_id': ObjectId('65bceb90f0d12ae15fd0aa55'), 'surename': 'Abondi '},\n {'_id': ObjectId('65bceb90f0d12ae15fd0aa56'), 'surename': 'Abondio '},\n {'_id': ObjectId('65bceb90f0d12ae15fd0aa57'), 'surename': 'Abozzi '},\n {'_id': ObjectId('65bceb90f0d12ae15fd0aa58'), 'surename': 'Abraham '},\n {'_id': ObjectId('65bceb90f0d12ae15fd0aa59'), 'surename': 'Abram '},\n {'_id': ObjectId('65bceb90f0d12ae15fd0aa5a'), 'surename': 'Abrami '},\n {'_id': ObjectId('65bceb90f0d12ae15fd0aa5b'), 'surename': 'Abramo '},\n {'_id': ObjectId('65bceb90f0d12ae15fd0aa5c'), 'surename': 'Abrate '},\n {'_id': ObjectId('65bceb90f0d12ae15fd0aa5d'), 'surename': 'Abregal '},\n {'_id': ObjectId('65bceb90f0d12ae15fd0aa5e'), 'surename': 'Abrescia '},\n {'_id': ObjectId('65bceb90f0d12ae15fd0aa5f'), 'surename': 'Abriani '},\n {'_id': ObjectId('65bceb90f0d12ae15fd0aa60'), 'surename': 'Abriano '},\n {'_id': ObjectId('65bceb90f0d12ae15fd0aa61'), 'surename': 'Abrigo '},\n {'_id': ObjectId('65bceb90f0d12ae15fd0aa62'), 'surename': 'Abrile '},\n {'_id': ObjectId('65bceb90f0d12ae15fd0aa63'), 'surename': 'Abriola '},\n {'_id': ObjectId('65bceb90f0d12ae15fd0aa64'), 'surename': 'Abrioli '},\n {'_id': ObjectId('65bceb90f0d12ae15fd0aa65'), 'surename': 'Abrioni '},\n {'_id': ObjectId('65bceb90f0d12ae15fd0aa66'), 'surename': 'Abronzino '},\n {'_id': ObjectId('65bceb90f0d12ae15fd0aa67'), 'surename': 'Abronzo '},\n {'_id': ObjectId('65bceb90f0d12ae15fd0aa68'), 'surename': 'Abruscato '},\n {'_id': ObjectId('65bceb90f0d12ae15fd0aa69'), 'surename': 'Abruzzese '},\n {'_id': ObjectId('65bceb90f0d12ae15fd0aa6a'), 'surename': 'Abruzzesi '},\n {'_id': ObjectId('65bceb90f0d12ae15fd0aa6b'), 'surename': 'Abruzzi '},\n {'_id': ObjectId('65bceb90f0d12ae15fd0aa6c'), 'surename': 'Abruzzini '},\n {'_id': ObjectId('65bceb90f0d12ae15fd0aa6d'), 'surename': 'Abruzzo '},\n {'_id': ObjectId('65bceb90f0d12ae15fd0aa6e'), 'surename': 'Abundo '},\n {'_id': ObjectId('65bceb90f0d12ae15fd0aa6f'), 'surename': 'Abutzu '},\n {'_id': ObjectId('65bceb90f0d12ae15fd0aa70'), 'surename': 'Acampora '},\n {'_id': ObjectId('65bceb90f0d12ae15fd0aa71'), 'surename': 'Acanfora '},\n {'_id': ObjectId('65bceb90f0d12ae15fd0aa72'), 'surename': 'Acardi '},\n {'_id': ObjectId('65bceb90f0d12ae15fd0aa73'), 'surename': 'Acca '},\n {'_id': ObjectId('65bceb90f0d12ae15fd0aa74'), 'surename': 'Accardi '},\n {'_id': ObjectId('65bceb90f0d12ae15fd0aa75'), 'surename': 'Accardo '},\n {'_id': ObjectId('65bceb90f0d12ae15fd0aa76'), 'surename': 'Accareddu '},\n {'_id': ObjectId('65bceb90f0d12ae15fd0aa77'), 'surename': 'Accargiu '},\n {'_id': ObjectId('65bceb90f0d12ae15fd0aa78'), 'surename': 'Accarini '},\n {'_id': ObjectId('65bceb90f0d12ae15fd0aa79'), 'surename': 'Accarino '},\n {'_id': ObjectId('65bceb90f0d12ae15fd0aa7a'), 'surename': 'Accastello '},\n {'_id': ObjectId('65bceb90f0d12ae15fd0aa7b'), 'surename': 'Accetta '},\n {'_id': ObjectId('65bceb90f0d12ae15fd0aa7c'), 'surename': 'Accetti '},\n {'_id': ObjectId('65bceb90f0d12ae15fd0aa7d'), 'surename': 'Accetto '},\n {'_id': ObjectId('65bceb90f0d12ae15fd0aa7e'), 'surename': 'Accettola '},\n {'_id': ObjectId('65bceb90f0d12ae15fd0aa7f'), 'surename': 'Accettulli '},\n {'_id': ObjectId('65bceb90f0d12ae15fd0aa80'), 'surename': 'Accettullo '},\n {'_id': ObjectId('65bceb90f0d12ae15fd0aa81'), 'surename': 'Accettura '},\n {'_id': ObjectId('65bceb90f0d12ae15fd0aa82'), 'surename': 'Accetturi '},\n {'_id': ObjectId('65bceb90f0d12ae15fd0aa83'), 'surename': 'Accetturo '},\n {'_id': ObjectId('65bceb90f0d12ae15fd0aa84'), 'surename': 'Acchiardi '},\n {'_id': ObjectId('65bceb90f0d12ae15fd0aa85'), 'surename': 'Acchiardo '},\n {'_id': ObjectId('65bceb90f0d12ae15fd0aa86'), 'surename': 'Acciai '},\n {'_id': ObjectId('65bceb90f0d12ae15fd0aa87'), 'surename': 'Acciaio '},\n {'_id': ObjectId('65bceb90f0d12ae15fd0aa88'), 'surename': 'Acciaioli '},\n {'_id': ObjectId('65bceb90f0d12ae15fd0aa89'), 'surename': 'Acciardi '},\n {'_id': ObjectId('65bceb90f0d12ae15fd0aa8a'), 'surename': 'Acciaresi '},\n {'_id': ObjectId('65bceb90f0d12ae15fd0aa8b'), 'surename': 'Acciari '},\n {'_id': ObjectId('65bceb90f0d12ae15fd0aa8c'), 'surename': 'Acciarini '},\n {'_id': ObjectId('65bceb90f0d12ae15fd0aa8d'), 'surename': 'Acciarino '},\n {'_id': ObjectId('65bceb90f0d12ae15fd0aa8e'), 'surename': 'Acciarito '},\n {'_id': ObjectId('65bceb90f0d12ae15fd0aa8f'), 'surename': 'Acciaro '},\n {'_id': ObjectId('65bceb90f0d12ae15fd0aa90'), 'surename': 'Acciarresi '},\n {'_id': ObjectId('65bceb90f0d12ae15fd0aa91'), 'surename': 'Acciarri '},\n {'_id': ObjectId('65bceb90f0d12ae15fd0aa92'), 'surename': 'Accietto '},\n {'_id': ObjectId('65bceb90f0d12ae15fd0aa93'), 'surename': 'Accili '},\n {'_id': ObjectId('65bceb90f0d12ae15fd0aa94'), 'surename': 'Accinelli '},\n {'_id': ObjectId('65bceb90f0d12ae15fd0aa95'), 'surename': 'Accini '},\n {'_id': ObjectId('65bceb90f0d12ae15fd0aa96'), 'surename': 'Accinni '},\n {'_id': ObjectId('65bceb90f0d12ae15fd0aa97'), 'surename': 'Accinno '},\n {'_id': ObjectId('65bceb90f0d12ae15fd0aa98'), 'surename': 'Accino '},\n {'_id': ObjectId('65bceb90f0d12ae15fd0aa99'), 'surename': 'Accio '},\n {'_id': ObjectId('65bceb90f0d12ae15fd0aa9a'), 'surename': 'Acciu '},\n {'_id': ObjectId('65bceb90f0d12ae15fd0aa9b'), 'surename': 'Accocci '},\n {'_id': ObjectId('65bceb90f0d12ae15fd0aa9c'), 'surename': 'Accogli '},\n {'_id': ObjectId('65bceb90f0d12ae15fd0aa9d'), 'surename': 'Accolla '},\n {'_id': ObjectId('65bceb90f0d12ae15fd0aa9e'), 'surename': 'Accolli '},\n {'_id': ObjectId('65bceb90f0d12ae15fd0aa9f'), 'surename': 'Accolti '},\n {'_id': ObjectId('65bceb90f0d12ae15fd0aaa0'), 'surename': 'Accomando '},\n {'_id': ObjectId('65bceb90f0d12ae15fd0aaa1'), 'surename': 'Acconci '},\n {'_id': ObjectId('65bceb90f0d12ae15fd0aaa2'), 'surename': 'Acconcia '},\n {'_id': ObjectId('65bceb90f0d12ae15fd0aaa3'), 'surename': 'Acconciagioco '},\n {'_id': ObjectId('65bceb90f0d12ae15fd0aaa4'), 'surename': 'Acconciagiogo '},\n {'_id': ObjectId('65bceb90f0d12ae15fd0aaa5'), 'surename': 'Acconcio '},\n {'_id': ObjectId('65bceb90f0d12ae15fd0aaa6'), 'surename': 'Accordi '},\n {'_id': ObjectId('65bceb90f0d12ae15fd0aaa7'), 'surename': 'Accordini '},\n {'_id': ObjectId('65bceb90f0d12ae15fd0aaa8'), 'surename': 'Accordino '},\n {'_id': ObjectId('65bceb90f0d12ae15fd0aaa9'), 'surename': 'Accordo '},\n {'_id': ObjectId('65bceb90f0d12ae15fd0aaaa'), 'surename': 'Accorinti '},\n {'_id': ObjectId('65bceb90f0d12ae15fd0aaab'), 'surename': 'Accornero '},\n {'_id': ObjectId('65bceb90f0d12ae15fd0aaac'), 'surename': 'Accorsi '},\n {'_id': ObjectId('65bceb90f0d12ae15fd0aaad'), 'surename': 'Accorsini '}]"
     },
     "execution_count": 7,
     "metadata": {},
     "output_type": "execute_result"
    }
   ],
   "source": [
    "results = surenames.find()\n",
    "[result for result in results]"
   ],
   "metadata": {
    "collapsed": false,
    "ExecuteTime": {
     "end_time": "2024-02-02T13:21:11.587789Z",
     "start_time": "2024-02-02T13:21:11.574494Z"
    }
   },
   "id": "62ec12bb8fdf1430",
   "execution_count": 7
  },
  {
   "cell_type": "code",
   "outputs": [
    {
     "data": {
      "text/plain": "[]"
     },
     "execution_count": 13,
     "metadata": {},
     "output_type": "execute_result"
    }
   ],
   "source": [
    "query = {\"surename\": \"Aba\"}\n",
    "querry_result = surenames.find(query)\n",
    "[result for result in querry_result]"
   ],
   "metadata": {
    "collapsed": false,
    "ExecuteTime": {
     "end_time": "2024-02-02T16:04:22.294973Z",
     "start_time": "2024-02-02T16:04:22.282719Z"
    }
   },
   "id": "c5ff15d10d354150",
   "execution_count": 13
  },
  {
   "cell_type": "code",
   "outputs": [],
   "source": [],
   "metadata": {
    "collapsed": false
   },
   "id": "64c117d01b27629c"
  }
 ],
 "metadata": {
  "kernelspec": {
   "display_name": "Python 3",
   "language": "python",
   "name": "python3"
  },
  "language_info": {
   "codemirror_mode": {
    "name": "ipython",
    "version": 2
   },
   "file_extension": ".py",
   "mimetype": "text/x-python",
   "name": "python",
   "nbconvert_exporter": "python",
   "pygments_lexer": "ipython2",
   "version": "2.7.6"
  }
 },
 "nbformat": 4,
 "nbformat_minor": 5
}
