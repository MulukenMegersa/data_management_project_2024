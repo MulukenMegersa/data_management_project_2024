{
 "cells": [
  {
   "cell_type": "code",
   "execution_count": 1,
   "id": "initial_id",
   "metadata": {
    "collapsed": true,
    "ExecuteTime": {
     "end_time": "2024-02-06T12:02:29.523572986Z",
     "start_time": "2024-02-06T12:02:26.886163633Z"
    }
   },
   "outputs": [
    {
     "name": "stdout",
     "output_type": "stream",
     "text": [
      "Defaulting to user installation because normal site-packages is not writeable\r\n",
      "Collecting pymongo\r\n",
      "  Downloading pymongo-4.6.1-cp310-cp310-manylinux_2_17_x86_64.manylinux2014_x86_64.whl (677 kB)\r\n",
      "\u001B[2K     \u001B[90m━━━━━━━━━━━━━━━━━━━━━━━━━━━━━━━━━━━━━━━\u001B[0m \u001B[32m677.1/677.1 KB\u001B[0m \u001B[31m6.4 MB/s\u001B[0m eta \u001B[36m0:00:00\u001B[0m00:01\u001B[0m00:01\u001B[0m\r\n",
      "\u001B[?25hRequirement already satisfied: dnspython<3.0.0,>=1.16.0 in /usr/lib/python3/dist-packages (from pymongo) (2.1.0)\r\n",
      "Installing collected packages: pymongo\r\n",
      "Successfully installed pymongo-4.6.1\r\n"
     ]
    }
   ],
   "source": [
    "! pip install pymongo"
   ]
  },
  {
   "cell_type": "code",
   "outputs": [],
   "source": [
    "from pymongo import MongoClient\n",
    "client = MongoClient('localhost', 27017)\n",
    "db = client.data_managment\n",
    "fnofi_health_worker = db.fnofi_health_worker"
   ],
   "metadata": {
    "collapsed": false,
    "ExecuteTime": {
     "end_time": "2024-02-06T12:02:34.199560527Z",
     "start_time": "2024-02-06T12:02:34.042559425Z"
    }
   },
   "id": "16216288f57b61ee",
   "execution_count": 2
  },
  {
   "cell_type": "code",
   "outputs": [
    {
     "data": {
      "text/plain": "InsertManyResult([ObjectId('65bf962320275b13d30e6a11'), ObjectId('65bf962320275b13d30e6a12'), ObjectId('65bf962320275b13d30e6a13'), ObjectId('65bf962320275b13d30e6a14'), ObjectId('65bf962320275b13d30e6a15'), ObjectId('65bf962320275b13d30e6a16'), ObjectId('65bf962320275b13d30e6a17'), ObjectId('65bf962320275b13d30e6a18'), ObjectId('65bf962320275b13d30e6a19'), ObjectId('65bf962320275b13d30e6a1a'), ObjectId('65bf962320275b13d30e6a1b')], acknowledged=True)"
     },
     "execution_count": 4,
     "metadata": {},
     "output_type": "execute_result"
    }
   ],
   "source": [
    "import json\n",
    "with open(\"./final_data/fnofi_data.json\") as f:\n",
    "    data = json.loads(f.read())\n",
    "\n",
    "fnofi_health_worker.insert_many(data)"
   ],
   "metadata": {
    "collapsed": false,
    "ExecuteTime": {
     "end_time": "2024-02-04T13:50:27.441817Z",
     "start_time": "2024-02-04T13:50:27.370327Z"
    }
   },
   "id": "fd0fed52f5c1366e",
   "execution_count": 4
  },
  {
   "cell_type": "code",
   "outputs": [
    {
     "data": {
      "text/plain": "[{'_id': ObjectId('65bf962320275b13d30e6a11'),\n  'person_id': 105687,\n  'surname': 'Abate',\n  'first_name': 'Vincenzo',\n  'date_of_birth': '1965-07-24T23:00:00.000000Z',\n  'birth_place': 'Agropoli (SA)',\n  'client_name': 'Salerno',\n  'special_register': [{'board_name': 'Fisioterapista',\n    'entry_number': 450,\n    'entry_suffix': None,\n    'inscripted_at': '01/02/2019',\n    'state_name': 'ISCRITTO',\n    'badge_class': 'badge badge-success',\n    'is_with_reserve': False}]},\n {'_id': ObjectId('65bf962320275b13d30e6a12'),\n  'person_id': 202922,\n  'surname': 'Abate',\n  'first_name': 'Stefania',\n  'date_of_birth': '1981-03-16T23:00:00.000000Z',\n  'birth_place': 'Salerno (SA)',\n  'client_name': 'OFI Napoli Avellino Benevento Caserta',\n  'special_register': [{'board_name': 'Fisioterapista',\n    'entry_number': 3776,\n    'entry_suffix': None,\n    'inscripted_at': '18/02/2020',\n    'state_name': 'ISCRITTO',\n    'badge_class': 'badge badge-success',\n    'is_with_reserve': False}]},\n {'_id': ObjectId('65bf962320275b13d30e6a13'),\n  'person_id': 173657,\n  'surname': 'Abate',\n  'first_name': 'Sandra',\n  'date_of_birth': '1979-07-17T22:00:00.000000Z',\n  'birth_place': 'Svizzera (EE)',\n  'client_name': 'Brescia Mantova',\n  'special_register': [{'board_name': 'Fisioterapista',\n    'entry_number': 860,\n    'entry_suffix': None,\n    'inscripted_at': '13/08/2019',\n    'state_name': 'ISCRITTO',\n    'badge_class': 'badge badge-success',\n    'is_with_reserve': False}]},\n {'_id': ObjectId('65bf962320275b13d30e6a14'),\n  'person_id': 165389,\n  'surname': 'Abate',\n  'first_name': 'Sabrina',\n  'date_of_birth': '1994-11-18T23:00:00.000000Z',\n  'birth_place': 'Pescara (PE)',\n  'client_name': 'Abruzzo',\n  'special_register': [{'board_name': 'Fisioterapista',\n    'entry_number': 1492,\n    'entry_suffix': None,\n    'inscripted_at': '22/06/2019',\n    'state_name': 'ISCRITTO',\n    'badge_class': 'badge badge-success',\n    'is_with_reserve': False}]},\n {'_id': ObjectId('65bf962320275b13d30e6a15'),\n  'person_id': 100680,\n  'surname': 'Abate',\n  'first_name': 'Marianna',\n  'date_of_birth': '1986-03-15T23:00:00.000000Z',\n  'birth_place': 'Nocera Inferiore (SA)',\n  'client_name': 'Salerno',\n  'special_register': [{'board_name': 'Fisioterapista',\n    'entry_number': 292,\n    'entry_suffix': None,\n    'inscripted_at': '23/01/2019',\n    'state_name': 'ISCRITTO',\n    'badge_class': 'badge badge-success',\n    'is_with_reserve': False}]},\n {'_id': ObjectId('65bf962320275b13d30e6a16'),\n  'person_id': 131217,\n  'surname': 'Abate',\n  'first_name': 'Enza',\n  'date_of_birth': '1971-08-11T22:00:00.000000Z',\n  'birth_place': 'Erice (TP)',\n  'client_name': 'Palermo Trapani',\n  'special_register': [{'board_name': 'Fisioterapista',\n    'entry_number': 631,\n    'entry_suffix': None,\n    'inscripted_at': '14/03/2019',\n    'state_name': 'ISCRITTO',\n    'badge_class': 'badge badge-success',\n    'is_with_reserve': False}]},\n {'_id': ObjectId('65bf962320275b13d30e6a17'),\n  'person_id': 101511,\n  'surname': 'Abate',\n  'first_name': 'Elena',\n  'date_of_birth': '1981-07-24T22:00:00.000000Z',\n  'birth_place': 'Savona (SV)',\n  'client_name': 'Liguria',\n  'special_register': [{'board_name': 'Fisioterapista',\n    'entry_number': 1074,\n    'entry_suffix': None,\n    'inscripted_at': '24/01/2019',\n    'state_name': 'ISCRITTO',\n    'badge_class': 'badge badge-success',\n    'is_with_reserve': False}]},\n {'_id': ObjectId('65bf962320275b13d30e6a18'),\n  'person_id': 206134,\n  'surname': 'Abate',\n  'first_name': 'Carmela',\n  'date_of_birth': '1981-04-08T22:00:00.000000Z',\n  'birth_place': 'Napoli (NA)',\n  'client_name': 'Lazio',\n  'special_register': [{'board_name': 'Fisioterapista',\n    'entry_number': 7750,\n    'entry_suffix': None,\n    'inscripted_at': '02/03/2020',\n    'state_name': 'ISCRITTO',\n    'badge_class': 'badge badge-success',\n    'is_with_reserve': False}]},\n {'_id': ObjectId('65bf962320275b13d30e6a19'),\n  'person_id': 125018,\n  'surname': 'Abate',\n  'first_name': 'Carla Gaetana Agata',\n  'date_of_birth': '1972-09-05T22:00:00.000000Z',\n  'birth_place': 'Catania (CT)',\n  'client_name': 'Catania Ragusa Siracusa',\n  'special_register': [{'board_name': 'Fisioterapista',\n    'entry_number': 671,\n    'entry_suffix': None,\n    'inscripted_at': '28/02/2019',\n    'state_name': 'ISCRITTO',\n    'badge_class': 'badge badge-success',\n    'is_with_reserve': False}]},\n {'_id': ObjectId('65bf962320275b13d30e6a1a'),\n  'person_id': 187935,\n  'surname': 'Abate',\n  'first_name': 'Barbara',\n  'date_of_birth': '1972-11-23T23:00:00.000000Z',\n  'birth_place': 'Montichiari (BS)',\n  'client_name': 'Brescia Mantova',\n  'special_register': [{'board_name': 'Fisioterapista',\n    'entry_number': 1074,\n    'entry_suffix': None,\n    'inscripted_at': '13/11/2019',\n    'state_name': 'ISCRITTO',\n    'badge_class': 'badge badge-success',\n    'is_with_reserve': False}]},\n {'_id': ObjectId('65bf962320275b13d30e6a1b'),\n  'person_id': 199173,\n  'surname': 'Abate',\n  'first_name': 'Anna',\n  'date_of_birth': '1975-05-28T23:00:00.000000Z',\n  'birth_place': 'Brescia (BS)',\n  'client_name': 'Brescia Mantova',\n  'special_register': [{'board_name': 'Fisioterapista',\n    'entry_number': 1397,\n    'entry_suffix': None,\n    'inscripted_at': '29/01/2020',\n    'state_name': 'ISCRITTO',\n    'badge_class': 'badge badge-success',\n    'is_with_reserve': False}]}]"
     },
     "execution_count": 5,
     "metadata": {},
     "output_type": "execute_result"
    }
   ],
   "source": [
    "results = fnofi_health_worker.find()\n",
    "[result for result in results]"
   ],
   "metadata": {
    "collapsed": false,
    "ExecuteTime": {
     "end_time": "2024-02-04T13:52:31.360530Z",
     "start_time": "2024-02-04T13:52:31.340879Z"
    }
   },
   "id": "e667c9bdae044323",
   "execution_count": 5
  },
  {
   "cell_type": "code",
   "outputs": [],
   "source": [],
   "metadata": {
    "collapsed": false
   },
   "id": "213697b16ab60899"
  }
 ],
 "metadata": {
  "kernelspec": {
   "display_name": "Python 3",
   "language": "python",
   "name": "python3"
  },
  "language_info": {
   "codemirror_mode": {
    "name": "ipython",
    "version": 2
   },
   "file_extension": ".py",
   "mimetype": "text/x-python",
   "name": "python",
   "nbconvert_exporter": "python",
   "pygments_lexer": "ipython2",
   "version": "2.7.6"
  }
 },
 "nbformat": 4,
 "nbformat_minor": 5
}
